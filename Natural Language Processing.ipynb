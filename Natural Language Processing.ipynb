{
 "cells": [
  {
   "cell_type": "markdown",
   "id": "6f6bbd3b-bc5a-4cc6-bd7e-c316acce68c5",
   "metadata": {},
   "source": [
    "### Introduction to (NLTK)\n",
    "VADER is a rule-based sentiment analysis tool that is especially effective on social media and other short, informal texts."
   ]
  },
  {
   "cell_type": "code",
   "execution_count": 137,
   "id": "8ee81771-117b-4175-a00d-a8c2562955b8",
   "metadata": {},
   "outputs": [
    {
     "name": "stdout",
     "output_type": "stream",
     "text": [
      "Requirement already satisfied: nltk in c:\\users\\hey\\anaconda3\\lib\\site-packages (3.8.1)\n",
      "Requirement already satisfied: click in c:\\users\\hey\\anaconda3\\lib\\site-packages (from nltk) (8.1.7)\n",
      "Requirement already satisfied: joblib in c:\\users\\hey\\anaconda3\\lib\\site-packages (from nltk) (1.4.2)\n",
      "Requirement already satisfied: regex>=2021.8.3 in c:\\users\\hey\\anaconda3\\lib\\site-packages (from nltk) (2023.10.3)\n",
      "Requirement already satisfied: tqdm in c:\\users\\hey\\anaconda3\\lib\\site-packages (from nltk) (4.66.4)\n",
      "Requirement already satisfied: colorama in c:\\users\\hey\\anaconda3\\lib\\site-packages (from click->nltk) (0.4.6)\n"
     ]
    }
   ],
   "source": [
    "!pip install nltk"
   ]
  },
  {
   "cell_type": "code",
   "execution_count": null,
   "id": "707ea5f8-80fe-498f-a5af-5ca85d9a68bf",
   "metadata": {},
   "outputs": [],
   "source": []
  },
  {
   "cell_type": "code",
   "execution_count": 138,
   "id": "243c1c3b-e01a-4dac-bfe2-e86e0212d4ca",
   "metadata": {},
   "outputs": [],
   "source": [
    "import nltk\n",
    "from nltk.sentiment.vader import SentimentIntensityAnalyzer"
   ]
  },
  {
   "cell_type": "code",
   "execution_count": 139,
   "id": "dba7b067-197c-4daf-8900-833f01d7ce5c",
   "metadata": {},
   "outputs": [
    {
     "name": "stderr",
     "output_type": "stream",
     "text": [
      "[nltk_data] Downloading package vader_lexicon to\n",
      "[nltk_data]     C:\\Users\\hey\\AppData\\Roaming\\nltk_data...\n",
      "[nltk_data]   Package vader_lexicon is already up-to-date!\n"
     ]
    },
    {
     "data": {
      "text/plain": [
       "True"
      ]
     },
     "execution_count": 139,
     "metadata": {},
     "output_type": "execute_result"
    }
   ],
   "source": [
    "nltk.download(\"vader_lexicon\")"
   ]
  },
  {
   "cell_type": "code",
   "execution_count": 140,
   "id": "ce256401-d7b7-4845-936f-f0c33ad97e3c",
   "metadata": {},
   "outputs": [],
   "source": [
    "sia = SentimentIntensityAnalyzer()"
   ]
  },
  {
   "cell_type": "code",
   "execution_count": null,
   "id": "f364694b-4da4-405f-939e-2dda685ef426",
   "metadata": {},
   "outputs": [],
   "source": []
  },
  {
   "cell_type": "code",
   "execution_count": 141,
   "id": "1a3be44b-33e9-42a6-8643-9774d74cd31f",
   "metadata": {},
   "outputs": [],
   "source": [
    "sentence = \" I absolutely love this product! It's amazing and works great.\""
   ]
  },
  {
   "cell_type": "code",
   "execution_count": null,
   "id": "7beb719e-723e-44fd-a6c6-b7b079318e0b",
   "metadata": {},
   "outputs": [],
   "source": []
  },
  {
   "cell_type": "code",
   "execution_count": 142,
   "id": "32f3f026-4bce-47c8-9878-01dd568be97e",
   "metadata": {},
   "outputs": [],
   "source": [
    "sentiment_scores = sia.polarity_scores(sentence)"
   ]
  },
  {
   "cell_type": "code",
   "execution_count": 143,
   "id": "2dc0efc6-6dc6-4aa3-a1c4-5068995fc238",
   "metadata": {},
   "outputs": [
    {
     "name": "stdout",
     "output_type": "stream",
     "text": [
      "{'neg': 0.0, 'neu': 0.321, 'pos': 0.679, 'compound': 0.9285}\n"
     ]
    }
   ],
   "source": [
    "print(sentiment_scores) # we are more interested in the compound score, it a measure of all three"
   ]
  },
  {
   "cell_type": "markdown",
   "id": "b9a0aecb-6966-4950-8d4a-e0cf6b567b85",
   "metadata": {},
   "source": [
    "### The output will give us four scores:\n",
    "* \"neg\"- Negative sentiment score\n",
    "* \"neu\"- Neutral sentiment score\n",
    "* \"pos\"- Positive sentiment score\n",
    "* \"compound\"- Overall sentiment score, which ranges from -1(most negative) to +1(most positive)"
   ]
  },
  {
   "cell_type": "code",
   "execution_count": null,
   "id": "9b32742b-945a-4fc1-a42f-ed4fd00b3349",
   "metadata": {},
   "outputs": [],
   "source": []
  },
  {
   "cell_type": "markdown",
   "id": "21e4ad42-fe9f-4d74-8f7f-39497a1dc46d",
   "metadata": {},
   "source": [
    "### Interpreting the Sentiment Scores\n",
    "\n",
    "The compound score is particularly important as it gives us a single value to determine the overall sentiment.\n",
    "\n",
    "Generally, the following rules apply:\n",
    "\n",
    "* A compund score >= 0.05 indicates positive sentiment\n",
    "* A compound score of <=-0.05 indicates negative sentiment\n",
    "* A compound score between -0.05 and 0.05 indicates neutral sentiment"
   ]
  },
  {
   "cell_type": "code",
   "execution_count": 146,
   "id": "37c04efa-81a1-41b7-94dd-bfe32ceecfb3",
   "metadata": {},
   "outputs": [
    {
     "data": {
      "text/plain": [
       "{'neg': 0.0, 'neu': 0.321, 'pos': 0.679, 'compound': 0.9285}"
      ]
     },
     "execution_count": 146,
     "metadata": {},
     "output_type": "execute_result"
    }
   ],
   "source": [
    "sentiment_scores"
   ]
  },
  {
   "cell_type": "code",
   "execution_count": 147,
   "id": "328652ea-e6a6-4949-b2e5-53b1adb78b4c",
   "metadata": {},
   "outputs": [
    {
     "data": {
      "text/plain": [
       "0.9285"
      ]
     },
     "execution_count": 147,
     "metadata": {},
     "output_type": "execute_result"
    }
   ],
   "source": [
    "sentiment_scores[\"compound\"]"
   ]
  },
  {
   "cell_type": "code",
   "execution_count": 148,
   "id": "f3df5b9b-0efd-42bc-a969-717488407e7a",
   "metadata": {},
   "outputs": [
    {
     "name": "stdout",
     "output_type": "stream",
     "text": [
      "This sentence is positive\n"
     ]
    }
   ],
   "source": [
    "if sentiment_scores[\"compound\"] >= 0.05:\n",
    "    print(\"This sentence is positive\")\n",
    "elif sentiment_scores[\"compound\"] <=-0.05:\n",
    "    print(\"This sentence is negative\")\n",
    "else:\n",
    "    print(\"This sentence is neutral\")"
   ]
  },
  {
   "cell_type": "code",
   "execution_count": null,
   "id": "545b2855-1377-46ae-8221-b04fb9d4914e",
   "metadata": {},
   "outputs": [],
   "source": []
  },
  {
   "cell_type": "code",
   "execution_count": null,
   "id": "808bb04e-fbd2-459c-bf9b-9ac109811cd0",
   "metadata": {},
   "outputs": [],
   "source": []
  },
  {
   "cell_type": "code",
   "execution_count": 149,
   "id": "0cbc225b-ad76-4dfc-be2f-1d96109b0995",
   "metadata": {},
   "outputs": [
    {
     "data": {
      "text/plain": [
       "{'neg': 0.0, 'neu': 0.321, 'pos': 0.679, 'compound': 0.9285}"
      ]
     },
     "execution_count": 149,
     "metadata": {},
     "output_type": "execute_result"
    }
   ],
   "source": [
    "### Another Examplesentence = \" I actually hate this song! It reminds me of a sad event in the past.\"\n",
    "sentiment_scores = sia.polarity_scores(sentence)\n",
    "sentiment_scores"
   ]
  },
  {
   "cell_type": "code",
   "execution_count": 150,
   "id": "4de83901-a1ce-43c5-8237-e27bb0aeb1b6",
   "metadata": {},
   "outputs": [
    {
     "name": "stdout",
     "output_type": "stream",
     "text": [
      "This sentence is negative\n"
     ]
    }
   ],
   "source": [
    "sentence = \" I actually hate this song! It reminds me of a sad event in the past.\"\n",
    "sentiment_scores = sia.polarity_scores(sentence)\n",
    "if sentiment_scores[\"compound\"] >= 0.05:\n",
    "    print(\"This sentence is positive\")\n",
    "elif sentiment_scores[\"compound\"] <=-0.05:\n",
    "    print(\"This sentence is negative\")\n",
    "else:\n",
    "    print(\"This sentence is neutral\")"
   ]
  },
  {
   "cell_type": "code",
   "execution_count": null,
   "id": "1f6e0f6e-67bb-4984-a663-fa0562c94f6f",
   "metadata": {},
   "outputs": [],
   "source": []
  },
  {
   "cell_type": "code",
   "execution_count": null,
   "id": "751ca577-06a9-4ee0-875b-842fe03418d4",
   "metadata": {},
   "outputs": [],
   "source": []
  },
  {
   "cell_type": "code",
   "execution_count": 151,
   "id": "6ef2fb3f-028d-433a-ba54-d411aca258fa",
   "metadata": {},
   "outputs": [],
   "source": [
    "# Example on Multiple sentences"
   ]
  },
  {
   "cell_type": "code",
   "execution_count": 152,
   "id": "a4254903-65d0-4778-8e42-a60ba1b7c8f3",
   "metadata": {},
   "outputs": [],
   "source": [
    "sentences= [\n",
    "    \"I had a great day today!\",\n",
    "    \"This is the worst movie I have ever seen.\",\n",
    "    \"It's okay, not the best but not the worst.\",\n",
    "    \"I'm so happy with my results!\",\n",
    "    \"I don't like this product at all.\"\n",
    "    \n",
    "]"
   ]
  },
  {
   "cell_type": "code",
   "execution_count": 153,
   "id": "5c0a3a88-7dcd-4618-ad33-f4400b138521",
   "metadata": {},
   "outputs": [
    {
     "name": "stdout",
     "output_type": "stream",
     "text": [
      "I had a great day today!\n",
      "This sentence is positive\n",
      "\n",
      "This is the worst movie I have ever seen.\n",
      "This sentence is negative\n",
      "\n",
      "It's okay, not the best but not the worst.\n",
      "This sentence is positive\n",
      "\n",
      "I'm so happy with my results!\n",
      "This sentence is positive\n",
      "\n",
      "I don't like this product at all.\n",
      "This sentence is negative\n",
      "\n"
     ]
    }
   ],
   "source": [
    "for sentence in sentences:\n",
    "    sentiment_scores = sia.polarity_scores(sentence)\n",
    "    print(sentence)\n",
    "    if sentiment_scores[\"compound\"] >= 0.05:\n",
    "        print(\"This sentence is positive\\n\")\n",
    "    elif sentiment_scores[\"compound\"] <=-0.05:\n",
    "        print(\"This sentence is negative\\n\")\n",
    "    else:\n",
    "        print(\"This sentence is neutral\\n\")"
   ]
  },
  {
   "cell_type": "code",
   "execution_count": null,
   "id": "884b0ceb-5108-4b79-8025-4771aae9cbc6",
   "metadata": {},
   "outputs": [],
   "source": []
  },
  {
   "cell_type": "code",
   "execution_count": 154,
   "id": "8290e903-be06-427c-b4e6-24d0f16ea1fa",
   "metadata": {},
   "outputs": [],
   "source": [
    "# Example"
   ]
  },
  {
   "cell_type": "code",
   "execution_count": 155,
   "id": "39935638-e1a9-4813-8c27-1af7ecc3bda4",
   "metadata": {},
   "outputs": [],
   "source": [
    "complex_sentences = [\n",
    "    \"I'm not really sure how I feel about this.\",\n",
    "    \"It's amazing how terrible this service is.\",\n",
    "    \"The product was okay, but the customer service was exceptional.\",\n",
    "    \"I love the food, but the service was dreadful.\",\n",
    "    \"Sure, the  movie was fine, if you're into that sort of thing\"\n",
    "]"
   ]
  },
  {
   "cell_type": "code",
   "execution_count": 156,
   "id": "e9b839e2-2185-44c3-b103-39288e87f205",
   "metadata": {},
   "outputs": [
    {
     "name": "stdout",
     "output_type": "stream",
     "text": [
      "I'm not really sure how I feel about this.\n",
      "This sentence is negative with compound score of sentiment_score of -0.2912\n",
      "\n",
      "It's amazing how terrible this service is.\n",
      "This sentence is positive with compound score of sentiment_score of 0.1779\n",
      "\n",
      "The product was okay, but the customer service was exceptional.\n",
      "This sentence is positive with compound score of sentiment_score of 0.1154\n",
      "\n",
      "I love the food, but the service was dreadful.\n",
      "This sentence is negative with compound score of sentiment_score of -0.3071\n",
      "\n",
      "Sure, the  movie was fine, if you're into that sort of thing\n",
      "This sentence is positive with compound score of sentiment_score of 0.4767\n",
      "\n"
     ]
    }
   ],
   "source": [
    "for sentence in complex_sentences:\n",
    "    sentiment_scores = sia.polarity_scores(sentence)\n",
    "    print(sentence)\n",
    "    if sentiment_scores[\"compound\"] >= 0.05:\n",
    "        print(f\"This sentence is positive with compound score of sentiment_score of {sentiment_scores[\"compound\"]}\\n\")\n",
    "    elif sentiment_scores[\"compound\"] <=-0.05:\n",
    "        print(f\"This sentence is negative with compound score of sentiment_score of {sentiment_scores[\"compound\"]}\\n\")\n",
    "    else:\n",
    "        print(f\"This sentence is neutral with compound score of sentiment_score of {sentiment_scores[\"compound\"]}\\n\")"
   ]
  },
  {
   "cell_type": "code",
   "execution_count": null,
   "id": "ee21d49b-0ac7-40f3-87f1-ccdee5593042",
   "metadata": {},
   "outputs": [],
   "source": []
  },
  {
   "cell_type": "code",
   "execution_count": 157,
   "id": "1763d897-34cb-4afe-a81c-f318d5a5a305",
   "metadata": {},
   "outputs": [],
   "source": [
    "# Example"
   ]
  },
  {
   "cell_type": "code",
   "execution_count": 158,
   "id": "c60cd3ae-d90f-4059-bc04-9dfa815992ad",
   "metadata": {},
   "outputs": [],
   "source": [
    "paragraph = \"\"\"I recently purchased this product and have mixed feelings about it.\n",
    "    The build quality is excellent, and it performs as advertised.\n",
    "    However, the setup process was frustratingly complicated and the customer support was unhelpful.\n",
    "    Overall, while the product itself is great, the experience left me dissapointed.\n",
    "\"\"\""
   ]
  },
  {
   "cell_type": "code",
   "execution_count": 159,
   "id": "18e671c6-800d-4bf5-989c-8cf32c0207aa",
   "metadata": {},
   "outputs": [
    {
     "name": "stdout",
     "output_type": "stream",
     "text": [
      "This sentence is positive with compound score of sentiment_score of 0.8176\n",
      "\n"
     ]
    }
   ],
   "source": [
    "sentiment_scores = sia.polarity_scores(paragraph)\n",
    "if sentiment_scores[\"compound\"] >= 0.05:\n",
    "        print(f\"This sentence is positive with compound score of sentiment_score of {sentiment_scores[\"compound\"]}\\n\")\n",
    "elif sentiment_scores[\"compound\"] <= -0.05:\n",
    "        print(f\"This sentence is negative with compound score of sentiment_score of {sentiment_scores[\"compound\"]}\\n\")\n",
    "else:\n",
    "        print(f\"This sentence is neutral with compound score of sentiment_score of {sentiment_scores[\"compound\"]}\\n\")"
   ]
  },
  {
   "cell_type": "code",
   "execution_count": null,
   "id": "511e94bc-ded4-4b6b-b88c-880bd9c9f863",
   "metadata": {},
   "outputs": [],
   "source": []
  },
  {
   "cell_type": "code",
   "execution_count": 160,
   "id": "62fb0e43-cac3-4041-a84c-c31599a92cc4",
   "metadata": {},
   "outputs": [],
   "source": [
    "# Example- vader recognises emoji"
   ]
  },
  {
   "cell_type": "code",
   "execution_count": 161,
   "id": "a6807c4d-b8fa-4c12-be7a-d494228f4418",
   "metadata": {},
   "outputs": [],
   "source": [
    "tweets = [\n",
    "    \"Just watched the new Marvel movie, and OMG, it was amazing!!! #MustWatch\",\n",
    "    \"Ugh, stuck in traffic again... This is the worst. 😒\",\n",
    "    \"Feeling blessed and grateful for all the love and support. Thank you everyone! ❤️ #blessed \",\n",
    "    \"Can't believe I got tickets to the concert! So excited!! 🎶\",\n",
    "    \"Why do bad things always happen to me? 😒 #FeelingDown\",\n",
    "    \"Loving the new IPhone! The camera is incredible. 📱\",\n",
    "    \"I'm so tired of this rainy weather... WHen will it end? 😁\",\n",
    "    \"Absolutely disgusted with the customer service I received today. Never shopping here again.\",\n",
    "    \"Just got promoted at work! Hard work pays off. 💪 #Success\",\n",
    "    \"The new update completely ruined my app experience. What were they thinking?\"\n",
    "    \n",
    "]"
   ]
  },
  {
   "cell_type": "code",
   "execution_count": 162,
   "id": "3f757226-525b-4d2f-a463-2c1c0a5475f9",
   "metadata": {},
   "outputs": [
    {
     "name": "stdout",
     "output_type": "stream",
     "text": [
      "Just watched the new Marvel movie, and OMG, it was amazing!!! #MustWatch\n",
      "This sentence is positive with compound score of sentiment_score of 0.8164\n",
      "\n",
      "Ugh, stuck in traffic again... This is the worst. 😒\n",
      "This sentence is negative with compound score of sentiment_score of -0.836\n",
      "\n",
      "Feeling blessed and grateful for all the love and support. Thank you everyone! ❤️ #blessed \n",
      "This sentence is positive with compound score of sentiment_score of 0.9523\n",
      "\n",
      "Can't believe I got tickets to the concert! So excited!! 🎶\n",
      "This sentence is positive with compound score of sentiment_score of 0.5528\n",
      "\n",
      "Why do bad things always happen to me? 😒 #FeelingDown\n",
      "This sentence is negative with compound score of sentiment_score of -0.5423\n",
      "\n",
      "Loving the new IPhone! The camera is incredible. 📱\n",
      "This sentence is positive with compound score of sentiment_score of 0.636\n",
      "\n",
      "I'm so tired of this rainy weather... WHen will it end? 😁\n",
      "This sentence is negative with compound score of sentiment_score of -0.5413\n",
      "\n",
      "Absolutely disgusted with the customer service I received today. Never shopping here again.\n",
      "This sentence is negative with compound score of sentiment_score of -0.5709\n",
      "\n",
      "Just got promoted at work! Hard work pays off. 💪 #Success\n",
      "This sentence is positive with compound score of sentiment_score of 0.4003\n",
      "\n",
      "The new update completely ruined my app experience. What were they thinking?\n",
      "This sentence is negative with compound score of sentiment_score of -0.5256\n",
      "\n"
     ]
    }
   ],
   "source": [
    "for sentence in tweets:\n",
    "    sentiment_scores = sia.polarity_scores(sentence)\n",
    "    print(sentence)\n",
    "    if sentiment_scores[\"compound\"] >= 0.05:\n",
    "        print(f\"This sentence is positive with compound score of sentiment_score of {sentiment_scores[\"compound\"]}\\n\")\n",
    "    elif sentiment_scores[\"compound\"] <=-0.05:\n",
    "        print(f\"This sentence is negative with compound score of sentiment_score of {sentiment_scores[\"compound\"]}\\n\")\n",
    "    else:\n",
    "        print(f\"This sentence is neutral with compound score of sentiment_score of {sentiment_scores[\"compound\"]}\\n\")"
   ]
  },
  {
   "cell_type": "code",
   "execution_count": null,
   "id": "b24546ab-ba29-43dc-91d0-97f2e997a09f",
   "metadata": {},
   "outputs": [],
   "source": []
  },
  {
   "cell_type": "code",
   "execution_count": 163,
   "id": "fd74b837-e02b-4b8d-8187-bddc0079450c",
   "metadata": {},
   "outputs": [],
   "source": [
    "tweets_extended = [\n",
    "    \"Can't wait for the weekend! #TGIF🎉\",\n",
    "    \"Bruh, this game is lit! 🔥🔥 #GameLife\",\n",
    "    \"Why is monday so far from Friday and Friday so close to Monday? 😂 #MondayBlues.\",\n",
    "    \"LOL! That was the funniest thing I've seen all day 🤣 #ROFL\",\n",
    "    \"Just finished a 10-mile run. Feeling like a champ! 🏃‍♀️💪 #FinessGoals\",\n",
    "    \"This weather is giving me life! 😍\",\n",
    "    \"Hate it when my phone dies right in the middle of a conversation. 🥺 #FirstWorldProblems\",\n",
    "    \"Best coffee ever! ☕#CoffeeLover\",\n",
    "    \"My head hurts so bad... Need some rest. 🥹\",\n",
    "    \"This new restaurant is fire! Can't wait to go back. 🍽️\"\n",
    "]"
   ]
  },
  {
   "cell_type": "code",
   "execution_count": 164,
   "id": "b7275055-1530-4283-8105-c83a01b96d09",
   "metadata": {},
   "outputs": [
    {
     "name": "stdout",
     "output_type": "stream",
     "text": [
      "Can't wait for the weekend! #TGIF🎉\n",
      "This sentence is neutral with compound score of sentiment_score of 0.0\n",
      "\n",
      "Bruh, this game is lit! 🔥🔥 #GameLife\n",
      "This sentence is neutral with compound score of sentiment_score of 0.0\n",
      "\n",
      "Why is monday so far from Friday and Friday so close to Monday? 😂 #MondayBlues.\n",
      "This sentence is neutral with compound score of sentiment_score of 0.0\n",
      "\n",
      "LOL! That was the funniest thing I've seen all day 🤣 #ROFL\n",
      "This sentence is positive with compound score of sentiment_score of 0.8139\n",
      "\n",
      "Just finished a 10-mile run. Feeling like a champ! 🏃‍♀️💪 #FinessGoals\n",
      "This sentence is positive with compound score of sentiment_score of 0.75\n",
      "\n",
      "This weather is giving me life! 😍\n",
      "This sentence is positive with compound score of sentiment_score of 0.4003\n",
      "\n",
      "Hate it when my phone dies right in the middle of a conversation. 🥺 #FirstWorldProblems\n",
      "This sentence is negative with compound score of sentiment_score of -0.5719\n",
      "\n",
      "Best coffee ever! ☕#CoffeeLover\n",
      "This sentence is positive with compound score of sentiment_score of 0.6696\n",
      "\n",
      "My head hurts so bad... Need some rest. 🥹\n",
      "This sentence is negative with compound score of sentiment_score of -0.4767\n",
      "\n",
      "This new restaurant is fire! Can't wait to go back. 🍽️\n",
      "This sentence is negative with compound score of sentiment_score of -0.4003\n",
      "\n"
     ]
    }
   ],
   "source": [
    "for sentence in tweets_extended:\n",
    "    sentiment_scores = sia.polarity_scores(sentence)\n",
    "    print(sentence)\n",
    "    if sentiment_scores[\"compound\"] >= 0.05:\n",
    "        print(f\"This sentence is positive with compound score of sentiment_score of {sentiment_scores[\"compound\"]}\\n\")\n",
    "    elif sentiment_scores[\"compound\"] <=-0.05:\n",
    "        print(f\"This sentence is negative with compound score of sentiment_score of {sentiment_scores[\"compound\"]}\\n\")\n",
    "    else:\n",
    "        print(f\"This sentence is neutral with compound score of sentiment_score of {sentiment_scores[\"compound\"]}\\n\")"
   ]
  },
  {
   "cell_type": "code",
   "execution_count": null,
   "id": "a0567f94-ab6d-40ac-899b-3adb28e85f5a",
   "metadata": {},
   "outputs": [],
   "source": []
  },
  {
   "cell_type": "code",
   "execution_count": 165,
   "id": "a87d4c1f-d32d-4302-86e2-49d85073b8e8",
   "metadata": {},
   "outputs": [],
   "source": [
    "import pandas as pd"
   ]
  },
  {
   "cell_type": "code",
   "execution_count": 166,
   "id": "b0aaaa30-6e1a-4ba0-b095-386b55e8e2b9",
   "metadata": {},
   "outputs": [],
   "source": [
    "data = {\n",
    "    \"Text\": [\n",
    "        \"I love the new design of your website!\",\n",
    "        \"Your service is terrible, I will not come back.\",\n",
    "        \"The quality is okay, but could be better.\",\n",
    "        \"I'm thrilled with my purchase!\",\n",
    "        \"This product is not worth the price.\",\n",
    "        \"Absolutely fantastic experience! Highly recommended.\",\n",
    "        \"The support team was unhelpful and rude.\",\n",
    "        \"It's a decent product, nothing extraordinary.\",\n",
    "        \"I hate the way this software works!\",\n",
    "        \"Best investment I've made this year.\"\n",
    "    ]\n",
    "}"
   ]
  },
  {
   "cell_type": "code",
   "execution_count": 167,
   "id": "f359be69-ba06-4429-b768-94da7dd5635d",
   "metadata": {},
   "outputs": [],
   "source": [
    "df = pd.DataFrame(data)"
   ]
  },
  {
   "cell_type": "code",
   "execution_count": 168,
   "id": "93bc47fd-d9fc-4ca5-8cde-c9d196033e4f",
   "metadata": {},
   "outputs": [
    {
     "data": {
      "text/html": [
       "<div>\n",
       "<style scoped>\n",
       "    .dataframe tbody tr th:only-of-type {\n",
       "        vertical-align: middle;\n",
       "    }\n",
       "\n",
       "    .dataframe tbody tr th {\n",
       "        vertical-align: top;\n",
       "    }\n",
       "\n",
       "    .dataframe thead th {\n",
       "        text-align: right;\n",
       "    }\n",
       "</style>\n",
       "<table border=\"1\" class=\"dataframe\">\n",
       "  <thead>\n",
       "    <tr style=\"text-align: right;\">\n",
       "      <th></th>\n",
       "      <th>Text</th>\n",
       "    </tr>\n",
       "  </thead>\n",
       "  <tbody>\n",
       "    <tr>\n",
       "      <th>0</th>\n",
       "      <td>I love the new design of your website!</td>\n",
       "    </tr>\n",
       "    <tr>\n",
       "      <th>1</th>\n",
       "      <td>Your service is terrible, I will not come back.</td>\n",
       "    </tr>\n",
       "    <tr>\n",
       "      <th>2</th>\n",
       "      <td>The quality is okay, but could be better.</td>\n",
       "    </tr>\n",
       "    <tr>\n",
       "      <th>3</th>\n",
       "      <td>I'm thrilled with my purchase!</td>\n",
       "    </tr>\n",
       "    <tr>\n",
       "      <th>4</th>\n",
       "      <td>This product is not worth the price.</td>\n",
       "    </tr>\n",
       "    <tr>\n",
       "      <th>5</th>\n",
       "      <td>Absolutely fantastic experience! Highly recomm...</td>\n",
       "    </tr>\n",
       "    <tr>\n",
       "      <th>6</th>\n",
       "      <td>The support team was unhelpful and rude.</td>\n",
       "    </tr>\n",
       "    <tr>\n",
       "      <th>7</th>\n",
       "      <td>It's a decent product, nothing extraordinary.</td>\n",
       "    </tr>\n",
       "    <tr>\n",
       "      <th>8</th>\n",
       "      <td>I hate the way this software works!</td>\n",
       "    </tr>\n",
       "    <tr>\n",
       "      <th>9</th>\n",
       "      <td>Best investment I've made this year.</td>\n",
       "    </tr>\n",
       "  </tbody>\n",
       "</table>\n",
       "</div>"
      ],
      "text/plain": [
       "                                                Text\n",
       "0             I love the new design of your website!\n",
       "1    Your service is terrible, I will not come back.\n",
       "2          The quality is okay, but could be better.\n",
       "3                     I'm thrilled with my purchase!\n",
       "4               This product is not worth the price.\n",
       "5  Absolutely fantastic experience! Highly recomm...\n",
       "6           The support team was unhelpful and rude.\n",
       "7      It's a decent product, nothing extraordinary.\n",
       "8                I hate the way this software works!\n",
       "9               Best investment I've made this year."
      ]
     },
     "execution_count": 168,
     "metadata": {},
     "output_type": "execute_result"
    }
   ],
   "source": [
    "df"
   ]
  },
  {
   "cell_type": "code",
   "execution_count": null,
   "id": "6550d28f-865b-4309-8fca-e5cc43810506",
   "metadata": {},
   "outputs": [],
   "source": []
  },
  {
   "cell_type": "code",
   "execution_count": 169,
   "id": "e40544fc-50ac-47e4-bc7c-f2d2cab54add",
   "metadata": {},
   "outputs": [
    {
     "data": {
      "text/plain": [
       "0    {'neg': 0.0, 'neu': 0.572, 'pos': 0.428, 'comp...\n",
       "1    {'neg': 0.307, 'neu': 0.693, 'pos': 0.0, 'comp...\n",
       "2    {'neg': 0.0, 'neu': 0.531, 'pos': 0.469, 'comp...\n",
       "3    {'neg': 0.0, 'neu': 0.556, 'pos': 0.444, 'comp...\n",
       "4    {'neg': 0.217, 'neu': 0.783, 'pos': 0.0, 'comp...\n",
       "5    {'neg': 0.0, 'neu': 0.323, 'pos': 0.677, 'comp...\n",
       "6    {'neg': 0.28, 'neu': 0.467, 'pos': 0.252, 'com...\n",
       "7    {'neg': 0.0, 'neu': 1.0, 'pos': 0.0, 'compound...\n",
       "8    {'neg': 0.444, 'neu': 0.556, 'pos': 0.0, 'comp...\n",
       "9    {'neg': 0.0, 'neu': 0.543, 'pos': 0.457, 'comp...\n",
       "Name: Text, dtype: object"
      ]
     },
     "execution_count": 169,
     "metadata": {},
     "output_type": "execute_result"
    }
   ],
   "source": [
    "df[\"Text\"].apply(lambda x: sia.polarity_scores(x))"
   ]
  },
  {
   "cell_type": "code",
   "execution_count": 170,
   "id": "5d8da2b4-0436-4036-81eb-7187d5344ddd",
   "metadata": {},
   "outputs": [
    {
     "data": {
      "text/plain": [
       "0    0.428\n",
       "1    0.000\n",
       "2    0.469\n",
       "3    0.444\n",
       "4    0.000\n",
       "5    0.677\n",
       "6    0.252\n",
       "7    0.000\n",
       "8    0.000\n",
       "9    0.457\n",
       "Name: Text, dtype: float64"
      ]
     },
     "execution_count": 170,
     "metadata": {},
     "output_type": "execute_result"
    }
   ],
   "source": [
    "df[\"Text\"].apply(lambda x: sia.polarity_scores(x)[\"pos\"])"
   ]
  },
  {
   "cell_type": "code",
   "execution_count": 171,
   "id": "0f2303ee-da60-44e2-9ca5-e888fdb29c80",
   "metadata": {},
   "outputs": [
    {
     "data": {
      "text/plain": [
       "0    0.000\n",
       "1    0.307\n",
       "2    0.000\n",
       "3    0.000\n",
       "4    0.217\n",
       "5    0.000\n",
       "6    0.280\n",
       "7    0.000\n",
       "8    0.444\n",
       "9    0.000\n",
       "Name: Text, dtype: float64"
      ]
     },
     "execution_count": 171,
     "metadata": {},
     "output_type": "execute_result"
    }
   ],
   "source": [
    "df[\"Text\"].apply(lambda x: sia.polarity_scores(x)[\"neg\"])"
   ]
  },
  {
   "cell_type": "code",
   "execution_count": 236,
   "id": "87db24de-fa7e-4d43-96c8-177da6227a3e",
   "metadata": {},
   "outputs": [],
   "source": [
    "df[\"neg\"] = df[\"Text\"].apply(lambda x: sia.polarity_scores(x)[\"neg\"])\n",
    "df[\"pos\"] = df[\"Text\"].apply(lambda x: sia.polarity_scores(x)[\"pos\"])\n",
    "df[\"neu\"] = df[\"Text\"].apply(lambda x: sia.polarity_scores(x)[\"neu\"])\n",
    "df[\"compound\"] = df[\"Text\"].apply(lambda x: sia.polarity_scores(x)[\"compound\"])"
   ]
  },
  {
   "cell_type": "code",
   "execution_count": 238,
   "id": "daadd3dd-af01-458f-866b-33b307b9ff5b",
   "metadata": {},
   "outputs": [
    {
     "data": {
      "text/html": [
       "<div>\n",
       "<style scoped>\n",
       "    .dataframe tbody tr th:only-of-type {\n",
       "        vertical-align: middle;\n",
       "    }\n",
       "\n",
       "    .dataframe tbody tr th {\n",
       "        vertical-align: top;\n",
       "    }\n",
       "\n",
       "    .dataframe thead th {\n",
       "        text-align: right;\n",
       "    }\n",
       "</style>\n",
       "<table border=\"1\" class=\"dataframe\">\n",
       "  <thead>\n",
       "    <tr style=\"text-align: right;\">\n",
       "      <th></th>\n",
       "      <th>Text</th>\n",
       "      <th>neg</th>\n",
       "      <th>pos</th>\n",
       "      <th>neu</th>\n",
       "      <th>compound</th>\n",
       "    </tr>\n",
       "  </thead>\n",
       "  <tbody>\n",
       "    <tr>\n",
       "      <th>0</th>\n",
       "      <td>I love the new design of your website!</td>\n",
       "      <td>0.000</td>\n",
       "      <td>0.428</td>\n",
       "      <td>0.572</td>\n",
       "      <td>0.6696</td>\n",
       "    </tr>\n",
       "    <tr>\n",
       "      <th>1</th>\n",
       "      <td>Your service is terrible, I will not come back.</td>\n",
       "      <td>0.307</td>\n",
       "      <td>0.000</td>\n",
       "      <td>0.693</td>\n",
       "      <td>-0.4767</td>\n",
       "    </tr>\n",
       "    <tr>\n",
       "      <th>2</th>\n",
       "      <td>The quality is okay, but could be better.</td>\n",
       "      <td>0.000</td>\n",
       "      <td>0.469</td>\n",
       "      <td>0.531</td>\n",
       "      <td>0.6486</td>\n",
       "    </tr>\n",
       "    <tr>\n",
       "      <th>3</th>\n",
       "      <td>I'm thrilled with my purchase!</td>\n",
       "      <td>0.000</td>\n",
       "      <td>0.444</td>\n",
       "      <td>0.556</td>\n",
       "      <td>0.4926</td>\n",
       "    </tr>\n",
       "    <tr>\n",
       "      <th>4</th>\n",
       "      <td>This product is not worth the price.</td>\n",
       "      <td>0.217</td>\n",
       "      <td>0.000</td>\n",
       "      <td>0.783</td>\n",
       "      <td>-0.1695</td>\n",
       "    </tr>\n",
       "    <tr>\n",
       "      <th>5</th>\n",
       "      <td>Absolutely fantastic experience! Highly recomm...</td>\n",
       "      <td>0.000</td>\n",
       "      <td>0.677</td>\n",
       "      <td>0.323</td>\n",
       "      <td>0.7413</td>\n",
       "    </tr>\n",
       "    <tr>\n",
       "      <th>6</th>\n",
       "      <td>The support team was unhelpful and rude.</td>\n",
       "      <td>0.280</td>\n",
       "      <td>0.252</td>\n",
       "      <td>0.467</td>\n",
       "      <td>-0.0772</td>\n",
       "    </tr>\n",
       "    <tr>\n",
       "      <th>7</th>\n",
       "      <td>It's a decent product, nothing extraordinary.</td>\n",
       "      <td>0.000</td>\n",
       "      <td>0.000</td>\n",
       "      <td>1.000</td>\n",
       "      <td>0.0000</td>\n",
       "    </tr>\n",
       "    <tr>\n",
       "      <th>8</th>\n",
       "      <td>I hate the way this software works!</td>\n",
       "      <td>0.444</td>\n",
       "      <td>0.000</td>\n",
       "      <td>0.556</td>\n",
       "      <td>-0.6114</td>\n",
       "    </tr>\n",
       "    <tr>\n",
       "      <th>9</th>\n",
       "      <td>Best investment I've made this year.</td>\n",
       "      <td>0.000</td>\n",
       "      <td>0.457</td>\n",
       "      <td>0.543</td>\n",
       "      <td>0.6369</td>\n",
       "    </tr>\n",
       "  </tbody>\n",
       "</table>\n",
       "</div>"
      ],
      "text/plain": [
       "                                                Text    neg    pos    neu  \\\n",
       "0             I love the new design of your website!  0.000  0.428  0.572   \n",
       "1    Your service is terrible, I will not come back.  0.307  0.000  0.693   \n",
       "2          The quality is okay, but could be better.  0.000  0.469  0.531   \n",
       "3                     I'm thrilled with my purchase!  0.000  0.444  0.556   \n",
       "4               This product is not worth the price.  0.217  0.000  0.783   \n",
       "5  Absolutely fantastic experience! Highly recomm...  0.000  0.677  0.323   \n",
       "6           The support team was unhelpful and rude.  0.280  0.252  0.467   \n",
       "7      It's a decent product, nothing extraordinary.  0.000  0.000  1.000   \n",
       "8                I hate the way this software works!  0.444  0.000  0.556   \n",
       "9               Best investment I've made this year.  0.000  0.457  0.543   \n",
       "\n",
       "   compound  \n",
       "0    0.6696  \n",
       "1   -0.4767  \n",
       "2    0.6486  \n",
       "3    0.4926  \n",
       "4   -0.1695  \n",
       "5    0.7413  \n",
       "6   -0.0772  \n",
       "7    0.0000  \n",
       "8   -0.6114  \n",
       "9    0.6369  "
      ]
     },
     "execution_count": 238,
     "metadata": {},
     "output_type": "execute_result"
    }
   ],
   "source": [
    "df"
   ]
  },
  {
   "cell_type": "code",
   "execution_count": null,
   "id": "1d65becd-2e4d-4d56-82c2-e2e9094faae9",
   "metadata": {},
   "outputs": [],
   "source": []
  },
  {
   "cell_type": "code",
   "execution_count": 242,
   "id": "938c6d64-3912-4de7-a3ce-fb4bd1e7db0e",
   "metadata": {},
   "outputs": [],
   "source": [
    "import matplotlib.pyplot as plt"
   ]
  },
  {
   "cell_type": "code",
   "execution_count": 244,
   "id": "82a017da-e244-4db5-bf6f-51023c2cbecf",
   "metadata": {},
   "outputs": [
    {
     "data": {
      "image/png": "[encoded data removed]",
      "text/plain": [
       "<Figure size 1000x600 with 1 Axes>"
      ]
     },
     "metadata": {},
     "output_type": "display_data"
    }
   ],
   "source": [
    "plt.figure(figsize=(10,6))\n",
    "plt.barh(df[\"Text\"], df[\"compound\"])\n",
    "plt.xlabel(\"Compound Sentiment Score\")\n",
    "plt.ylabel(\"Sentiment Analysis of Texts\")\n",
    "plt.show()\n"
   ]
  },
  {
   "cell_type": "code",
   "execution_count": 246,
   "id": "c5520b5c-21f6-4e53-83a9-95caa0a9e436",
   "metadata": {},
   "outputs": [],
   "source": [
    "color = []\n",
    "for i in df[\"compound\"]:\n",
    "    if i >= 0.05:\n",
    "        color.append(\"green\")\n",
    "    elif i <= -0.05:\n",
    "        color.append(\"red\")\n",
    "    else:\n",
    "        color.append(\"gray\")\n"
   ]
  },
  {
   "cell_type": "code",
   "execution_count": 248,
   "id": "652ccb2c-7657-475d-adf7-5e4477e33094",
   "metadata": {},
   "outputs": [
    {
     "data": {
      "text/plain": [
       "['green',\n",
       " 'red',\n",
       " 'green',\n",
       " 'green',\n",
       " 'red',\n",
       " 'green',\n",
       " 'red',\n",
       " 'gray',\n",
       " 'red',\n",
       " 'green']"
      ]
     },
     "execution_count": 248,
     "metadata": {},
     "output_type": "execute_result"
    }
   ],
   "source": [
    "color"
   ]
  },
  {
   "cell_type": "code",
   "execution_count": 250,
   "id": "d958d20d-405c-4a9e-854a-5574f3882175",
   "metadata": {},
   "outputs": [
    {
     "data": {
      "image/png": "[encoded data removed]",
      "text/plain": [
       "<Figure size 1000x600 with 1 Axes>"
      ]
     },
     "metadata": {},
     "output_type": "display_data"
    }
   ],
   "source": [
    "plt.figure(figsize=(10,6))\n",
    "plt.barh(df[\"Text\"], df[\"compound\"],color=color)\n",
    "plt.xlabel(\"Compound Sentiment Score\")\n",
    "plt.ylabel(\"Sentiment Analysis of Texts\")\n",
    "plt.show()\n"
   ]
  },
  {
   "cell_type": "code",
   "execution_count": null,
   "id": "fe203e4d-b30f-485f-a73d-278672a482a4",
   "metadata": {},
   "outputs": [],
   "source": []
  },
  {
   "cell_type": "code",
   "execution_count": null,
   "id": "7aebe4ed-9740-401c-beca-800b047665b4",
   "metadata": {},
   "outputs": [],
   "source": []
  },
  {
   "cell_type": "code",
   "execution_count": 174,
   "id": "a8aa7d7a-3230-4789-8887-e1e71f50a939",
   "metadata": {},
   "outputs": [],
   "source": []
  },
  {
   "cell_type": "code",
   "execution_count": null,
   "id": "ef5aa56e-ee17-4216-9f70-073256841df9",
   "metadata": {},
   "outputs": [],
   "source": []
  },
  {
   "cell_type": "code",
   "execution_count": null,
   "id": "ac0c6106-e591-4c23-aa9c-5420773e7e99",
   "metadata": {},
   "outputs": [],
   "source": []
  },
  {
   "cell_type": "code",
   "execution_count": null,
   "id": "e1ed87b6-635e-4387-be65-80231080446a",
   "metadata": {},
   "outputs": [],
   "source": []
  },
  {
   "cell_type": "code",
   "execution_count": null,
   "id": "cbdd1fa6-f088-4e65-b111-0f01876c2660",
   "metadata": {},
   "outputs": [],
   "source": []
  },
  {
   "cell_type": "code",
   "execution_count": null,
   "id": "13f0a6b6-08fa-4dde-9136-99f2ac01a2e6",
   "metadata": {},
   "outputs": [],
   "source": []
  },
  {
   "cell_type": "code",
   "execution_count": null,
   "id": "66872762-f7d4-4de1-850c-208ef61c2d27",
   "metadata": {},
   "outputs": [],
   "source": []
  },
  {
   "cell_type": "code",
   "execution_count": null,
   "id": "769ecd3e-212d-4ed6-9ab3-e228f9f7e90a",
   "metadata": {},
   "outputs": [],
   "source": []
  },
  {
   "cell_type": "code",
   "execution_count": null,
   "id": "695bd321-ecbf-483d-bf89-685a2e5e9b3e",
   "metadata": {},
   "outputs": [],
   "source": []
  },
  {
   "cell_type": "code",
   "execution_count": null,
   "id": "2340dbce-e362-4216-8b30-110eddbba6d7",
   "metadata": {},
   "outputs": [],
   "source": []
  },
  {
   "cell_type": "code",
   "execution_count": null,
   "id": "39578b84-a98d-4e43-b235-65055b714a0a",
   "metadata": {},
   "outputs": [],
   "source": []
  },
  {
   "cell_type": "code",
   "execution_count": null,
   "id": "483fe610-24c7-4a2d-af87-86c5a18272e0",
   "metadata": {},
   "outputs": [],
   "source": []
  }
 ],
 "metadata": {
  "kernelspec": {
   "display_name": "Python 3 (ipykernel)",
   "language": "python",
   "name": "python3"
  },
  "language_info": {
   "codemirror_mode": {
    "name": "ipython",
    "version": 3
   },
   "file_extension": ".py",
   "mimetype": "text/x-python",
   "name": "python",
   "nbconvert_exporter": "python",
   "pygments_lexer": "ipython3",
   "version": "3.12.4"
  }
 },
 "nbformat": 4,
 "nbformat_minor": 5
}
