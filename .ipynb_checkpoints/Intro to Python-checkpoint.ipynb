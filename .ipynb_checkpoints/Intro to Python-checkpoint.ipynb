{
 "cells": [
  {
   "cell_type": "markdown",
   "id": "2c166859-d898-4242-a5f1-b07f01b982a5",
   "metadata": {},
   "source": [
    "# Markdown/ Description of codes/ Documentation"
   ]
  },
  {
   "cell_type": "markdown",
   "id": "a18dcf50-6caa-47b1-961f-2972a130da0d",
   "metadata": {},
   "source": [
    "## Welcome to Python\n",
    "### Welcome to Python\n",
    "#### Welcome to Python\n",
    "##### Welcome to Python\n",
    "###### Welcome to Python"
   ]
  },
  {
   "cell_type": "markdown",
   "id": "a94fb046-0cd8-4857-83ba-fa38e9038e27",
   "metadata": {},
   "source": [
    "## Itemize\n",
    "1. Nigeria\n",
    "2. Canada\n",
    "3. Kenya"
   ]
  },
  {
   "cell_type": "markdown",
   "id": "4f3c17bb-3f76-4ce1-9eb6-f4be15ef06d1",
   "metadata": {},
   "source": [
    "## Introduction to Data Types\n"
   ]
  },
  {
   "cell_type": "markdown",
   "id": "e2c2b902-da43-4e4a-9bed-42b31942a612",
   "metadata": {},
   "source": [
    "### Primary Data Types\n",
    "\n",
    "1. Numbers\n",
    "   * Integers: whole numbers (e.g 1,2,200,1000000,654, -90, -1, -254)\n",
    "   * Floats: decimals (e.g 23.1, 2.1, 1.9,0.2, 0.1, 0.0, -34.2, -12.2)\n",
    "2. Text\n",
    "   * String: text enclosed in quotes (e.g \" my book\")\n",
    "3. Boolean: True or False\n",
    "\n",
    "\n",
    "### Secondary Data Types\n",
    "\n",
    "1. List\n",
    "2. Tuples\n",
    "3. Dictionaries\n",
    "4. Sets\n",
    "    "
   ]
  },
  {
   "cell_type": "markdown",
   "id": "25e470db-632e-4f2d-a355-a6f0c780c8cb",
   "metadata": {},
   "source": [
    "### Integers (int)\n"
   ]
  },
  {
   "cell_type": "code",
   "execution_count": 37,
   "id": "29c3c8b5-0cb4-4a73-8166-ae86a6a95f0a",
   "metadata": {},
   "outputs": [
    {
     "data": {
      "text/plain": [
       "2"
      ]
     },
     "execution_count": 37,
     "metadata": {},
     "output_type": "execute_result"
    }
   ],
   "source": [
    "2"
   ]
  },
  {
   "cell_type": "code",
   "execution_count": 38,
   "id": "af6426e3-dbd8-4948-9aa0-9db9711da694",
   "metadata": {},
   "outputs": [
    {
     "data": {
      "text/plain": [
       "-2"
      ]
     },
     "execution_count": 38,
     "metadata": {},
     "output_type": "execute_result"
    }
   ],
   "source": [
    "-2"
   ]
  },
  {
   "cell_type": "markdown",
   "id": "1ee224ac-4e9f-4b1a-b88a-ae83d4ab399f",
   "metadata": {},
   "source": [
    "### To check the type of data: we use type like this "
   ]
  },
  {
   "cell_type": "code",
   "execution_count": 40,
   "id": "7c0eac99-77b3-4dce-8825-975dc79bb935",
   "metadata": {},
   "outputs": [
    {
     "data": {
      "text/plain": [
       "int"
      ]
     },
     "execution_count": 40,
     "metadata": {},
     "output_type": "execute_result"
    }
   ],
   "source": [
    "type(5)"
   ]
  },
  {
   "cell_type": "code",
   "execution_count": 41,
   "id": "c2f2949f-37de-4b6d-86b1-55f707b5dd98",
   "metadata": {},
   "outputs": [
    {
     "data": {
      "text/plain": [
       "float"
      ]
     },
     "execution_count": 41,
     "metadata": {},
     "output_type": "execute_result"
    }
   ],
   "source": [
    "type(-0.2)"
   ]
  },
  {
   "cell_type": "code",
   "execution_count": 42,
   "id": "b87df383-697c-40be-a053-383feaee4803",
   "metadata": {},
   "outputs": [
    {
     "data": {
      "text/plain": [
       "int"
      ]
     },
     "execution_count": 42,
     "metadata": {},
     "output_type": "execute_result"
    }
   ],
   "source": [
    "type (-90)"
   ]
  },
  {
   "cell_type": "markdown",
   "id": "eeef3555-6155-4e3f-b03a-8454696e41fa",
   "metadata": {},
   "source": [
    "#### Text/Strings (str)"
   ]
  },
  {
   "cell_type": "code",
   "execution_count": 1,
   "id": "2faa7766-b558-420b-bd7f-89aa353499c9",
   "metadata": {},
   "outputs": [
    {
     "data": {
      "text/plain": [
       "'Hello World'"
      ]
     },
     "execution_count": 1,
     "metadata": {},
     "output_type": "execute_result"
    }
   ],
   "source": [
    "\"Hello World\""
   ]
  },
  {
   "cell_type": "code",
   "execution_count": 3,
   "id": "6c32860e-602e-4f50-b8d3-cf787750e218",
   "metadata": {},
   "outputs": [
    {
     "data": {
      "text/plain": [
       "str"
      ]
     },
     "execution_count": 3,
     "metadata": {},
     "output_type": "execute_result"
    }
   ],
   "source": [
    "type(\"Hello World\")"
   ]
  },
  {
   "cell_type": "markdown",
   "id": "5a705be1-c891-474a-add7-6ee3d666b7b5",
   "metadata": {},
   "source": [
    " #### Booelean (bool)"
   ]
  },
  {
   "cell_type": "code",
   "execution_count": 47,
   "id": "c8213ff4-bb57-450b-be7d-a6a61b933c67",
   "metadata": {},
   "outputs": [
    {
     "data": {
      "text/plain": [
       "True"
      ]
     },
     "execution_count": 47,
     "metadata": {},
     "output_type": "execute_result"
    }
   ],
   "source": [
    "True"
   ]
  },
  {
   "cell_type": "code",
   "execution_count": 48,
   "id": "fe610782-709d-41e7-afa4-33e974583cf4",
   "metadata": {},
   "outputs": [
    {
     "data": {
      "text/plain": [
       "False"
      ]
     },
     "execution_count": 48,
     "metadata": {},
     "output_type": "execute_result"
    }
   ],
   "source": [
    "False"
   ]
  },
  {
   "cell_type": "code",
   "execution_count": 49,
   "id": "3b416b3a-5459-433e-ad5b-7fd066079974",
   "metadata": {},
   "outputs": [
    {
     "data": {
      "text/plain": [
       "bool"
      ]
     },
     "execution_count": 49,
     "metadata": {},
     "output_type": "execute_result"
    }
   ],
   "source": [
    "type(True)"
   ]
  },
  {
   "cell_type": "code",
   "execution_count": 50,
   "id": "ae019ae7-118b-45f0-bfa5-4ca3c30597eb",
   "metadata": {},
   "outputs": [
    {
     "data": {
      "text/plain": [
       "bool"
      ]
     },
     "execution_count": 50,
     "metadata": {},
     "output_type": "execute_result"
    }
   ],
   "source": [
    "type(False)"
   ]
  },
  {
   "cell_type": "code",
   "execution_count": null,
   "id": "9b54574c-d415-47a5-87ee-8081414a1459",
   "metadata": {},
   "outputs": [],
   "source": []
  },
  {
   "cell_type": "code",
   "execution_count": null,
   "id": "a78c4663-267e-4ee4-9d5a-3a67e8f679ca",
   "metadata": {},
   "outputs": [],
   "source": []
  },
  {
   "cell_type": "markdown",
   "id": "bae6d344-b3cb-4dec-9b81-b2ca5f59c9ff",
   "metadata": {},
   "source": [
    "### Convert Data type"
   ]
  },
  {
   "cell_type": "markdown",
   "id": "2b3a02f0-c3e9-425a-8672-528d5b96d057",
   "metadata": {},
   "source": [
    "1. Float to Integer"
   ]
  },
  {
   "cell_type": "code",
   "execution_count": 5,
   "id": "5c22960c-9b74-4e47-87ec-0814e2b8b978",
   "metadata": {},
   "outputs": [
    {
     "data": {
      "text/plain": [
       "15"
      ]
     },
     "execution_count": 5,
     "metadata": {},
     "output_type": "execute_result"
    }
   ],
   "source": [
    "int(15.3)"
   ]
  },
  {
   "cell_type": "code",
   "execution_count": 54,
   "id": "4c064115-6c13-4ce6-a6eb-5157b3e57c0d",
   "metadata": {},
   "outputs": [
    {
     "data": {
      "text/plain": [
       "int"
      ]
     },
     "execution_count": 54,
     "metadata": {},
     "output_type": "execute_result"
    }
   ],
   "source": [
    "type(int(15.3))"
   ]
  },
  {
   "cell_type": "markdown",
   "id": "8f5e28e2-57e1-4cd8-8ed4-0dc664dbf64e",
   "metadata": {},
   "source": [
    "2. Integer to Float"
   ]
  },
  {
   "cell_type": "code",
   "execution_count": 56,
   "id": "4f83a256-412e-4c2a-b9f8-2e7d504c220a",
   "metadata": {},
   "outputs": [
    {
     "data": {
      "text/plain": [
       "15.0"
      ]
     },
     "execution_count": 56,
     "metadata": {},
     "output_type": "execute_result"
    }
   ],
   "source": [
    "float(15)"
   ]
  },
  {
   "cell_type": "code",
   "execution_count": null,
   "id": "42f0d3e0-1c12-4c63-9cab-b7de0f51595b",
   "metadata": {},
   "outputs": [],
   "source": []
  },
  {
   "cell_type": "code",
   "execution_count": null,
   "id": "8e6792eb-de39-4c25-a69f-3e5ffb450eef",
   "metadata": {},
   "outputs": [],
   "source": []
  },
  {
   "cell_type": "markdown",
   "id": "5776b161-c98f-40a5-bf47-507c8d7a7ea1",
   "metadata": {},
   "source": [
    "#### To run a cell with your keyboard\n",
    "\n",
    "SHIFT + ENTER"
   ]
  },
  {
   "cell_type": "code",
   "execution_count": null,
   "id": "b6600138-c2fb-4e04-b535-5af508178e2c",
   "metadata": {},
   "outputs": [],
   "source": []
  },
  {
   "cell_type": "code",
   "execution_count": null,
   "id": "4e1f3db2-24dd-4d90-8fe3-af265966b2d6",
   "metadata": {},
   "outputs": [],
   "source": []
  },
  {
   "cell_type": "markdown",
   "id": "6adde343-5bb1-4da3-b649-16cbb0c2f7e0",
   "metadata": {},
   "source": [
    "#### Arithmetic Operation"
   ]
  },
  {
   "cell_type": "markdown",
   "id": "4ba510ba-5549-40e2-a74e-4e78bfa7689e",
   "metadata": {},
   "source": [
    "1. Addition (+)"
   ]
  },
  {
   "cell_type": "code",
   "execution_count": 60,
   "id": "f4a7dd5f-f721-45ef-a06c-f4c2da8d2f0c",
   "metadata": {},
   "outputs": [
    {
     "data": {
      "text/plain": [
       "35"
      ]
     },
     "execution_count": 60,
     "metadata": {},
     "output_type": "execute_result"
    }
   ],
   "source": [
    "1+34"
   ]
  },
  {
   "cell_type": "markdown",
   "id": "2a9f8ccf-d8f2-40e5-8c88-0db8cf5d9b91",
   "metadata": {},
   "source": [
    "2. Subtraction (-)"
   ]
  },
  {
   "cell_type": "code",
   "execution_count": 62,
   "id": "8477dee5-8b01-481b-9c76-e10f0ac9b8c2",
   "metadata": {},
   "outputs": [
    {
     "data": {
      "text/plain": [
       "2"
      ]
     },
     "execution_count": 62,
     "metadata": {},
     "output_type": "execute_result"
    }
   ],
   "source": [
    "6-4"
   ]
  },
  {
   "cell_type": "markdown",
   "id": "afd397d8-3735-4a12-ab00-f3877f9441e8",
   "metadata": {},
   "source": [
    "3. Multiplication (*)"
   ]
  },
  {
   "cell_type": "code",
   "execution_count": 64,
   "id": "e5bb210b-1dc1-4beb-9f44-ad3c8b7c801b",
   "metadata": {},
   "outputs": [
    {
     "data": {
      "text/plain": [
       "12"
      ]
     },
     "execution_count": 64,
     "metadata": {},
     "output_type": "execute_result"
    }
   ],
   "source": [
    "2*6"
   ]
  },
  {
   "cell_type": "code",
   "execution_count": 65,
   "id": "e36342d5-8103-4e35-9acb-ba9b1106cdb0",
   "metadata": {},
   "outputs": [
    {
     "data": {
      "text/plain": [
       "-315.0"
      ]
     },
     "execution_count": 65,
     "metadata": {},
     "output_type": "execute_result"
    }
   ],
   "source": [
    "-90*3.5"
   ]
  },
  {
   "cell_type": "markdown",
   "id": "4162bc32-fbc7-4a16-ae83-fd60ea5da358",
   "metadata": {},
   "source": [
    "4. Division (/)"
   ]
  },
  {
   "cell_type": "code",
   "execution_count": 67,
   "id": "8da0ae27-46da-4f3c-846a-ac0c7994c7d3",
   "metadata": {},
   "outputs": [
    {
     "data": {
      "text/plain": [
       "2.0"
      ]
     },
     "execution_count": 67,
     "metadata": {},
     "output_type": "execute_result"
    }
   ],
   "source": [
    "8/4"
   ]
  },
  {
   "cell_type": "code",
   "execution_count": 68,
   "id": "df64d83a-af1f-46b0-8ed5-de0f365c1d38",
   "metadata": {},
   "outputs": [
    {
     "data": {
      "text/plain": [
       "3.6666666666666665"
      ]
     },
     "execution_count": 68,
     "metadata": {},
     "output_type": "execute_result"
    }
   ],
   "source": [
    "11/3"
   ]
  },
  {
   "cell_type": "markdown",
   "id": "5f1362bd-30c4-41c9-9d4d-15ec44754a1c",
   "metadata": {},
   "source": [
    "5. Floor Division (//) Ignores the remainder\n"
   ]
  },
  {
   "cell_type": "code",
   "execution_count": 70,
   "id": "4dd42be7-3857-4db8-b733-56e96df654af",
   "metadata": {},
   "outputs": [
    {
     "data": {
      "text/plain": [
       "1"
      ]
     },
     "execution_count": 70,
     "metadata": {},
     "output_type": "execute_result"
    }
   ],
   "source": [
    "3//2"
   ]
  },
  {
   "cell_type": "code",
   "execution_count": 71,
   "id": "866ae8c1-3252-442e-a74e-520c2a3df414",
   "metadata": {},
   "outputs": [
    {
     "data": {
      "text/plain": [
       "4"
      ]
     },
     "execution_count": 71,
     "metadata": {},
     "output_type": "execute_result"
    }
   ],
   "source": [
    "17//4"
   ]
  },
  {
   "cell_type": "code",
   "execution_count": 72,
   "id": "a1b3ede8-a639-4870-ba35-b70d295c9adc",
   "metadata": {},
   "outputs": [
    {
     "data": {
      "text/plain": [
       "2"
      ]
     },
     "execution_count": 72,
     "metadata": {},
     "output_type": "execute_result"
    }
   ],
   "source": [
    "8//3"
   ]
  },
  {
   "cell_type": "code",
   "execution_count": 73,
   "id": "142b10e0-08cc-432d-b1b4-54c936b45f98",
   "metadata": {},
   "outputs": [
    {
     "data": {
      "text/plain": [
       "2"
      ]
     },
     "execution_count": 73,
     "metadata": {},
     "output_type": "execute_result"
    }
   ],
   "source": [
    "8//4"
   ]
  },
  {
   "cell_type": "markdown",
   "id": "253a091a-ef1c-45fa-baac-d909e5d93a4c",
   "metadata": {},
   "source": [
    "6. Modulo (%) gives the remainder"
   ]
  },
  {
   "cell_type": "code",
   "execution_count": 75,
   "id": "91bb829a-943e-4280-a3f6-817721748fb4",
   "metadata": {},
   "outputs": [
    {
     "data": {
      "text/plain": [
       "0"
      ]
     },
     "execution_count": 75,
     "metadata": {},
     "output_type": "execute_result"
    }
   ],
   "source": [
    "8%4\n"
   ]
  },
  {
   "cell_type": "code",
   "execution_count": 76,
   "id": "47f9b531-fc78-4603-8ec0-b5dc405b8bc6",
   "metadata": {},
   "outputs": [
    {
     "data": {
      "text/plain": [
       "2"
      ]
     },
     "execution_count": 76,
     "metadata": {},
     "output_type": "execute_result"
    }
   ],
   "source": [
    "17%5"
   ]
  },
  {
   "cell_type": "code",
   "execution_count": 7,
   "id": "65a73660-ae67-4ee8-afca-2fdf0ba4ae10",
   "metadata": {},
   "outputs": [
    {
     "data": {
      "text/plain": [
       "1"
      ]
     },
     "execution_count": 7,
     "metadata": {},
     "output_type": "execute_result"
    }
   ],
   "source": [
    "25%2"
   ]
  },
  {
   "cell_type": "markdown",
   "id": "54c27c35-1134-4367-92ba-960b96eb56be",
   "metadata": {},
   "source": [
    "#### Raise to the power (**)"
   ]
  },
  {
   "cell_type": "code",
   "execution_count": 79,
   "id": "23e60f10-c208-4f71-9f89-4679d01e4b8a",
   "metadata": {},
   "outputs": [
    {
     "data": {
      "text/plain": [
       "9"
      ]
     },
     "execution_count": 79,
     "metadata": {},
     "output_type": "execute_result"
    }
   ],
   "source": [
    "3**2"
   ]
  },
  {
   "cell_type": "code",
   "execution_count": 80,
   "id": "e61e4b20-d337-4f4b-9db7-ac885853ee1d",
   "metadata": {},
   "outputs": [
    {
     "data": {
      "text/plain": [
       "8"
      ]
     },
     "execution_count": 80,
     "metadata": {},
     "output_type": "execute_result"
    }
   ],
   "source": [
    "2**3"
   ]
  },
  {
   "cell_type": "markdown",
   "id": "668ec8b6-4e5a-4dc5-bb01-f4c66d87145d",
   "metadata": {},
   "source": [
    "#### Round off values"
   ]
  },
  {
   "cell_type": "code",
   "execution_count": 82,
   "id": "90ff5240-c9cd-4a7f-8c54-baf83957ca99",
   "metadata": {},
   "outputs": [
    {
     "data": {
      "text/plain": [
       "45"
      ]
     },
     "execution_count": 82,
     "metadata": {},
     "output_type": "execute_result"
    }
   ],
   "source": [
    "round (45.48)"
   ]
  },
  {
   "cell_type": "code",
   "execution_count": 83,
   "id": "305a05a5-686d-4cb7-ac22-0c4294e10715",
   "metadata": {},
   "outputs": [
    {
     "data": {
      "text/plain": [
       "63"
      ]
     },
     "execution_count": 83,
     "metadata": {},
     "output_type": "execute_result"
    }
   ],
   "source": [
    "round(62.56)"
   ]
  },
  {
   "cell_type": "code",
   "execution_count": 84,
   "id": "b068a0e1-12e2-4422-863c-2026712f59fd",
   "metadata": {},
   "outputs": [
    {
     "data": {
      "text/plain": [
       "56.46"
      ]
     },
     "execution_count": 84,
     "metadata": {},
     "output_type": "execute_result"
    }
   ],
   "source": [
    "round (56.456893, 2)"
   ]
  },
  {
   "cell_type": "code",
   "execution_count": 85,
   "id": "246f2ba1-b312-430d-9809-e26d32fa6e8e",
   "metadata": {},
   "outputs": [
    {
     "data": {
      "text/plain": [
       "45.56578"
      ]
     },
     "execution_count": 85,
     "metadata": {},
     "output_type": "execute_result"
    }
   ],
   "source": [
    "round (45.5657849093624, 5)"
   ]
  },
  {
   "cell_type": "markdown",
   "id": "ceb62f89-3839-4682-b807-aab6a9e473bc",
   "metadata": {},
   "source": [
    "#### Order of Operation is BODMAS"
   ]
  },
  {
   "cell_type": "markdown",
   "id": "afb30b47-1e71-4178-8abe-e1601ff70eef",
   "metadata": {},
   "source": [
    "3*2 / (8+4)\n",
    "\n",
    "Step 1 bracket --8+4= 12\n",
    "Step 2 division --2/12=0.166666666\n",
    "Step 3 multiplication --3*0.16666= 0.5"
   ]
  },
  {
   "cell_type": "code",
   "execution_count": 88,
   "id": "23047a33-381b-4a6c-84bc-fa224d756b06",
   "metadata": {},
   "outputs": [
    {
     "data": {
      "text/plain": [
       "0.5"
      ]
     },
     "execution_count": 88,
     "metadata": {},
     "output_type": "execute_result"
    }
   ],
   "source": [
    "3*2 /(8+4)"
   ]
  },
  {
   "cell_type": "markdown",
   "id": "555171c2-1d33-4e0f-834e-380207819cc4",
   "metadata": {},
   "source": [
    "#### Variable Assignment"
   ]
  },
  {
   "cell_type": "markdown",
   "id": "3dfd406a-e925-4fa4-b1ae-83b0966bb4d2",
   "metadata": {},
   "source": [
    "##### Variable holds values\n",
    "\n",
    "#### syntax to assign variable;\n",
    "\n",
    "#### Syntax : variable name = value"
   ]
  },
  {
   "cell_type": "code",
   "execution_count": 10,
   "id": "e8b3a660-bf7f-409b-a6cd-ffee1b5799a8",
   "metadata": {},
   "outputs": [],
   "source": [
    "name = 'Oluwadamilola'"
   ]
  },
  {
   "cell_type": "code",
   "execution_count": 12,
   "id": "0c71cad1-ef63-4877-90f8-166a472c384d",
   "metadata": {},
   "outputs": [
    {
     "data": {
      "text/plain": [
       "'Oluwadamilola'"
      ]
     },
     "execution_count": 12,
     "metadata": {},
     "output_type": "execute_result"
    }
   ],
   "source": [
    "name"
   ]
  },
  {
   "cell_type": "markdown",
   "id": "1d9d8ae8-5427-47ce-a5f4-31c8879b5493",
   "metadata": {},
   "source": [
    "### The proper way to print in python is to use the print statement"
   ]
  },
  {
   "cell_type": "markdown",
   "id": "52953c5e-2d5f-446b-abe5-096816d6275d",
   "metadata": {},
   "source": [
    "# Shortcut to comment on a line of code is \n",
    "# CTRL + /\n"
   ]
  },
  {
   "cell_type": "code",
   "execution_count": 14,
   "id": "08df18cc-5b74-4a22-afe1-7267c102f392",
   "metadata": {},
   "outputs": [
    {
     "name": "stdout",
     "output_type": "stream",
     "text": [
      "Oluwadamilola\n"
     ]
    }
   ],
   "source": [
    "# The proper way to print in python is to use the print statement\n",
    "\n",
    "print (name)"
   ]
  },
  {
   "cell_type": "code",
   "execution_count": 16,
   "id": "320eda6c-628f-49a8-92c0-845c226618e8",
   "metadata": {},
   "outputs": [],
   "source": [
    "salary = 5000000"
   ]
  },
  {
   "cell_type": "code",
   "execution_count": 18,
   "id": "057096df-49ea-4aff-a8e8-752c51708e44",
   "metadata": {},
   "outputs": [
    {
     "name": "stdout",
     "output_type": "stream",
     "text": [
      "5000000\n"
     ]
    }
   ],
   "source": [
    "print (salary)"
   ]
  },
  {
   "cell_type": "code",
   "execution_count": 30,
   "id": "524c22b3-b91e-4da6-bfae-fb9d043b1b74",
   "metadata": {},
   "outputs": [
    {
     "data": {
      "text/plain": [
       "6000000"
      ]
     },
     "execution_count": 30,
     "metadata": {},
     "output_type": "execute_result"
    }
   ],
   "source": [
    "# I get a promotion and my salary increase by 1000000\n",
    "salary + 1000000"
   ]
  },
  {
   "cell_type": "code",
   "execution_count": 32,
   "id": "f256726f-05dc-4ee6-a404-9b385b21d2f3",
   "metadata": {},
   "outputs": [],
   "source": [
    "name = 'Abosede'"
   ]
  },
  {
   "cell_type": "code",
   "execution_count": 34,
   "id": "08b847df-2066-4413-bf8d-cfa249fe1dfb",
   "metadata": {},
   "outputs": [
    {
     "name": "stdout",
     "output_type": "stream",
     "text": [
      "Abosede\n"
     ]
    }
   ],
   "source": [
    "print(name)"
   ]
  },
  {
   "cell_type": "code",
   "execution_count": 38,
   "id": "dc51f861-6ab7-40c3-8ea5-b28fc56ae1cc",
   "metadata": {},
   "outputs": [],
   "source": [
    "salary=salary+1000000"
   ]
  },
  {
   "cell_type": "code",
   "execution_count": 40,
   "id": "69ef5a91-17f9-4882-ae3a-428f51f56389",
   "metadata": {},
   "outputs": [
    {
     "name": "stdout",
     "output_type": "stream",
     "text": [
      "6000000\n"
     ]
    }
   ],
   "source": [
    "print (salary)"
   ]
  },
  {
   "cell_type": "code",
   "execution_count": null,
   "id": "30cdd50f-edbf-44a4-bbb8-4b2ec328bce7",
   "metadata": {},
   "outputs": [],
   "source": []
  },
  {
   "cell_type": "code",
   "execution_count": 42,
   "id": "b2565cab-8db6-48e7-9325-852b53978d27",
   "metadata": {},
   "outputs": [],
   "source": [
    "tax = (10/100) * salary"
   ]
  },
  {
   "cell_type": "code",
   "execution_count": 44,
   "id": "1b454220-d1b1-4cc7-a2de-1b9472f25c39",
   "metadata": {},
   "outputs": [
    {
     "name": "stdout",
     "output_type": "stream",
     "text": [
      "600000.0\n"
     ]
    }
   ],
   "source": [
    "print (tax)"
   ]
  },
  {
   "cell_type": "code",
   "execution_count": 46,
   "id": "1c23ddc1-18d0-485c-b092-da9c4451885e",
   "metadata": {},
   "outputs": [],
   "source": [
    "take_home = salary - tax"
   ]
  },
  {
   "cell_type": "code",
   "execution_count": 48,
   "id": "9cafcc0d-7edd-453f-b351-103b85b2c8bd",
   "metadata": {},
   "outputs": [
    {
     "name": "stdout",
     "output_type": "stream",
     "text": [
      "5400000.0\n"
     ]
    }
   ],
   "source": [
    "print (take_home)"
   ]
  },
  {
   "cell_type": "code",
   "execution_count": null,
   "id": "3f679712-75ca-4601-8184-f3a47265d058",
   "metadata": {},
   "outputs": [],
   "source": []
  },
  {
   "cell_type": "markdown",
   "id": "212aaa1c-5c9f-47b0-bede-c848d48ae74d",
   "metadata": {},
   "source": [
    "### Take input from the user"
   ]
  },
  {
   "cell_type": "code",
   "execution_count": 50,
   "id": "89bb7f6e-3c7b-43e8-98d7-2813545c55f9",
   "metadata": {},
   "outputs": [
    {
     "name": "stdin",
     "output_type": "stream",
     "text": [
      "please enter your salary 5000000\n"
     ]
    }
   ],
   "source": [
    "salary = input (\"please enter your salary\") # by defaults, it's assumes it's a string, reason for putting the quote"
   ]
  },
  {
   "cell_type": "code",
   "execution_count": 52,
   "id": "4cc7da21-33f5-4f0e-a57c-baacd32e120c",
   "metadata": {},
   "outputs": [
    {
     "name": "stdout",
     "output_type": "stream",
     "text": [
      "5000000\n"
     ]
    }
   ],
   "source": [
    "print (salary)"
   ]
  },
  {
   "cell_type": "code",
   "execution_count": 54,
   "id": "ed3e9b99-1305-4b82-bde7-d23d6b049bf9",
   "metadata": {},
   "outputs": [
    {
     "data": {
      "text/plain": [
       "str"
      ]
     },
     "execution_count": 54,
     "metadata": {},
     "output_type": "execute_result"
    }
   ],
   "source": [
    "type(salary)"
   ]
  },
  {
   "cell_type": "code",
   "execution_count": 64,
   "id": "a1aada2a-a432-4d85-8464-7d983b2b9668",
   "metadata": {},
   "outputs": [],
   "source": [
    "salary = int(salary)"
   ]
  },
  {
   "cell_type": "code",
   "execution_count": 58,
   "id": "d73e5f7f-ca62-4f44-804d-4f8b477102d9",
   "metadata": {},
   "outputs": [
    {
     "data": {
      "text/plain": [
       "int"
      ]
     },
     "execution_count": 58,
     "metadata": {},
     "output_type": "execute_result"
    }
   ],
   "source": [
    "type (salary)"
   ]
  },
  {
   "cell_type": "code",
   "execution_count": 66,
   "id": "c03deb99-3094-4b79-a506-09d24757b6bc",
   "metadata": {},
   "outputs": [
    {
     "name": "stdin",
     "output_type": "stream",
     "text": [
      "please enter your bonus if any (in USD):  1000000\n"
     ]
    }
   ],
   "source": [
    "bonus = int (input (\"please enter your bonus if any (in USD): \"))"
   ]
  },
  {
   "cell_type": "code",
   "execution_count": 68,
   "id": "dc423223-0c6a-4eb3-98f2-d6fab013f2b3",
   "metadata": {},
   "outputs": [
    {
     "data": {
      "text/plain": [
       "1000000"
      ]
     },
     "execution_count": 68,
     "metadata": {},
     "output_type": "execute_result"
    }
   ],
   "source": [
    "bonus"
   ]
  },
  {
   "cell_type": "code",
   "execution_count": 70,
   "id": "7f32e24f-a526-4d2e-90e8-b6bdb640e1c1",
   "metadata": {},
   "outputs": [],
   "source": [
    "salary = salary + bonus"
   ]
  },
  {
   "cell_type": "code",
   "execution_count": 72,
   "id": "720e1b8a-724a-4a7b-abda-15788de2343c",
   "metadata": {},
   "outputs": [
    {
     "data": {
      "text/plain": [
       "6000000"
      ]
     },
     "execution_count": 72,
     "metadata": {},
     "output_type": "execute_result"
    }
   ],
   "source": [
    "salary"
   ]
  },
  {
   "cell_type": "code",
   "execution_count": 74,
   "id": "9f00d136-e1f8-448d-9fbb-b7d5df73b145",
   "metadata": {},
   "outputs": [
    {
     "data": {
      "text/plain": [
       "int"
      ]
     },
     "execution_count": 74,
     "metadata": {},
     "output_type": "execute_result"
    }
   ],
   "source": [
    "type (bonus)"
   ]
  },
  {
   "cell_type": "code",
   "execution_count": 76,
   "id": "c3b39888-77c7-4238-9f26-ddd3ef01397c",
   "metadata": {},
   "outputs": [
    {
     "name": "stdout",
     "output_type": "stream",
     "text": [
      "6000000\n"
     ]
    }
   ],
   "source": [
    "print (salary)"
   ]
  },
  {
   "cell_type": "code",
   "execution_count": null,
   "id": "6e359052-5312-4fe5-a6dd-ca6b22e1545a",
   "metadata": {},
   "outputs": [],
   "source": []
  },
  {
   "cell_type": "code",
   "execution_count": 78,
   "id": "5e165931-f6ac-4331-aa4e-616baf6a5dbb",
   "metadata": {},
   "outputs": [
    {
     "name": "stdin",
     "output_type": "stream",
     "text": [
      "please enter the value of your income tax  if any:  15\n"
     ]
    }
   ],
   "source": [
    "tax = float (input (\"please enter the value of your income tax  if any: \"))/ 100 * salary"
   ]
  },
  {
   "cell_type": "code",
   "execution_count": 80,
   "id": "5fbe30a1-ee22-468b-9bef-1c159ce86a9d",
   "metadata": {},
   "outputs": [
    {
     "name": "stdout",
     "output_type": "stream",
     "text": [
      "900000.0\n"
     ]
    }
   ],
   "source": [
    "print (tax)"
   ]
  },
  {
   "cell_type": "code",
   "execution_count": null,
   "id": "e196a8b0-edff-4ccf-83a4-b0b62065d45a",
   "metadata": {},
   "outputs": [],
   "source": []
  },
  {
   "cell_type": "code",
   "execution_count": 82,
   "id": "b1a53cbd-9cdc-4e58-b466-a6de1a1b26dc",
   "metadata": {},
   "outputs": [],
   "source": [
    "take_home = salary - tax"
   ]
  },
  {
   "cell_type": "code",
   "execution_count": 84,
   "id": "a8e7203a-6a57-4dd1-bf0d-ac6b66c8ce7f",
   "metadata": {},
   "outputs": [
    {
     "name": "stdout",
     "output_type": "stream",
     "text": [
      "5100000.0\n"
     ]
    }
   ],
   "source": [
    "print (take_home)"
   ]
  },
  {
   "cell_type": "code",
   "execution_count": null,
   "id": "d8d499b4-d2bd-4ad2-b132-8b55c17c67e3",
   "metadata": {},
   "outputs": [],
   "source": []
  },
  {
   "cell_type": "code",
   "execution_count": null,
   "id": "637be264-dfb7-4519-989e-7f82b825f9ac",
   "metadata": {},
   "outputs": [],
   "source": []
  },
  {
   "cell_type": "markdown",
   "id": "fb655fae-8197-4e62-810f-72149a4d3d5a",
   "metadata": {},
   "source": [
    "Strings Data a.k.a Text Data"
   ]
  },
  {
   "cell_type": "code",
   "execution_count": 86,
   "id": "48fc595f-711d-4a48-acc6-e2d3d37bc208",
   "metadata": {},
   "outputs": [
    {
     "data": {
      "text/plain": [
       "'Hello world'"
      ]
     },
     "execution_count": 86,
     "metadata": {},
     "output_type": "execute_result"
    }
   ],
   "source": [
    "\"Hello world\""
   ]
  },
  {
   "cell_type": "code",
   "execution_count": 88,
   "id": "b2b93762-6fde-4dff-9642-a4b67f5a9c3b",
   "metadata": {},
   "outputs": [
    {
     "data": {
      "text/plain": [
       "str"
      ]
     },
     "execution_count": 88,
     "metadata": {},
     "output_type": "execute_result"
    }
   ],
   "source": [
    "type (\"Hello world\")"
   ]
  },
  {
   "cell_type": "code",
   "execution_count": 90,
   "id": "928b1dcc-d2c7-4900-917d-3bd26ff98178",
   "metadata": {},
   "outputs": [
    {
     "data": {
      "text/plain": [
       "\"I'm going out\""
      ]
     },
     "execution_count": 90,
     "metadata": {},
     "output_type": "execute_result"
    }
   ],
   "source": [
    "\"I'm going out\" ## if you're going to use the quote in between string then use the double quotation "
   ]
  },
  {
   "cell_type": "code",
   "execution_count": null,
   "id": "d7b8e736-1afc-4f0b-9dba-06ec38168d0a",
   "metadata": {},
   "outputs": [],
   "source": []
  },
  {
   "cell_type": "markdown",
   "id": "f8979fa5-db7c-4412-9d91-296a5896ca43",
   "metadata": {},
   "source": [
    "## String Operation\n",
    "\n",
    "1. Concatenation (+)"
   ]
  },
  {
   "cell_type": "code",
   "execution_count": 92,
   "id": "74f30e89-8b4d-4558-b27d-9fc3a15b5868",
   "metadata": {},
   "outputs": [
    {
     "data": {
      "text/plain": [
       "'HelloWorld'"
      ]
     },
     "execution_count": 92,
     "metadata": {},
     "output_type": "execute_result"
    }
   ],
   "source": [
    "\"Hello\" + \"World\""
   ]
  },
  {
   "cell_type": "code",
   "execution_count": 94,
   "id": "f58d2af6-f6df-4ec8-96f8-c054c1954201",
   "metadata": {},
   "outputs": [
    {
     "data": {
      "text/plain": [
       "'HelloGuysWelcometoPython'"
      ]
     },
     "execution_count": 94,
     "metadata": {},
     "output_type": "execute_result"
    }
   ],
   "source": [
    "\"Hello\" + \"Guys\" + \"Welcome\" + \"to\" + \"Python\""
   ]
  },
  {
   "cell_type": "code",
   "execution_count": 96,
   "id": "4f5b27a3-4397-4fe7-80ea-59e4a5433a25",
   "metadata": {},
   "outputs": [
    {
     "data": {
      "text/plain": [
       "'Hello Guys Welcome to Python '"
      ]
     },
     "execution_count": 96,
     "metadata": {},
     "output_type": "execute_result"
    }
   ],
   "source": [
    "\"Hello \" + \"Guys \" + \"Welcome \" + \"to \" + \"Python \""
   ]
  },
  {
   "cell_type": "code",
   "execution_count": 98,
   "id": "ec9d9b9d-dbd3-48b3-924c-a452ef34609a",
   "metadata": {},
   "outputs": [
    {
     "data": {
      "text/plain": [
       "'Hello Guys Welcome to Python'"
      ]
     },
     "execution_count": 98,
     "metadata": {},
     "output_type": "execute_result"
    }
   ],
   "source": [
    "\"Hello\" + \" \"+ \"Guys\" +  \" \"+ \"Welcome\" + \" \"+ \"to\" + \" \" + \"Python\""
   ]
  },
  {
   "cell_type": "code",
   "execution_count": null,
   "id": "f50ea05c-719e-4a78-bf27-9d626365cced",
   "metadata": {},
   "outputs": [],
   "source": []
  },
  {
   "cell_type": "code",
   "execution_count": 100,
   "id": "17ee6740-f256-457d-8ad6-280d6a6e4bf3",
   "metadata": {},
   "outputs": [
    {
     "name": "stdin",
     "output_type": "stream",
     "text": [
      " Hello\n",
      " World\n"
     ]
    }
   ],
   "source": [
    "greetings = input ()\n",
    "name = input ()"
   ]
  },
  {
   "cell_type": "code",
   "execution_count": 102,
   "id": "20307927-446f-49ad-b62f-7b3d715e5ed9",
   "metadata": {},
   "outputs": [
    {
     "data": {
      "text/plain": [
       "'Hello World'"
      ]
     },
     "execution_count": 102,
     "metadata": {},
     "output_type": "execute_result"
    }
   ],
   "source": [
    "greetings + \" \" + name"
   ]
  },
  {
   "cell_type": "markdown",
   "id": "edf028c1-1c16-43df-983b-8799be1f1265",
   "metadata": {},
   "source": [
    "2. Repetition (*)\n"
   ]
  },
  {
   "cell_type": "code",
   "execution_count": 104,
   "id": "af74e6fe-f581-4bb9-b4f5-a2208d6590f3",
   "metadata": {},
   "outputs": [
    {
     "data": {
      "text/plain": [
       "'HaHaHa'"
      ]
     },
     "execution_count": 104,
     "metadata": {},
     "output_type": "execute_result"
    }
   ],
   "source": [
    "\"Ha\" *3"
   ]
  },
  {
   "cell_type": "code",
   "execution_count": 106,
   "id": "130e31e1-be46-4639-822f-6acba2b2476d",
   "metadata": {},
   "outputs": [
    {
     "data": {
      "text/plain": [
       "'5555'"
      ]
     },
     "execution_count": 106,
     "metadata": {},
     "output_type": "execute_result"
    }
   ],
   "source": [
    "\"5\" * 4"
   ]
  },
  {
   "cell_type": "markdown",
   "id": "2c313690-0485-4b38-81dd-0fdcc6ee9fc7",
   "metadata": {},
   "source": [
    "3. Indexing [ ] and Slicing"
   ]
  },
  {
   "cell_type": "markdown",
   "id": "0e27cbdb-f94c-4a4e-af65-07031e824e27",
   "metadata": {},
   "source": [
    "* positive indexing- counts from left to right using positive values"
   ]
  },
  {
   "cell_type": "code",
   "execution_count": 108,
   "id": "dd72e1dc-6e4c-4f33-857a-c5daa1476600",
   "metadata": {},
   "outputs": [],
   "source": [
    "text = \"I can't afford to miss the calabar festival this year\""
   ]
  },
  {
   "cell_type": "code",
   "execution_count": 110,
   "id": "dfb55fb6-3a5f-4c9e-b293-bf145d647a1d",
   "metadata": {},
   "outputs": [
    {
     "data": {
      "text/plain": [
       "\"I can't afford to miss the calabar festival this year\""
      ]
     },
     "execution_count": 110,
     "metadata": {},
     "output_type": "execute_result"
    }
   ],
   "source": [
    "text"
   ]
  },
  {
   "cell_type": "code",
   "execution_count": 112,
   "id": "a52f6067-180a-4f12-a049-0d8000af1f91",
   "metadata": {},
   "outputs": [
    {
     "data": {
      "text/plain": [
       "'I'"
      ]
     },
     "execution_count": 112,
     "metadata": {},
     "output_type": "execute_result"
    }
   ],
   "source": [
    "text[0]"
   ]
  },
  {
   "cell_type": "code",
   "execution_count": 114,
   "id": "4dfbbabc-3b9b-4ce4-a15b-8caf0d3c7057",
   "metadata": {},
   "outputs": [
    {
     "data": {
      "text/plain": [
       "53"
      ]
     },
     "execution_count": 114,
     "metadata": {},
     "output_type": "execute_result"
    }
   ],
   "source": [
    "len(text)"
   ]
  },
  {
   "cell_type": "code",
   "execution_count": 116,
   "id": "fc3ff5e8-8d76-4aa6-9699-7e6a8be86888",
   "metadata": {},
   "outputs": [
    {
     "data": {
      "text/plain": [
       "'r'"
      ]
     },
     "execution_count": 116,
     "metadata": {},
     "output_type": "execute_result"
    }
   ],
   "source": [
    "text[52]  ## in this case 53 will throw an error because we are counting from 0"
   ]
  },
  {
   "cell_type": "markdown",
   "id": "85c0d040-6a9c-40df-a396-feb0e03f817a",
   "metadata": {},
   "source": [
    "* negative indexing counts from right to left using negative values"
   ]
  },
  {
   "cell_type": "code",
   "execution_count": 118,
   "id": "eaa23da3-7a4d-4c25-b8a0-553e225b2d5c",
   "metadata": {},
   "outputs": [
    {
     "data": {
      "text/plain": [
       "'r'"
      ]
     },
     "execution_count": 118,
     "metadata": {},
     "output_type": "execute_result"
    }
   ],
   "source": [
    "text[-1]"
   ]
  },
  {
   "cell_type": "code",
   "execution_count": 120,
   "id": "ff70b307-0202-4245-8adc-8f423fabb573",
   "metadata": {},
   "outputs": [
    {
     "data": {
      "text/plain": [
       "'a'"
      ]
     },
     "execution_count": 120,
     "metadata": {},
     "output_type": "execute_result"
    }
   ],
   "source": [
    "text [-2]"
   ]
  },
  {
   "cell_type": "code",
   "execution_count": 122,
   "id": "a3dad587-81a2-47e0-b3bd-b8818b01408a",
   "metadata": {},
   "outputs": [
    {
     "data": {
      "text/plain": [
       "'I'"
      ]
     },
     "execution_count": 122,
     "metadata": {},
     "output_type": "execute_result"
    }
   ],
   "source": [
    "text[-53] ## in this case, -53 will work cos we are counting from -1 and not -0"
   ]
  },
  {
   "cell_type": "markdown",
   "id": "6b03480f-47d4-49a3-9290-e2f56cc4fb88",
   "metadata": {},
   "source": [
    "##### Slicing [START]: [STOP]: [STEP]"
   ]
  },
  {
   "cell_type": "code",
   "execution_count": 124,
   "id": "4024c70a-dc69-43f2-a27e-a05a3b60061a",
   "metadata": {},
   "outputs": [
    {
     "data": {
      "text/plain": [
       "\"I can't afford to miss the calabar festival this year\""
      ]
     },
     "execution_count": 124,
     "metadata": {},
     "output_type": "execute_result"
    }
   ],
   "source": [
    "text"
   ]
  },
  {
   "cell_type": "code",
   "execution_count": 126,
   "id": "cecf3918-8d50-4c29-a474-1e488e54b446",
   "metadata": {},
   "outputs": [
    {
     "data": {
      "text/plain": [
       "\"I can't aff\""
      ]
     },
     "execution_count": 126,
     "metadata": {},
     "output_type": "execute_result"
    }
   ],
   "source": [
    "text[0:11]  ## if you need to stop at the 10th character, then plus 1 which will be 11, don't forget it starts counting from 0"
   ]
  },
  {
   "cell_type": "code",
   "execution_count": 128,
   "id": "3c691a05-58a2-496a-a5bd-9b52b97cfa76",
   "metadata": {},
   "outputs": [
    {
     "data": {
      "text/plain": [
       "\"I can't\""
      ]
     },
     "execution_count": 128,
     "metadata": {},
     "output_type": "execute_result"
    }
   ],
   "source": [
    "text[0:7]  ##use the next number"
   ]
  },
  {
   "cell_type": "code",
   "execution_count": 130,
   "id": "1c624eb0-4abe-47c9-a092-401ca5b330ee",
   "metadata": {},
   "outputs": [
    {
     "data": {
      "text/plain": [
       "\"can't\""
      ]
     },
     "execution_count": 130,
     "metadata": {},
     "output_type": "execute_result"
    }
   ],
   "source": [
    "text[2:7]  ## you don't have to start from zero"
   ]
  },
  {
   "cell_type": "code",
   "execution_count": 132,
   "id": "54cbb42f-d968-4b0c-9383-f193e2fb7127",
   "metadata": {},
   "outputs": [
    {
     "data": {
      "text/plain": [
       "\"can't afford to miss\""
      ]
     },
     "execution_count": 132,
     "metadata": {},
     "output_type": "execute_result"
    }
   ],
   "source": [
    "text [2:22]"
   ]
  },
  {
   "cell_type": "code",
   "execution_count": 134,
   "id": "312d522b-d64f-4b93-92a3-d698ab89a641",
   "metadata": {},
   "outputs": [
    {
     "data": {
      "text/plain": [
       "\"I can't\""
      ]
     },
     "execution_count": 134,
     "metadata": {},
     "output_type": "execute_result"
    }
   ],
   "source": [
    "text [:7]"
   ]
  },
  {
   "cell_type": "code",
   "execution_count": 136,
   "id": "1c712f9b-1359-4e87-a2b1-d4e360bc865c",
   "metadata": {},
   "outputs": [
    {
     "data": {
      "text/plain": [
       "\"can't afford to miss the calabar festival this year\""
      ]
     },
     "execution_count": 136,
     "metadata": {},
     "output_type": "execute_result"
    }
   ],
   "source": [
    "text [2:]"
   ]
  },
  {
   "cell_type": "code",
   "execution_count": 138,
   "id": "289ace75-8b9b-4834-a8bc-2bab127682dd",
   "metadata": {},
   "outputs": [
    {
     "data": {
      "text/plain": [
       "\"I can't afford to miss the calabar festival this year\""
      ]
     },
     "execution_count": 138,
     "metadata": {},
     "output_type": "execute_result"
    }
   ],
   "source": [
    "text[:]"
   ]
  },
  {
   "cell_type": "markdown",
   "id": "b7d016b0-8acb-4cf1-b200-c40c5f3c1c09",
   "metadata": {},
   "source": [
    "* negative slicing"
   ]
  },
  {
   "cell_type": "code",
   "execution_count": 140,
   "id": "de39589c-e328-42c4-85b9-672ca8740b01",
   "metadata": {},
   "outputs": [
    {
     "data": {
      "text/plain": [
       "\"can't afford to miss the calabar festival this\""
      ]
     },
     "execution_count": 140,
     "metadata": {},
     "output_type": "execute_result"
    }
   ],
   "source": [
    "text[2:-5]"
   ]
  },
  {
   "cell_type": "code",
   "execution_count": 142,
   "id": "2a00dd43-6e0b-4b2e-9ddf-d0e8db344c97",
   "metadata": {},
   "outputs": [
    {
     "data": {
      "text/plain": [
       "\"can't afford to miss the calabar festival\""
      ]
     },
     "execution_count": 142,
     "metadata": {},
     "output_type": "execute_result"
    }
   ],
   "source": [
    "text[2:-10]"
   ]
  },
  {
   "cell_type": "markdown",
   "id": "c3f823d4-9159-4bec-b5fc-e92d139c1ecb",
   "metadata": {},
   "source": [
    "* step"
   ]
  },
  {
   "cell_type": "code",
   "execution_count": 144,
   "id": "455f6184-34b5-43a9-b8d0-374a99b455ed",
   "metadata": {},
   "outputs": [
    {
     "data": {
      "text/plain": [
       "'Icntafr oms h aaa etvlti er'"
      ]
     },
     "execution_count": 144,
     "metadata": {},
     "output_type": "execute_result"
    }
   ],
   "source": [
    "text[0:53:2]"
   ]
  },
  {
   "cell_type": "code",
   "execution_count": 146,
   "id": "21071e31-3700-49c2-b494-653ff65191da",
   "metadata": {},
   "outputs": [],
   "source": [
    "numbers= '123456789'"
   ]
  },
  {
   "cell_type": "code",
   "execution_count": 148,
   "id": "8ff2ecf2-bef9-4d7f-abad-f29ffd5f6bc8",
   "metadata": {},
   "outputs": [
    {
     "data": {
      "text/plain": [
       "'1'"
      ]
     },
     "execution_count": 148,
     "metadata": {},
     "output_type": "execute_result"
    }
   ],
   "source": [
    "numbers[0]"
   ]
  },
  {
   "cell_type": "code",
   "execution_count": 150,
   "id": "bb32ca14-e128-4e71-871f-ba1d41f41c8c",
   "metadata": {},
   "outputs": [
    {
     "data": {
      "text/plain": [
       "'4'"
      ]
     },
     "execution_count": 150,
     "metadata": {},
     "output_type": "execute_result"
    }
   ],
   "source": [
    "numbers[3]"
   ]
  },
  {
   "cell_type": "code",
   "execution_count": 154,
   "id": "609eda82-7790-4c16-a611-efe1bc980ff8",
   "metadata": {},
   "outputs": [
    {
     "data": {
      "text/plain": [
       "'13579'"
      ]
     },
     "execution_count": 154,
     "metadata": {},
     "output_type": "execute_result"
    }
   ],
   "source": [
    "numbers[::2]"
   ]
  },
  {
   "cell_type": "code",
   "execution_count": 156,
   "id": "187b0a02-80d1-4b76-81d0-adbce226b0d9",
   "metadata": {},
   "outputs": [
    {
     "data": {
      "text/plain": [
       "'147'"
      ]
     },
     "execution_count": 156,
     "metadata": {},
     "output_type": "execute_result"
    }
   ],
   "source": [
    "numbers[: : 3]"
   ]
  },
  {
   "cell_type": "code",
   "execution_count": 158,
   "id": "a554149d-496e-4baa-af33-e217017a16cc",
   "metadata": {},
   "outputs": [
    {
     "data": {
      "text/plain": [
       "'159'"
      ]
     },
     "execution_count": 158,
     "metadata": {},
     "output_type": "execute_result"
    }
   ],
   "source": [
    "numbers[: : 4]"
   ]
  },
  {
   "cell_type": "code",
   "execution_count": 160,
   "id": "ee3c04b6-605b-45f2-a258-1bda99edaf2f",
   "metadata": {},
   "outputs": [
    {
     "data": {
      "text/plain": [
       "'246'"
      ]
     },
     "execution_count": 160,
     "metadata": {},
     "output_type": "execute_result"
    }
   ],
   "source": [
    "numbers[1:6:2]"
   ]
  },
  {
   "cell_type": "code",
   "execution_count": null,
   "id": "be2ea463-e1f2-4879-94be-0a95a24363cc",
   "metadata": {},
   "outputs": [],
   "source": []
  },
  {
   "cell_type": "code",
   "execution_count": null,
   "id": "7152fd8c-0586-4dc2-aa81-5ecd954f0d09",
   "metadata": {},
   "outputs": [],
   "source": []
  },
  {
   "cell_type": "markdown",
   "id": "80115898-ec0b-469d-9c7b-e340e23d6228",
   "metadata": {},
   "source": [
    "### Upper case function in strings"
   ]
  },
  {
   "cell_type": "code",
   "execution_count": 162,
   "id": "d7887ab0-601c-411e-a645-0481eaf4a5d3",
   "metadata": {},
   "outputs": [
    {
     "data": {
      "text/plain": [
       "'LETTER TO MR PRESIDENT'"
      ]
     },
     "execution_count": 162,
     "metadata": {},
     "output_type": "execute_result"
    }
   ],
   "source": [
    "'Letter to Mr President'.upper()"
   ]
  },
  {
   "cell_type": "code",
   "execution_count": 164,
   "id": "f389f101-7f1a-4591-962d-73e652cad24a",
   "metadata": {},
   "outputs": [
    {
     "name": "stdin",
     "output_type": "stream",
     "text": [
      " Please borrow me 5k\n"
     ]
    }
   ],
   "source": [
    "text= input()"
   ]
  },
  {
   "cell_type": "code",
   "execution_count": 166,
   "id": "da2f143a-8eec-4249-b8a6-349d049e44f6",
   "metadata": {},
   "outputs": [
    {
     "data": {
      "text/plain": [
       "'PLEASE BORROW ME 5K'"
      ]
     },
     "execution_count": 166,
     "metadata": {},
     "output_type": "execute_result"
    }
   ],
   "source": [
    "text.upper()"
   ]
  },
  {
   "cell_type": "code",
   "execution_count": null,
   "id": "5c879da9-8329-4c3c-8feb-ce1464999ba8",
   "metadata": {},
   "outputs": [],
   "source": []
  },
  {
   "cell_type": "code",
   "execution_count": null,
   "id": "a4d53d21-a9c7-4f56-8236-c159b8ea92cd",
   "metadata": {},
   "outputs": [],
   "source": [
    "text=input()"
   ]
  },
  {
   "cell_type": "code",
   "execution_count": 168,
   "id": "8aaf03a5-8e46-4bcd-bf3e-dab454303824",
   "metadata": {},
   "outputs": [
    {
     "data": {
      "text/plain": [
       "'please borrow me 5k'"
      ]
     },
     "execution_count": 168,
     "metadata": {},
     "output_type": "execute_result"
    }
   ],
   "source": [
    "text.lower()"
   ]
  },
  {
   "cell_type": "code",
   "execution_count": null,
   "id": "22334513-20eb-4e14-bc29-1a921be4fd77",
   "metadata": {},
   "outputs": [],
   "source": []
  },
  {
   "cell_type": "code",
   "execution_count": null,
   "id": "6543acde-2833-4bb8-b4dd-6a6965a44596",
   "metadata": {},
   "outputs": [],
   "source": [
    "text=input()"
   ]
  },
  {
   "cell_type": "code",
   "execution_count": 170,
   "id": "e7854733-a10a-41de-97d1-3008f354cd78",
   "metadata": {},
   "outputs": [
    {
     "data": {
      "text/plain": [
       "'Please borrow me 5k'"
      ]
     },
     "execution_count": 170,
     "metadata": {},
     "output_type": "execute_result"
    }
   ],
   "source": [
    "text.capitalize()"
   ]
  },
  {
   "cell_type": "code",
   "execution_count": null,
   "id": "fe878ac3-301e-4d01-93ae-add9743e7ddb",
   "metadata": {},
   "outputs": [],
   "source": []
  },
  {
   "cell_type": "code",
   "execution_count": 172,
   "id": "646b243d-5fc2-4838-979d-6cf67fc86fc2",
   "metadata": {},
   "outputs": [
    {
     "name": "stdin",
     "output_type": "stream",
     "text": [
      " I just bought a new car\n"
     ]
    }
   ],
   "source": [
    "text=input()"
   ]
  },
  {
   "cell_type": "code",
   "execution_count": 178,
   "id": "01cfc509-68ba-45ca-81f7-bc7521570bd1",
   "metadata": {},
   "outputs": [
    {
     "data": {
      "text/plain": [
       "'i just bought a new car'"
      ]
     },
     "execution_count": 178,
     "metadata": {},
     "output_type": "execute_result"
    }
   ],
   "source": [
    "text.lower()"
   ]
  },
  {
   "cell_type": "code",
   "execution_count": 180,
   "id": "481c8e17-1f70-47f7-b47f-0a676aca4b52",
   "metadata": {},
   "outputs": [
    {
     "name": "stdin",
     "output_type": "stream",
     "text": [
      " Letter to the Immigration\n"
     ]
    }
   ],
   "source": [
    "text=input()"
   ]
  },
  {
   "cell_type": "code",
   "execution_count": 186,
   "id": "cfc6561e-a5b2-4b2e-a08c-b4b3df94d542",
   "metadata": {},
   "outputs": [
    {
     "data": {
      "text/plain": [
       "'Letter to the immigration'"
      ]
     },
     "execution_count": 186,
     "metadata": {},
     "output_type": "execute_result"
    }
   ],
   "source": [
    "text.capitalize()"
   ]
  },
  {
   "cell_type": "code",
   "execution_count": null,
   "id": "99537bab-3db0-48a3-94f1-4167149bb602",
   "metadata": {},
   "outputs": [],
   "source": []
  },
  {
   "cell_type": "code",
   "execution_count": 188,
   "id": "a405f96b-2fe4-4e15-bf1e-8b6cdda3f941",
   "metadata": {},
   "outputs": [
    {
     "name": "stdin",
     "output_type": "stream",
     "text": [
      " The president of Nigeria is Buhari\n"
     ]
    }
   ],
   "source": [
    "text=input()"
   ]
  },
  {
   "cell_type": "code",
   "execution_count": 190,
   "id": "661a436e-7504-41d5-be49-7343ec061ae9",
   "metadata": {},
   "outputs": [
    {
     "data": {
      "text/plain": [
       "'The president of Nigeria is Buhari'"
      ]
     },
     "execution_count": 190,
     "metadata": {},
     "output_type": "execute_result"
    }
   ],
   "source": [
    "text"
   ]
  },
  {
   "cell_type": "code",
   "execution_count": 192,
   "id": "c78482a0-90e4-4a97-b130-18ee7c5f026e",
   "metadata": {},
   "outputs": [
    {
     "data": {
      "text/plain": [
       "'The president of Nigeria is Tinubu'"
      ]
     },
     "execution_count": 192,
     "metadata": {},
     "output_type": "execute_result"
    }
   ],
   "source": [
    "text.replace('Buhari','Tinubu')"
   ]
  },
  {
   "cell_type": "code",
   "execution_count": null,
   "id": "3e55c4ac-3953-4a2c-84dc-df70cb162c81",
   "metadata": {},
   "outputs": [],
   "source": []
  },
  {
   "cell_type": "code",
   "execution_count": null,
   "id": "3c8ef1be-9144-4283-b2b1-917971cb84a6",
   "metadata": {},
   "outputs": [],
   "source": []
  },
  {
   "cell_type": "code",
   "execution_count": 196,
   "id": "60e98660-3746-40fe-b13e-14e998ac9c13",
   "metadata": {},
   "outputs": [
    {
     "data": {
      "text/plain": [
       "'that will be all for now'"
      ]
     },
     "execution_count": 196,
     "metadata": {},
     "output_type": "execute_result"
    }
   ],
   "source": [
    "'that will be all for now  '. strip() ##takes away the space"
   ]
  },
  {
   "cell_type": "code",
   "execution_count": null,
   "id": "1b9333e3-1c18-4543-ae83-824c2e825f1f",
   "metadata": {},
   "outputs": [],
   "source": []
  },
  {
   "cell_type": "code",
   "execution_count": null,
   "id": "6c802c29-7cc5-47c1-9c10-ef5c9726b042",
   "metadata": {},
   "outputs": [],
   "source": []
  },
  {
   "cell_type": "markdown",
   "id": "509c5d42-3e1a-41ff-89ce-d760de729361",
   "metadata": {},
   "source": [
    "### Print Formatting"
   ]
  },
  {
   "cell_type": "code",
   "execution_count": null,
   "id": "86281659-5f8c-4826-873f-2b0afb112f1c",
   "metadata": {},
   "outputs": [],
   "source": [
    "print ('Hi guys')"
   ]
  },
  {
   "cell_type": "code",
   "execution_count": 198,
   "id": "41f49b85-f4a2-4615-949d-3c2376b939fb",
   "metadata": {},
   "outputs": [
    {
     "name": "stdin",
     "output_type": "stream",
     "text": [
      " Oluwadamilola\n"
     ]
    }
   ],
   "source": [
    "name= input()"
   ]
  },
  {
   "cell_type": "code",
   "execution_count": 200,
   "id": "6e8ba12e-23d6-4d79-9cbb-57e7e87005c5",
   "metadata": {},
   "outputs": [
    {
     "name": "stdout",
     "output_type": "stream",
     "text": [
      "Oluwadamilola\n"
     ]
    }
   ],
   "source": [
    "print (name)"
   ]
  },
  {
   "cell_type": "markdown",
   "id": "fe060918-27f2-4a87-a571-5f46539b9f4d",
   "metadata": {},
   "source": [
    "##### .format( ) approach"
   ]
  },
  {
   "cell_type": "code",
   "execution_count": 202,
   "id": "3a08f5c1-35c8-47d0-9a1a-337fa38e2553",
   "metadata": {},
   "outputs": [
    {
     "name": "stdout",
     "output_type": "stream",
     "text": [
      "Hi Oluwadamilola\n"
     ]
    }
   ],
   "source": [
    "print (\"Hi {}\". format(name)) ## the curly bracket is the postion you want your name to be at"
   ]
  },
  {
   "cell_type": "code",
   "execution_count": 204,
   "id": "9cd85b43-ad51-4c27-b07a-2471163e0bd3",
   "metadata": {},
   "outputs": [
    {
     "name": "stdout",
     "output_type": "stream",
     "text": [
      "Hi Oluwadamilola, Welcome back\n"
     ]
    }
   ],
   "source": [
    "print (\"Hi {}, Welcome back\". format(name))"
   ]
  },
  {
   "cell_type": "code",
   "execution_count": null,
   "id": "d85d8379-14f1-4cab-ab84-c12fe6992649",
   "metadata": {},
   "outputs": [],
   "source": []
  },
  {
   "cell_type": "code",
   "execution_count": 206,
   "id": "03d0ac02-e436-4657-a456-fae87831e055",
   "metadata": {},
   "outputs": [
    {
     "name": "stdin",
     "output_type": "stream",
     "text": [
      " Nebiant\n"
     ]
    }
   ],
   "source": [
    "organization=input()"
   ]
  },
  {
   "cell_type": "code",
   "execution_count": 208,
   "id": "e75080ae-48d3-451a-b269-a3f2c267c886",
   "metadata": {},
   "outputs": [
    {
     "data": {
      "text/plain": [
       "'Nebiant'"
      ]
     },
     "execution_count": 208,
     "metadata": {},
     "output_type": "execute_result"
    }
   ],
   "source": [
    "organization"
   ]
  },
  {
   "cell_type": "code",
   "execution_count": 210,
   "id": "e10c99f2-bb87-411e-a9de-6b61e08ac2ce",
   "metadata": {},
   "outputs": [
    {
     "name": "stdout",
     "output_type": "stream",
     "text": [
      "Hi Oluwadamilola, Welcome back to Nebiant\n"
     ]
    }
   ],
   "source": [
    "print (\"Hi {}, Welcome back to {}\". format(name, organization)) #first curly bracket for name, second for organization"
   ]
  },
  {
   "cell_type": "code",
   "execution_count": null,
   "id": "5346b7d2-a2aa-4b2b-be2d-2c8ba2bb4824",
   "metadata": {},
   "outputs": [],
   "source": []
  },
  {
   "cell_type": "code",
   "execution_count": null,
   "id": "fbe76b89-3783-4c5e-8c19-dc5c65c90e7f",
   "metadata": {},
   "outputs": [],
   "source": []
  },
  {
   "cell_type": "markdown",
   "id": "a90724c1-e44f-4503-ada4-1c19463d6fbd",
   "metadata": {},
   "source": [
    "* f-string approach"
   ]
  },
  {
   "cell_type": "code",
   "execution_count": 212,
   "id": "6c666567-cdbf-4990-9838-00afff621070",
   "metadata": {},
   "outputs": [
    {
     "name": "stdout",
     "output_type": "stream",
     "text": [
      "Hi Oluwadamilola, Welcome back to Nebiant\n"
     ]
    }
   ],
   "source": [
    "print (f\"Hi {name}, Welcome back to {organization}\")"
   ]
  },
  {
   "cell_type": "code",
   "execution_count": null,
   "id": "f95e14fc-e100-4e6a-b693-13aab901b433",
   "metadata": {},
   "outputs": [],
   "source": []
  },
  {
   "cell_type": "code",
   "execution_count": 214,
   "id": "68b4a054-a253-4913-b83b-076258d084ea",
   "metadata": {},
   "outputs": [
    {
     "name": "stdout",
     "output_type": "stream",
     "text": [
      "My name is Oluwadamilola, I work with Nebiant\n"
     ]
    }
   ],
   "source": [
    "print(f\"My name is {name}, I work with {organization}\")"
   ]
  },
  {
   "cell_type": "code",
   "execution_count": null,
   "id": "30644d7c-ea44-45d4-8e0f-c4b03cb1ffc2",
   "metadata": {},
   "outputs": [],
   "source": []
  },
  {
   "cell_type": "markdown",
   "id": "313e8818-ebfc-4b05-a603-065b8a758291",
   "metadata": {},
   "source": [
    "### Secondary Data type\n",
    "\n",
    "List [ ]"
   ]
  },
  {
   "cell_type": "markdown",
   "id": "cfa8f05b-29ff-451b-b25d-a856bc1a1693",
   "metadata": {},
   "source": [
    "* List is sequence of values called items or elements\n",
    "* The elements can be of any data type\n",
    "* The list is a most versatile data type available in python\n",
    "* List can be written as comma seperated values between square brackets\n",
    "* Lists are mutable meaning they can be changed"
   ]
  },
  {
   "cell_type": "code",
   "execution_count": 318,
   "id": "9aa330fd-91af-4ade-bb6b-3bc0c32e616d",
   "metadata": {},
   "outputs": [],
   "source": [
    "music_list = ['Omemma', 'Worthy of my Praise', 'Yahweh Sabaoth', 'Olodumare']"
   ]
  },
  {
   "cell_type": "code",
   "execution_count": 320,
   "id": "74486ce4-1649-496d-a11c-8643975092ff",
   "metadata": {},
   "outputs": [
    {
     "data": {
      "text/plain": [
       "['Omemma', 'Worthy of my Praise', 'Yahweh Sabaoth', 'Olodumare']"
      ]
     },
     "execution_count": 320,
     "metadata": {},
     "output_type": "execute_result"
    }
   ],
   "source": [
    "music_list"
   ]
  },
  {
   "cell_type": "code",
   "execution_count": null,
   "id": "5542d3a9-6212-42b4-805c-256968a7c304",
   "metadata": {},
   "outputs": [],
   "source": []
  },
  {
   "cell_type": "code",
   "execution_count": 220,
   "id": "0eb96e4f-5d72-4f40-b205-fe21840d7d30",
   "metadata": {},
   "outputs": [
    {
     "data": {
      "text/plain": [
       "list"
      ]
     },
     "execution_count": 220,
     "metadata": {},
     "output_type": "execute_result"
    }
   ],
   "source": [
    "type (music_list)"
   ]
  },
  {
   "cell_type": "code",
   "execution_count": 222,
   "id": "83c3dbec-753a-419c-932e-d3efb4bede33",
   "metadata": {},
   "outputs": [
    {
     "data": {
      "text/plain": [
       "4"
      ]
     },
     "execution_count": 222,
     "metadata": {},
     "output_type": "execute_result"
    }
   ],
   "source": [
    "len(music_list)"
   ]
  },
  {
   "cell_type": "code",
   "execution_count": null,
   "id": "42850dbf-b1cb-407c-b2d4-e9266715bd50",
   "metadata": {},
   "outputs": [],
   "source": []
  },
  {
   "cell_type": "markdown",
   "id": "8775056b-c9f9-48f2-b864-d33468308543",
   "metadata": {},
   "source": [
    "#### Concatenation and Reptition"
   ]
  },
  {
   "cell_type": "code",
   "execution_count": 252,
   "id": "1789b57d-46a6-4fa2-8026-09c8430d41aa",
   "metadata": {},
   "outputs": [],
   "source": [
    "names= [\"Ade\", \"Musa\", \"Kings\", \"Yemi\"]"
   ]
  },
  {
   "cell_type": "code",
   "execution_count": 254,
   "id": "48077110-615a-4d72-a261-08bb652b6d9a",
   "metadata": {},
   "outputs": [
    {
     "data": {
      "text/plain": [
       "['Ade', 'Musa', 'Kings', 'Yemi']"
      ]
     },
     "execution_count": 254,
     "metadata": {},
     "output_type": "execute_result"
    }
   ],
   "source": [
    "names"
   ]
  },
  {
   "cell_type": "code",
   "execution_count": 256,
   "id": "b2d909f7-bf23-485b-804a-6f7aa36023fd",
   "metadata": {},
   "outputs": [],
   "source": [
    "names= names+ [\"Frank\", \"Tobi\"]"
   ]
  },
  {
   "cell_type": "code",
   "execution_count": 258,
   "id": "341b2bee-2cba-4918-8429-0ed6fd62920a",
   "metadata": {},
   "outputs": [
    {
     "data": {
      "text/plain": [
       "['Ade', 'Musa', 'Kings', 'Yemi', 'Frank', 'Tobi']"
      ]
     },
     "execution_count": 258,
     "metadata": {},
     "output_type": "execute_result"
    }
   ],
   "source": [
    "names"
   ]
  },
  {
   "cell_type": "markdown",
   "id": "7924b41a-03e5-4354-8e6f-5a4e796ea244",
   "metadata": {},
   "source": [
    "* Repetition"
   ]
  },
  {
   "cell_type": "code",
   "execution_count": 260,
   "id": "724391c2-bf74-4746-b9be-c762e1d0c5a2",
   "metadata": {},
   "outputs": [
    {
     "name": "stdout",
     "output_type": "stream",
     "text": [
      "['Ade', 'Musa', 'Kings', 'Yemi', 'Frank', 'Tobi', 'Ade', 'Musa', 'Kings', 'Yemi', 'Frank', 'Tobi', 'Ade', 'Musa', 'Kings', 'Yemi', 'Frank', 'Tobi']\n"
     ]
    }
   ],
   "source": [
    " print(names * 3)"
   ]
  },
  {
   "cell_type": "code",
   "execution_count": null,
   "id": "e180e4ad-115d-4912-a731-e202f8197277",
   "metadata": {},
   "outputs": [],
   "source": []
  },
  {
   "cell_type": "markdown",
   "id": "3ca2c666-6b40-4117-8a92-eab45a29a553",
   "metadata": {},
   "source": [
    "* Indexing and Slicing"
   ]
  },
  {
   "cell_type": "code",
   "execution_count": 322,
   "id": "afcf1615-fec2-4586-a800-a71ba1663643",
   "metadata": {},
   "outputs": [
    {
     "data": {
      "text/plain": [
       "['Omemma', 'Worthy of my Praise', 'Yahweh Sabaoth', 'Olodumare']"
      ]
     },
     "execution_count": 322,
     "metadata": {},
     "output_type": "execute_result"
    }
   ],
   "source": [
    "music_list"
   ]
  },
  {
   "cell_type": "code",
   "execution_count": 264,
   "id": "8f146f4f-eb0e-482c-93fa-15ecb228904d",
   "metadata": {},
   "outputs": [
    {
     "data": {
      "text/plain": [
       "'Omemma'"
      ]
     },
     "execution_count": 264,
     "metadata": {},
     "output_type": "execute_result"
    }
   ],
   "source": [
    "music_list[0]"
   ]
  },
  {
   "cell_type": "code",
   "execution_count": 266,
   "id": "95569b3d-f364-43fb-b796-9a00b0019bf5",
   "metadata": {},
   "outputs": [
    {
     "data": {
      "text/plain": [
       "'Worthy of my Praise'"
      ]
     },
     "execution_count": 266,
     "metadata": {},
     "output_type": "execute_result"
    }
   ],
   "source": [
    "music_list[1]"
   ]
  },
  {
   "cell_type": "code",
   "execution_count": 268,
   "id": "b15e7154-d8a8-4d1e-982a-a9aa9d1a1bc2",
   "metadata": {},
   "outputs": [
    {
     "data": {
      "text/plain": [
       "'Olodumare'"
      ]
     },
     "execution_count": 268,
     "metadata": {},
     "output_type": "execute_result"
    }
   ],
   "source": [
    "music_list [3]"
   ]
  },
  {
   "cell_type": "code",
   "execution_count": 270,
   "id": "7fe907e6-641f-4650-b27a-2d0bd7c755ed",
   "metadata": {},
   "outputs": [
    {
     "data": {
      "text/plain": [
       "'Olodumare'"
      ]
     },
     "execution_count": 270,
     "metadata": {},
     "output_type": "execute_result"
    }
   ],
   "source": [
    "music_list[-1]"
   ]
  },
  {
   "cell_type": "code",
   "execution_count": 272,
   "id": "c7051e4d-80ba-4816-b398-b1e747302f7c",
   "metadata": {},
   "outputs": [
    {
     "data": {
      "text/plain": [
       "'Omemma'"
      ]
     },
     "execution_count": 272,
     "metadata": {},
     "output_type": "execute_result"
    }
   ],
   "source": [
    "music_list[-4]"
   ]
  },
  {
   "cell_type": "code",
   "execution_count": null,
   "id": "a22f16ca-5fa2-4807-b9e5-a7b4c48310b8",
   "metadata": {},
   "outputs": [],
   "source": []
  },
  {
   "cell_type": "code",
   "execution_count": 324,
   "id": "8aa048c0-6d15-4c64-a211-8aef48de6856",
   "metadata": {},
   "outputs": [
    {
     "data": {
      "text/plain": [
       "['Omemma', 'Worthy of my Praise', 'Yahweh Sabaoth', 'Olodumare']"
      ]
     },
     "execution_count": 324,
     "metadata": {},
     "output_type": "execute_result"
    }
   ],
   "source": [
    "music_list"
   ]
  },
  {
   "cell_type": "code",
   "execution_count": 276,
   "id": "b733226e-c149-4a2c-8f9b-272aaf1a777f",
   "metadata": {},
   "outputs": [
    {
     "data": {
      "text/plain": [
       "['Omemma', 'Worthy of my Praise', 'Yahweh Sabaoth']"
      ]
     },
     "execution_count": 276,
     "metadata": {},
     "output_type": "execute_result"
    }
   ],
   "source": [
    "#### [START]:[STOP]:[STEP]\n",
    "music_list [0:3]\n"
   ]
  },
  {
   "cell_type": "code",
   "execution_count": 278,
   "id": "22366550-7963-41fe-a830-e874e7fabadf",
   "metadata": {},
   "outputs": [
    {
     "data": {
      "text/plain": [
       "['Worthy of my Praise', 'Yahweh Sabaoth']"
      ]
     },
     "execution_count": 278,
     "metadata": {},
     "output_type": "execute_result"
    }
   ],
   "source": [
    "music_list [1:3] #stop is unique in positive indexing, it goes to the next number (+1 )"
   ]
  },
  {
   "cell_type": "code",
   "execution_count": null,
   "id": "6a7864c5-1e1d-48a6-95b5-2dfe86af0cf3",
   "metadata": {},
   "outputs": [],
   "source": []
  },
  {
   "cell_type": "code",
   "execution_count": 280,
   "id": "8709d39e-f44e-4210-8f21-86fdf0b0f5a5",
   "metadata": {},
   "outputs": [
    {
     "data": {
      "text/plain": [
       "['Yahweh Sabaoth', 'Olodumare']"
      ]
     },
     "execution_count": 280,
     "metadata": {},
     "output_type": "execute_result"
    }
   ],
   "source": [
    "music_list [2:4]"
   ]
  },
  {
   "cell_type": "code",
   "execution_count": null,
   "id": "012267cb-a8ac-4302-9f4d-47a4dd966555",
   "metadata": {},
   "outputs": [],
   "source": []
  },
  {
   "cell_type": "code",
   "execution_count": 282,
   "id": "dc1500b7-b197-4c07-a0d7-6f56aee862df",
   "metadata": {},
   "outputs": [
    {
     "data": {
      "text/plain": [
       "['Omemma', 'Worthy of my Praise', 'Yahweh Sabaoth']"
      ]
     },
     "execution_count": 282,
     "metadata": {},
     "output_type": "execute_result"
    }
   ],
   "source": [
    "music_list[0:-1]"
   ]
  },
  {
   "cell_type": "code",
   "execution_count": null,
   "id": "f03789b0-348b-4aeb-be64-379d9170e2ef",
   "metadata": {},
   "outputs": [],
   "source": []
  },
  {
   "cell_type": "code",
   "execution_count": 284,
   "id": "472c8e4a-7b9e-4769-8ad1-8b2cc95a2162",
   "metadata": {},
   "outputs": [],
   "source": [
    "list1 =[1,2,3]\n",
    "list2=[4,5,6]\n",
    "list3=[7,8,9]"
   ]
  },
  {
   "cell_type": "code",
   "execution_count": 286,
   "id": "cb2d9868-0229-46e5-b797-f51d9cd7c5b2",
   "metadata": {},
   "outputs": [
    {
     "data": {
      "text/plain": [
       "[1, 2, 3]"
      ]
     },
     "execution_count": 286,
     "metadata": {},
     "output_type": "execute_result"
    }
   ],
   "source": [
    "list1"
   ]
  },
  {
   "cell_type": "code",
   "execution_count": null,
   "id": "0ae7e9c1-a2f0-402b-8b36-3f5701c89b7a",
   "metadata": {},
   "outputs": [],
   "source": []
  },
  {
   "cell_type": "code",
   "execution_count": 288,
   "id": "318ac346-097f-4513-a3b9-a92481c1a967",
   "metadata": {},
   "outputs": [],
   "source": [
    "all_list = [list1, list2, list3]"
   ]
  },
  {
   "cell_type": "code",
   "execution_count": 290,
   "id": "3221a963-657c-4ee9-90af-6610dd44198c",
   "metadata": {},
   "outputs": [
    {
     "data": {
      "text/plain": [
       "[[1, 2, 3], [4, 5, 6], [7, 8, 9]]"
      ]
     },
     "execution_count": 290,
     "metadata": {},
     "output_type": "execute_result"
    }
   ],
   "source": [
    "all_list"
   ]
  },
  {
   "cell_type": "code",
   "execution_count": 292,
   "id": "f8eeb64b-f403-491a-9d35-26c1ed91dd8a",
   "metadata": {},
   "outputs": [
    {
     "data": {
      "text/plain": [
       "[1, 2, 3]"
      ]
     },
     "execution_count": 292,
     "metadata": {},
     "output_type": "execute_result"
    }
   ],
   "source": [
    "all_list[0]"
   ]
  },
  {
   "cell_type": "code",
   "execution_count": 294,
   "id": "470c70c8-e5f0-4806-a86d-286d82082af1",
   "metadata": {},
   "outputs": [
    {
     "data": {
      "text/plain": [
       "[4, 5, 6]"
      ]
     },
     "execution_count": 294,
     "metadata": {},
     "output_type": "execute_result"
    }
   ],
   "source": [
    "all_list[1]"
   ]
  },
  {
   "cell_type": "code",
   "execution_count": 308,
   "id": "c92d9328-06a1-471e-b78f-addb4cc89cae",
   "metadata": {},
   "outputs": [
    {
     "data": {
      "text/plain": [
       "[7, 8, 9]"
      ]
     },
     "execution_count": 308,
     "metadata": {},
     "output_type": "execute_result"
    }
   ],
   "source": [
    "all_list[2]"
   ]
  },
  {
   "cell_type": "code",
   "execution_count": 296,
   "id": "ba7d096f-e196-467e-afd6-043cd089e75a",
   "metadata": {},
   "outputs": [
    {
     "data": {
      "text/plain": [
       "3"
      ]
     },
     "execution_count": 296,
     "metadata": {},
     "output_type": "execute_result"
    }
   ],
   "source": [
    "all_list [0][2] ##checking values inside list"
   ]
  },
  {
   "cell_type": "code",
   "execution_count": 312,
   "id": "dc1bfdb4-0ecf-4be7-920a-a43c764e16c6",
   "metadata": {},
   "outputs": [
    {
     "data": {
      "text/plain": [
       "9"
      ]
     },
     "execution_count": 312,
     "metadata": {},
     "output_type": "execute_result"
    }
   ],
   "source": [
    "all_list [2][2]"
   ]
  },
  {
   "cell_type": "code",
   "execution_count": 310,
   "id": "81efe2ac-5a91-4861-b9ef-7067f60c5951",
   "metadata": {},
   "outputs": [
    {
     "data": {
      "text/plain": [
       "7"
      ]
     },
     "execution_count": 310,
     "metadata": {},
     "output_type": "execute_result"
    }
   ],
   "source": [
    "all_list[2][0]"
   ]
  },
  {
   "cell_type": "code",
   "execution_count": 298,
   "id": "b020eecb-1e17-4413-98c3-5a81b0e5db3f",
   "metadata": {},
   "outputs": [
    {
     "data": {
      "text/plain": [
       "8"
      ]
     },
     "execution_count": 298,
     "metadata": {},
     "output_type": "execute_result"
    }
   ],
   "source": [
    "all_list[2][1]"
   ]
  },
  {
   "cell_type": "code",
   "execution_count": null,
   "id": "a7b4fa26-6a96-4849-9a1b-830403b58a1d",
   "metadata": {},
   "outputs": [],
   "source": []
  },
  {
   "cell_type": "code",
   "execution_count": 326,
   "id": "41472b01-6bc0-42ca-a331-8fc956d0a468",
   "metadata": {},
   "outputs": [
    {
     "data": {
      "text/plain": [
       "['Omemma', 'Worthy of my Praise', 'Yahweh Sabaoth', 'Olodumare']"
      ]
     },
     "execution_count": 326,
     "metadata": {},
     "output_type": "execute_result"
    }
   ],
   "source": [
    "music_list"
   ]
  },
  {
   "cell_type": "code",
   "execution_count": 328,
   "id": "e500874f-0c74-4fae-8049-451b1319de35",
   "metadata": {},
   "outputs": [],
   "source": [
    "music_list [2]= \"Bola\""
   ]
  },
  {
   "cell_type": "code",
   "execution_count": 330,
   "id": "4b8254ce-01ac-4da0-b27c-b4e0a547533e",
   "metadata": {},
   "outputs": [
    {
     "data": {
      "text/plain": [
       "['Omemma', 'Worthy of my Praise', 'Bola', 'Olodumare']"
      ]
     },
     "execution_count": 330,
     "metadata": {},
     "output_type": "execute_result"
    }
   ],
   "source": [
    "music_list"
   ]
  },
  {
   "cell_type": "code",
   "execution_count": null,
   "id": "f86dcbed-3ee2-4c88-a81e-837c88faea0e",
   "metadata": {},
   "outputs": [],
   "source": []
  },
  {
   "cell_type": "code",
   "execution_count": null,
   "id": "449c4330-de0c-4368-b8a8-db1efe0e2191",
   "metadata": {},
   "outputs": [],
   "source": [
    "#### Add Element in a list"
   ]
  },
  {
   "cell_type": "markdown",
   "id": "61c0a599-c51a-4ef2-82a1-3b5885843fe2",
   "metadata": {},
   "source": [
    "* Append"
   ]
  },
  {
   "cell_type": "code",
   "execution_count": 336,
   "id": "e8cda617-cd91-4e73-b879-7066242b325b",
   "metadata": {},
   "outputs": [],
   "source": [
    "music_list.append('Yahweh Sabaoth') ## it only adds it to the last "
   ]
  },
  {
   "cell_type": "code",
   "execution_count": 342,
   "id": "b2aa129e-edd1-4b85-b620-9fce4d810e25",
   "metadata": {},
   "outputs": [
    {
     "data": {
      "text/plain": [
       "['Omemma', 'Worthy of my Praise', 'Bola', 'Olodumare', 'Yahweh Sabaoth']"
      ]
     },
     "execution_count": 342,
     "metadata": {},
     "output_type": "execute_result"
    }
   ],
   "source": [
    "music_list"
   ]
  },
  {
   "cell_type": "code",
   "execution_count": null,
   "id": "78070e45-1859-4933-bca8-4e2452b5db83",
   "metadata": {},
   "outputs": [],
   "source": []
  },
  {
   "cell_type": "markdown",
   "id": "44973d58-76d9-43e1-b39e-ac19375d65ee",
   "metadata": {},
   "source": [
    "* Insert (insert at a particular position) \n",
    "  "
   ]
  },
  {
   "cell_type": "code",
   "execution_count": 348,
   "id": "89926c3f-b56d-4908-8993-adbc05c24680",
   "metadata": {},
   "outputs": [],
   "source": [
    "music_list.insert(2,\"Bigger Everyday\")"
   ]
  },
  {
   "cell_type": "code",
   "execution_count": 352,
   "id": "e8ef56e5-dd14-48ab-9648-e2cae6ece398",
   "metadata": {},
   "outputs": [
    {
     "name": "stdout",
     "output_type": "stream",
     "text": [
      "['Omemma', 'Worthy of my Praise', 'Bigger Everyday', 'Bola', 'Olodumare', 'Yahweh Sabaoth']\n"
     ]
    }
   ],
   "source": [
    "print(music_list)"
   ]
  },
  {
   "cell_type": "code",
   "execution_count": null,
   "id": "6949928d-08df-4d01-ab75-427719af0782",
   "metadata": {},
   "outputs": [],
   "source": []
  },
  {
   "cell_type": "code",
   "execution_count": null,
   "id": "78b88b7d-b16b-45c0-9d91-bee873dd27a1",
   "metadata": {},
   "outputs": [],
   "source": []
  },
  {
   "cell_type": "code",
   "execution_count": null,
   "id": "1a200f46-671c-4e2e-9483-5b8bab8dca43",
   "metadata": {},
   "outputs": [],
   "source": [
    "## Remove elements from a list .remove and .pop"
   ]
  },
  {
   "cell_type": "markdown",
   "id": "09ebc258-426a-45ef-b454-a0474e7128bd",
   "metadata": {},
   "source": [
    "* Remove from a list"
   ]
  },
  {
   "cell_type": "code",
   "execution_count": 355,
   "id": "517fd8aa-026d-4722-924d-42a32258a8c5",
   "metadata": {},
   "outputs": [],
   "source": [
    "music_list.remove('Bola') ## you pass the value"
   ]
  },
  {
   "cell_type": "code",
   "execution_count": 359,
   "id": "753f9fa3-4a17-4847-b919-b44d24ebed4b",
   "metadata": {},
   "outputs": [
    {
     "name": "stdout",
     "output_type": "stream",
     "text": [
      "['Omemma', 'Worthy of my Praise', 'Bigger Everyday', 'Olodumare', 'Yahweh Sabaoth']\n"
     ]
    }
   ],
   "source": [
    "print(music_list)"
   ]
  },
  {
   "cell_type": "code",
   "execution_count": null,
   "id": "20533826-9c28-4436-8321-dca71a7fecc8",
   "metadata": {},
   "outputs": [],
   "source": []
  },
  {
   "cell_type": "code",
   "execution_count": 364,
   "id": "a0761517-b3dd-4233-9043-8945a1725cd6",
   "metadata": {},
   "outputs": [
    {
     "data": {
      "text/plain": [
       "'Yahweh Sabaoth'"
      ]
     },
     "execution_count": 364,
     "metadata": {},
     "output_type": "execute_result"
    }
   ],
   "source": [
    "music_list.pop() # this removes the last element on the list ## you pass the position to avoid this"
   ]
  },
  {
   "cell_type": "code",
   "execution_count": 366,
   "id": "6e9b4ada-cd66-480c-8ac7-3aa0cf69a7ea",
   "metadata": {},
   "outputs": [
    {
     "data": {
      "text/plain": [
       "['Omemma', 'Worthy of my Praise', 'Bigger Everyday', 'Olodumare']"
      ]
     },
     "execution_count": 366,
     "metadata": {},
     "output_type": "execute_result"
    }
   ],
   "source": [
    "music_list"
   ]
  },
  {
   "cell_type": "code",
   "execution_count": 368,
   "id": "b8cdd469-9e96-4599-85b3-139bc1970885",
   "metadata": {},
   "outputs": [
    {
     "data": {
      "text/plain": [
       "'Worthy of my Praise'"
      ]
     },
     "execution_count": 368,
     "metadata": {},
     "output_type": "execute_result"
    }
   ],
   "source": [
    "music_list.pop(1)"
   ]
  },
  {
   "cell_type": "code",
   "execution_count": 370,
   "id": "edc5ee5e-71ee-4385-bb85-4994ef7e268a",
   "metadata": {},
   "outputs": [
    {
     "data": {
      "text/plain": [
       "['Omemma', 'Bigger Everyday', 'Olodumare']"
      ]
     },
     "execution_count": 370,
     "metadata": {},
     "output_type": "execute_result"
    }
   ],
   "source": [
    "music_list"
   ]
  },
  {
   "cell_type": "code",
   "execution_count": null,
   "id": "d24caa27-ae25-46bf-b4de-1f0a16820f8e",
   "metadata": {},
   "outputs": [],
   "source": []
  },
  {
   "cell_type": "code",
   "execution_count": null,
   "id": "6e937cb5-768b-4100-ac24-2a32da804ccf",
   "metadata": {},
   "outputs": [],
   "source": []
  },
  {
   "cell_type": "code",
   "execution_count": 372,
   "id": "eaff2f34-6540-42aa-a48b-37287373e779",
   "metadata": {},
   "outputs": [],
   "source": [
    "numbers= [11,43,2,10,7,3,56]"
   ]
  },
  {
   "cell_type": "code",
   "execution_count": 374,
   "id": "442745de-ea05-416d-9e6a-fe760d7a7a6a",
   "metadata": {},
   "outputs": [
    {
     "data": {
      "text/plain": [
       "[11, 43, 2, 10, 7, 3, 56]"
      ]
     },
     "execution_count": 374,
     "metadata": {},
     "output_type": "execute_result"
    }
   ],
   "source": [
    "numbers"
   ]
  },
  {
   "cell_type": "code",
   "execution_count": 388,
   "id": "3cd28330-7316-4f69-b935-83641c72d44c",
   "metadata": {},
   "outputs": [],
   "source": [
    "numbers.reverse() # reverse starting from right"
   ]
  },
  {
   "cell_type": "code",
   "execution_count": 390,
   "id": "f8754f0b-2479-4ded-9242-88c2d935b72e",
   "metadata": {},
   "outputs": [
    {
     "data": {
      "text/plain": [
       "[56, 3, 7, 10, 2, 43, 11]"
      ]
     },
     "execution_count": 390,
     "metadata": {},
     "output_type": "execute_result"
    }
   ],
   "source": [
    "numbers"
   ]
  },
  {
   "cell_type": "code",
   "execution_count": 392,
   "id": "b74c4189-f4b2-4a55-8427-116564932802",
   "metadata": {},
   "outputs": [],
   "source": [
    "numbers.sort()"
   ]
  },
  {
   "cell_type": "code",
   "execution_count": 394,
   "id": "dd1c3b6c-d61c-4919-9e5a-a5935dd0d983",
   "metadata": {},
   "outputs": [
    {
     "data": {
      "text/plain": [
       "[2, 3, 7, 10, 11, 43, 56]"
      ]
     },
     "execution_count": 394,
     "metadata": {},
     "output_type": "execute_result"
    }
   ],
   "source": [
    "numbers"
   ]
  },
  {
   "cell_type": "code",
   "execution_count": 398,
   "id": "25cfd507-3d88-44ba-b3a4-bc713fc64c9c",
   "metadata": {},
   "outputs": [],
   "source": [
    "numbers.sort(reverse=True)"
   ]
  },
  {
   "cell_type": "code",
   "execution_count": 400,
   "id": "dee84701-931c-4bb7-af94-a291f5979289",
   "metadata": {},
   "outputs": [
    {
     "data": {
      "text/plain": [
       "[56, 43, 11, 10, 7, 3, 2]"
      ]
     },
     "execution_count": 400,
     "metadata": {},
     "output_type": "execute_result"
    }
   ],
   "source": [
    "numbers"
   ]
  },
  {
   "cell_type": "code",
   "execution_count": null,
   "id": "9277bfff-3b8d-4263-8385-613ceec85961",
   "metadata": {},
   "outputs": [],
   "source": []
  },
  {
   "cell_type": "code",
   "execution_count": null,
   "id": "093f433e-a327-4fdf-b2f0-48332274c0a6",
   "metadata": {},
   "outputs": [],
   "source": []
  },
  {
   "cell_type": "markdown",
   "id": "de877a31-288c-4cc6-917d-fbf8ef534d2d",
   "metadata": {},
   "source": [
    "### Tuple- Immutable-cannot be changed; use a round bracket instead of square bracket"
   ]
  },
  {
   "cell_type": "code",
   "execution_count": 2,
   "id": "381693e3-7a02-4723-a1cd-c98d49bb2ae1",
   "metadata": {},
   "outputs": [],
   "source": [
    "past_ceos=['Daniel', 'Obinna', 'Ahmed','Kola']"
   ]
  },
  {
   "cell_type": "code",
   "execution_count": 4,
   "id": "3e4e4b55-c1d6-4626-80e4-aa827fc7553a",
   "metadata": {},
   "outputs": [
    {
     "data": {
      "text/plain": [
       "['Daniel', 'Obinna', 'Ahmed', 'Kola']"
      ]
     },
     "execution_count": 4,
     "metadata": {},
     "output_type": "execute_result"
    }
   ],
   "source": [
    "past_ceos"
   ]
  },
  {
   "cell_type": "code",
   "execution_count": 13,
   "id": "806d448a-4abd-4ff4-a904-a9b0b43db5e7",
   "metadata": {},
   "outputs": [
    {
     "data": {
      "text/plain": [
       "list"
      ]
     },
     "execution_count": 13,
     "metadata": {},
     "output_type": "execute_result"
    }
   ],
   "source": [
    "type(past_ceos)"
   ]
  },
  {
   "cell_type": "code",
   "execution_count": null,
   "id": "2b919a4c-d7b2-449b-ae6d-18b6f7e16506",
   "metadata": {},
   "outputs": [],
   "source": []
  },
  {
   "cell_type": "code",
   "execution_count": 8,
   "id": "e187ba8c-8682-44fb-874e-73321b978c1c",
   "metadata": {},
   "outputs": [],
   "source": [
    "past_ceos[0]=\"Jane\""
   ]
  },
  {
   "cell_type": "code",
   "execution_count": 10,
   "id": "51366787-ab2d-4766-a896-11293d3ca357",
   "metadata": {},
   "outputs": [
    {
     "data": {
      "text/plain": [
       "['Jane', 'Obinna', 'Ahmed', 'Kola']"
      ]
     },
     "execution_count": 10,
     "metadata": {},
     "output_type": "execute_result"
    }
   ],
   "source": [
    "past_ceos"
   ]
  },
  {
   "cell_type": "code",
   "execution_count": null,
   "id": "96fb6750-fc5d-4074-a423-5f745e94ac6b",
   "metadata": {},
   "outputs": [],
   "source": []
  },
  {
   "cell_type": "code",
   "execution_count": 15,
   "id": "c3c7282a-be1d-4fe9-987b-234ea54d94b9",
   "metadata": {},
   "outputs": [],
   "source": [
    "past_ceos=('Daniel', 'Obinna', 'Ahmed', 'Kola')"
   ]
  },
  {
   "cell_type": "code",
   "execution_count": 17,
   "id": "f1b62ad9-db3a-40e9-9a7a-343a2e5ee5fa",
   "metadata": {},
   "outputs": [
    {
     "data": {
      "text/plain": [
       "('Daniel', 'Obinna', 'Ahmed', 'Kola')"
      ]
     },
     "execution_count": 17,
     "metadata": {},
     "output_type": "execute_result"
    }
   ],
   "source": [
    "past_ceos"
   ]
  },
  {
   "cell_type": "code",
   "execution_count": 19,
   "id": "30cf0132-e92d-499d-9dd8-9a43219b5f27",
   "metadata": {},
   "outputs": [
    {
     "data": {
      "text/plain": [
       "tuple"
      ]
     },
     "execution_count": 19,
     "metadata": {},
     "output_type": "execute_result"
    }
   ],
   "source": [
    "type(past_ceos)"
   ]
  },
  {
   "cell_type": "code",
   "execution_count": 23,
   "id": "525b9233-f6bb-4b46-bbc9-131c646467dc",
   "metadata": {},
   "outputs": [
    {
     "data": {
      "text/plain": [
       "4"
      ]
     },
     "execution_count": 23,
     "metadata": {},
     "output_type": "execute_result"
    }
   ],
   "source": [
    "len(past_ceos)"
   ]
  },
  {
   "cell_type": "code",
   "execution_count": null,
   "id": "aece1443-f9f7-4247-891f-300591c70463",
   "metadata": {},
   "outputs": [],
   "source": []
  },
  {
   "cell_type": "markdown",
   "id": "e5377ebd-dfcc-4e20-8d9f-fd36ba193dae",
   "metadata": {},
   "source": [
    "#### Dictionary\n",
    "Word----> meaning i.e \n",
    "key-----> Value"
   ]
  },
  {
   "cell_type": "code",
   "execution_count": null,
   "id": "0fd4fb36-3cc8-479b-b64a-93897cb86063",
   "metadata": {},
   "outputs": [],
   "source": [
    "{key}:{value}"
   ]
  },
  {
   "cell_type": "code",
   "execution_count": 43,
   "id": "719c1cc5-3bae-4094-b1b4-7f626e0b5c10",
   "metadata": {},
   "outputs": [],
   "source": [
    "my_dictionary = {\"bio\":\"life\" , \"data\":\"information\", \"Swag\":\"Steeze\"}"
   ]
  },
  {
   "cell_type": "code",
   "execution_count": 45,
   "id": "75ea0a13-d7b4-478e-9979-f39b167a27ca",
   "metadata": {},
   "outputs": [
    {
     "data": {
      "text/plain": [
       "{'bio': 'life', 'data': 'information', 'Swag': 'Steeze'}"
      ]
     },
     "execution_count": 45,
     "metadata": {},
     "output_type": "execute_result"
    }
   ],
   "source": [
    "my_dictionary"
   ]
  },
  {
   "cell_type": "code",
   "execution_count": 41,
   "id": "38eb4da9-2130-446b-a20c-42c1ab871c64",
   "metadata": {},
   "outputs": [
    {
     "data": {
      "text/plain": [
       "dict"
      ]
     },
     "execution_count": 41,
     "metadata": {},
     "output_type": "execute_result"
    }
   ],
   "source": [
    "type (my_dictionary)"
   ]
  },
  {
   "cell_type": "code",
   "execution_count": null,
   "id": "ffa541b6-e533-4f8f-8612-893a79cc3bc7",
   "metadata": {},
   "outputs": [],
   "source": []
  },
  {
   "cell_type": "code",
   "execution_count": 47,
   "id": "ba6f0eea-fa36-426a-bbaf-26baf33966fe",
   "metadata": {},
   "outputs": [
    {
     "data": {
      "text/plain": [
       "'life'"
      ]
     },
     "execution_count": 47,
     "metadata": {},
     "output_type": "execute_result"
    }
   ],
   "source": [
    "my_dictionary[\"bio\"]"
   ]
  },
  {
   "cell_type": "code",
   "execution_count": 49,
   "id": "80a46329-99ae-46df-8501-9fd29ab164a2",
   "metadata": {},
   "outputs": [
    {
     "data": {
      "text/plain": [
       "'information'"
      ]
     },
     "execution_count": 49,
     "metadata": {},
     "output_type": "execute_result"
    }
   ],
   "source": [
    "my_dictionary['data']"
   ]
  },
  {
   "cell_type": "code",
   "execution_count": 53,
   "id": "3805882e-7127-4ff0-82d6-d27b63aa483c",
   "metadata": {},
   "outputs": [
    {
     "data": {
      "text/plain": [
       "'Steeze'"
      ]
     },
     "execution_count": 53,
     "metadata": {},
     "output_type": "execute_result"
    }
   ],
   "source": [
    "my_dictionary['Swag']"
   ]
  },
  {
   "cell_type": "code",
   "execution_count": null,
   "id": "c887d8ac-831e-4f57-9be9-308c5d75bb85",
   "metadata": {},
   "outputs": [],
   "source": []
  },
  {
   "cell_type": "code",
   "execution_count": 55,
   "id": "5faf9da0-1fba-4bd5-9025-718e0a2229c0",
   "metadata": {},
   "outputs": [
    {
     "data": {
      "text/plain": [
       "dict_keys(['bio', 'data', 'Swag'])"
      ]
     },
     "execution_count": 55,
     "metadata": {},
     "output_type": "execute_result"
    }
   ],
   "source": [
    "my_dictionary.keys() ##returns all keys"
   ]
  },
  {
   "cell_type": "code",
   "execution_count": 57,
   "id": "0ca38004-2428-4aa5-9883-fe16d8040eb3",
   "metadata": {},
   "outputs": [
    {
     "data": {
      "text/plain": [
       "dict_values(['life', 'information', 'Steeze'])"
      ]
     },
     "execution_count": 57,
     "metadata": {},
     "output_type": "execute_result"
    }
   ],
   "source": [
    "my_dictionary.values() ##returns all values"
   ]
  },
  {
   "cell_type": "code",
   "execution_count": null,
   "id": "077b8b10-1890-4a3a-9650-fe642286ad85",
   "metadata": {},
   "outputs": [],
   "source": []
  },
  {
   "cell_type": "markdown",
   "id": "7552aa98-fec0-4668-a901-652e43864b04",
   "metadata": {},
   "source": [
    "#### Examples"
   ]
  },
  {
   "cell_type": "code",
   "execution_count": 62,
   "id": "90e91eb8-ae71-4714-be59-377819d106b6",
   "metadata": {},
   "outputs": [],
   "source": [
    "my_profile= {\"Name\":\"Oluwadamilola\", \"Age\":18, \"Location\":\"Canada\"}"
   ]
  },
  {
   "cell_type": "code",
   "execution_count": 64,
   "id": "e7435f27-24f6-45b8-8ae0-eccb04205069",
   "metadata": {},
   "outputs": [
    {
     "data": {
      "text/plain": [
       "{'Name': 'Oluwadamilola', 'Age': 18, 'Location': 'Canada'}"
      ]
     },
     "execution_count": 64,
     "metadata": {},
     "output_type": "execute_result"
    }
   ],
   "source": [
    "my_profile"
   ]
  },
  {
   "cell_type": "code",
   "execution_count": 68,
   "id": "7aa439d7-4281-442e-8c71-d03f6ca08284",
   "metadata": {},
   "outputs": [
    {
     "data": {
      "text/plain": [
       "'Oluwadamilola'"
      ]
     },
     "execution_count": 68,
     "metadata": {},
     "output_type": "execute_result"
    }
   ],
   "source": [
    "my_profile[\"Name\"]"
   ]
  },
  {
   "cell_type": "code",
   "execution_count": 70,
   "id": "761acea3-0e34-45f6-8bd3-82d7c83b8dd1",
   "metadata": {},
   "outputs": [
    {
     "data": {
      "text/plain": [
       "18"
      ]
     },
     "execution_count": 70,
     "metadata": {},
     "output_type": "execute_result"
    }
   ],
   "source": [
    "my_profile[\"Age\"]"
   ]
  },
  {
   "cell_type": "code",
   "execution_count": 72,
   "id": "b469260d-820d-4ff8-82ad-b60c134645b3",
   "metadata": {},
   "outputs": [
    {
     "data": {
      "text/plain": [
       "'Canada'"
      ]
     },
     "execution_count": 72,
     "metadata": {},
     "output_type": "execute_result"
    }
   ],
   "source": [
    "my_profile[\"Location\"]"
   ]
  },
  {
   "cell_type": "code",
   "execution_count": null,
   "id": "cd7fbc26-32b2-4cb6-b639-6da4e3d29a06",
   "metadata": {},
   "outputs": [],
   "source": []
  },
  {
   "cell_type": "markdown",
   "id": "b3998b9a-25a2-47ef-a720-c986ec4d71e7",
   "metadata": {},
   "source": [
    "#### Modify Dictionary\n",
    "\n",
    "* Add a new record to my dictionary"
   ]
  },
  {
   "cell_type": "code",
   "execution_count": 94,
   "id": "3a9a0237-4d11-4aaf-9d3c-74e149056076",
   "metadata": {},
   "outputs": [],
   "source": [
    "my_profile= {\"Name\":\"Oluwadamilola\", \"Age\":18, \"Location\":\"Canada\"}"
   ]
  },
  {
   "cell_type": "code",
   "execution_count": 96,
   "id": "7cea3b77-dd1a-4769-9a45-a02c3e7b8782",
   "metadata": {},
   "outputs": [],
   "source": [
    "my_profile [\"Gender\"]=\"Female\""
   ]
  },
  {
   "cell_type": "code",
   "execution_count": 98,
   "id": "beadec21-dc1f-4f31-92c8-8e2ad24a1213",
   "metadata": {},
   "outputs": [
    {
     "data": {
      "text/plain": [
       "{'Name': 'Oluwadamilola', 'Age': 18, 'Location': 'Canada', 'Gender': 'Female'}"
      ]
     },
     "execution_count": 98,
     "metadata": {},
     "output_type": "execute_result"
    }
   ],
   "source": [
    "my_profile"
   ]
  },
  {
   "cell_type": "code",
   "execution_count": 100,
   "id": "e1469975-7384-41bd-af6e-b3010c8e6a82",
   "metadata": {},
   "outputs": [],
   "source": [
    "my_profile [\"Phone no\"]=\"12345678\""
   ]
  },
  {
   "cell_type": "code",
   "execution_count": 104,
   "id": "c1a579f2-1e5a-47f6-b85a-dfdf8c647de6",
   "metadata": {},
   "outputs": [
    {
     "name": "stdout",
     "output_type": "stream",
     "text": [
      "{'Name': 'Oluwadamilola', 'Age': 18, 'Location': 'Canada', 'Gender': 'Female', 'Phone no': '12345678'}\n"
     ]
    }
   ],
   "source": [
    "print(my_profile)"
   ]
  },
  {
   "cell_type": "code",
   "execution_count": 110,
   "id": "1566407e-a2c9-4efd-b304-0a8d956fdd83",
   "metadata": {},
   "outputs": [],
   "source": [
    "my_profile [\"Qualifications\"]=\"Bsc,\", \"Msc\", \"Phd\""
   ]
  },
  {
   "cell_type": "code",
   "execution_count": 112,
   "id": "71b66900-bdad-4ff0-94dd-14d7a8dc8859",
   "metadata": {},
   "outputs": [
    {
     "data": {
      "text/plain": [
       "{'Name': 'Oluwadamilola',\n",
       " 'Age': 18,\n",
       " 'Location': 'Canada',\n",
       " 'Gender': 'Female',\n",
       " 'Phone no': '12345678',\n",
       " 'Qualifications': ('Bsc,', 'Msc', 'Phd')}"
      ]
     },
     "execution_count": 112,
     "metadata": {},
     "output_type": "execute_result"
    }
   ],
   "source": [
    "my_profile"
   ]
  },
  {
   "cell_type": "code",
   "execution_count": null,
   "id": "cbe65690-e2aa-458d-be65-b7e99a9da829",
   "metadata": {},
   "outputs": [],
   "source": []
  },
  {
   "cell_type": "markdown",
   "id": "9d7c93b8-a02d-432e-ae14-9107796dc4b1",
   "metadata": {},
   "source": [
    "* Update our records"
   ]
  },
  {
   "cell_type": "code",
   "execution_count": 115,
   "id": "fd1fe4cb-33d2-41ef-871c-52a133f63dae",
   "metadata": {},
   "outputs": [],
   "source": [
    "my_profile['Age'] =20"
   ]
  },
  {
   "cell_type": "code",
   "execution_count": 117,
   "id": "03b1c88f-e780-48bd-8e16-122fe6b2d927",
   "metadata": {},
   "outputs": [
    {
     "data": {
      "text/plain": [
       "{'Name': 'Oluwadamilola',\n",
       " 'Age': 20,\n",
       " 'Location': 'Canada',\n",
       " 'Gender': 'Female',\n",
       " 'Phone no': '12345678',\n",
       " 'Qualifications': ('Bsc,', 'Msc', 'Phd')}"
      ]
     },
     "execution_count": 117,
     "metadata": {},
     "output_type": "execute_result"
    }
   ],
   "source": [
    "my_profile"
   ]
  },
  {
   "cell_type": "code",
   "execution_count": 119,
   "id": "35bd2fa8-362f-4780-b442-a29a6c761570",
   "metadata": {},
   "outputs": [],
   "source": [
    "my_profile[\"Location\"]= \"USA\""
   ]
  },
  {
   "cell_type": "code",
   "execution_count": 121,
   "id": "52673fa2-5406-4aec-8b83-d0a4943ec79e",
   "metadata": {},
   "outputs": [
    {
     "data": {
      "text/plain": [
       "{'Name': 'Oluwadamilola',\n",
       " 'Age': 20,\n",
       " 'Location': 'USA',\n",
       " 'Gender': 'Female',\n",
       " 'Phone no': '12345678',\n",
       " 'Qualifications': ('Bsc,', 'Msc', 'Phd')}"
      ]
     },
     "execution_count": 121,
     "metadata": {},
     "output_type": "execute_result"
    }
   ],
   "source": [
    "my_profile"
   ]
  },
  {
   "cell_type": "code",
   "execution_count": null,
   "id": "ef62370c-bae1-4bee-8878-93632cab8757",
   "metadata": {},
   "outputs": [],
   "source": []
  },
  {
   "cell_type": "markdown",
   "id": "e1b3da5c-6e36-4814-84e7-6886d9578c39",
   "metadata": {},
   "source": [
    "* add dictionary with another dictionary"
   ]
  },
  {
   "cell_type": "code",
   "execution_count": 127,
   "id": "e0dbde94-766d-4b46-92ed-ba836afe3761",
   "metadata": {},
   "outputs": [],
   "source": [
    "new_records={\"Income\":600000,\"Years of Experience\":11}"
   ]
  },
  {
   "cell_type": "code",
   "execution_count": 129,
   "id": "9a704acd-00d9-49c9-b7e2-8f96abad200d",
   "metadata": {},
   "outputs": [
    {
     "data": {
      "text/plain": [
       "{'Income': 600000, 'Years of Experience': 11}"
      ]
     },
     "execution_count": 129,
     "metadata": {},
     "output_type": "execute_result"
    }
   ],
   "source": [
    "new_records"
   ]
  },
  {
   "cell_type": "code",
   "execution_count": 135,
   "id": "e4db3149-d7e9-4c5d-bdbd-1ec67982fec4",
   "metadata": {},
   "outputs": [],
   "source": [
    "my_profile.update(new_records)"
   ]
  },
  {
   "cell_type": "code",
   "execution_count": 137,
   "id": "85a39520-3feb-4cbf-9119-688c85b7c161",
   "metadata": {},
   "outputs": [
    {
     "data": {
      "text/plain": [
       "{'Name': 'Oluwadamilola',\n",
       " 'Age': 20,\n",
       " 'Location': 'USA',\n",
       " 'Gender': 'Female',\n",
       " 'Phone no': '12345678',\n",
       " 'Qualifications': ('Bsc,', 'Msc', 'Phd'),\n",
       " 'Income': 600000,\n",
       " 'Years of Experience': 11}"
      ]
     },
     "execution_count": 137,
     "metadata": {},
     "output_type": "execute_result"
    }
   ],
   "source": [
    "my_profile"
   ]
  },
  {
   "cell_type": "code",
   "execution_count": 154,
   "id": "13b5988e-04a2-43e3-b249-b3f354a07c4a",
   "metadata": {},
   "outputs": [],
   "source": [
    "new_records={\"Income\":600000,\"Years of Experience\":11}"
   ]
  },
  {
   "cell_type": "code",
   "execution_count": 158,
   "id": "e95eeb71-abcd-4504-a136-bc59f123fe03",
   "metadata": {},
   "outputs": [],
   "source": [
    "my_profile.update(new_records)"
   ]
  },
  {
   "cell_type": "code",
   "execution_count": 160,
   "id": "8213290f-5829-48b9-8986-ba43872e83d4",
   "metadata": {},
   "outputs": [
    {
     "data": {
      "text/plain": [
       "{'Name': 'Oluwadamilola',\n",
       " 'Location': 'USA',\n",
       " 'Phone no': '12345678',\n",
       " 'Qualifications': ('Bsc,', 'Msc', 'Phd'),\n",
       " 'Income': 600000,\n",
       " 'Years of Experience': 11}"
      ]
     },
     "execution_count": 160,
     "metadata": {},
     "output_type": "execute_result"
    }
   ],
   "source": [
    "my_profile ###please note that i have erroneuosly deleted age here"
   ]
  },
  {
   "cell_type": "code",
   "execution_count": null,
   "id": "7e361483-e05c-4b4d-9259-abe9173f0928",
   "metadata": {},
   "outputs": [],
   "source": []
  },
  {
   "cell_type": "code",
   "execution_count": null,
   "id": "f17a5c22-45d2-4dfb-8e67-ba842ca156d8",
   "metadata": {},
   "outputs": [],
   "source": []
  },
  {
   "cell_type": "code",
   "execution_count": null,
   "id": "129c93e7-d281-4788-bf91-9f8a8f028408",
   "metadata": {},
   "outputs": [],
   "source": []
  },
  {
   "cell_type": "markdown",
   "id": "e1b63578-84a7-4028-810e-47553cbc1a98",
   "metadata": {},
   "source": [
    "* Delete values in a dictionary"
   ]
  },
  {
   "cell_type": "code",
   "execution_count": 162,
   "id": "2ca5743c-5bb3-43a1-8cd1-c7b83458252f",
   "metadata": {},
   "outputs": [
    {
     "data": {
      "text/plain": [
       "{'Name': 'Oluwadamilola',\n",
       " 'Location': 'USA',\n",
       " 'Phone no': '12345678',\n",
       " 'Qualifications': ('Bsc,', 'Msc', 'Phd'),\n",
       " 'Income': 600000,\n",
       " 'Years of Experience': 11}"
      ]
     },
     "execution_count": 162,
     "metadata": {},
     "output_type": "execute_result"
    }
   ],
   "source": [
    "my_profile"
   ]
  },
  {
   "cell_type": "code",
   "execution_count": 168,
   "id": "63dc7601-b48b-498e-b368-b967d178ff00",
   "metadata": {},
   "outputs": [
    {
     "data": {
      "text/plain": [
       "'USA'"
      ]
     },
     "execution_count": 168,
     "metadata": {},
     "output_type": "execute_result"
    }
   ],
   "source": [
    "my_profile.pop(\"Location\")"
   ]
  },
  {
   "cell_type": "code",
   "execution_count": 170,
   "id": "120132f2-7ad7-4c00-8b15-fb7b0a3567fd",
   "metadata": {},
   "outputs": [
    {
     "data": {
      "text/plain": [
       "{'Name': 'Oluwadamilola',\n",
       " 'Phone no': '12345678',\n",
       " 'Qualifications': ('Bsc,', 'Msc', 'Phd'),\n",
       " 'Income': 600000,\n",
       " 'Years of Experience': 11}"
      ]
     },
     "execution_count": 170,
     "metadata": {},
     "output_type": "execute_result"
    }
   ],
   "source": [
    "my_profile"
   ]
  },
  {
   "cell_type": "code",
   "execution_count": null,
   "id": "4f08cf30-4f55-45bb-9556-70df2826330b",
   "metadata": {},
   "outputs": [],
   "source": []
  },
  {
   "cell_type": "markdown",
   "id": "39c465e7-7813-40c9-9c45-9b15d76aa19b",
   "metadata": {},
   "source": [
    "### Sets \n",
    "* they are collection of unique values that are not ordered- no duplicates\n",
    "* are like lists with { } that keeps only unique values\n"
   ]
  },
  {
   "cell_type": "code",
   "execution_count": 180,
   "id": "45e12cca-d24c-469c-b72f-8e6624b1f506",
   "metadata": {},
   "outputs": [],
   "source": [
    "age_of_employees ={24, 28,32, 23, 35, 22, 27, 22, 23, 29, 24, 22}"
   ]
  },
  {
   "cell_type": "code",
   "execution_count": 184,
   "id": "daaea4e7-0614-4661-8ff5-23a50374e3c6",
   "metadata": {},
   "outputs": [
    {
     "data": {
      "text/plain": [
       "{22, 23, 24, 27, 28, 29, 32, 35}"
      ]
     },
     "execution_count": 184,
     "metadata": {},
     "output_type": "execute_result"
    }
   ],
   "source": [
    "age_of_employees"
   ]
  },
  {
   "cell_type": "markdown",
   "id": "933c644f-fe9d-4ede-a537-07a699c5e0ae",
   "metadata": {},
   "source": [
    "* can convert list to sets, using the set function- tuple too can be converted"
   ]
  },
  {
   "cell_type": "code",
   "execution_count": 187,
   "id": "de6c04c1-f540-4f0c-bb9e-321843a10214",
   "metadata": {},
   "outputs": [],
   "source": [
    "age_of_employees =[24, 28,32, 23, 35, 22, 27, 22, 23, 29, 24, 22]"
   ]
  },
  {
   "cell_type": "code",
   "execution_count": 189,
   "id": "4b53ac7e-da5a-46aa-a769-c00c3092225c",
   "metadata": {},
   "outputs": [
    {
     "data": {
      "text/plain": [
       "[24, 28, 32, 23, 35, 22, 27, 22, 23, 29, 24, 22]"
      ]
     },
     "execution_count": 189,
     "metadata": {},
     "output_type": "execute_result"
    }
   ],
   "source": [
    "age_of_employees"
   ]
  },
  {
   "cell_type": "code",
   "execution_count": 191,
   "id": "c6c45631-52ed-4889-930c-43aa3f956b3a",
   "metadata": {},
   "outputs": [
    {
     "data": {
      "text/plain": [
       "{22, 23, 24, 27, 28, 29, 32, 35}"
      ]
     },
     "execution_count": 191,
     "metadata": {},
     "output_type": "execute_result"
    }
   ],
   "source": [
    "set(age_of_employees)"
   ]
  },
  {
   "cell_type": "code",
   "execution_count": null,
   "id": "4bd3c117-6172-4ebf-a891-4af357993d1e",
   "metadata": {},
   "outputs": [],
   "source": []
  },
  {
   "cell_type": "code",
   "execution_count": 194,
   "id": "022c84cd-cd78-4e25-af57-bcd732386b50",
   "metadata": {},
   "outputs": [],
   "source": [
    "x=(1,2,3,4,5)"
   ]
  },
  {
   "cell_type": "code",
   "execution_count": 196,
   "id": "49deb9b5-6325-42eb-a0b8-87e322b415e6",
   "metadata": {},
   "outputs": [
    {
     "data": {
      "text/plain": [
       "(1, 2, 3, 4, 5)"
      ]
     },
     "execution_count": 196,
     "metadata": {},
     "output_type": "execute_result"
    }
   ],
   "source": [
    "x"
   ]
  },
  {
   "cell_type": "code",
   "execution_count": 198,
   "id": "3ffbe040-2897-4b0c-8f66-6159c9a1cfe4",
   "metadata": {},
   "outputs": [
    {
     "data": {
      "text/plain": [
       "{1, 2, 3, 4, 5}"
      ]
     },
     "execution_count": 198,
     "metadata": {},
     "output_type": "execute_result"
    }
   ],
   "source": [
    "set(x)"
   ]
  },
  {
   "cell_type": "code",
   "execution_count": 200,
   "id": "c0c0783b-a65a-4e2c-b364-cacd9ebb0904",
   "metadata": {},
   "outputs": [
    {
     "data": {
      "text/plain": [
       "(1, 2, 3, 4, 5)"
      ]
     },
     "execution_count": 200,
     "metadata": {},
     "output_type": "execute_result"
    }
   ],
   "source": [
    "tuple(x)"
   ]
  },
  {
   "cell_type": "code",
   "execution_count": null,
   "id": "ab2d6f17-ef6c-4f69-911e-3671e00bb881",
   "metadata": {},
   "outputs": [],
   "source": []
  },
  {
   "cell_type": "code",
   "execution_count": 202,
   "id": "8337cd87-c8bd-4568-ad52-019f87ee8d56",
   "metadata": {},
   "outputs": [],
   "source": [
    "y=(233,233,47,87.9)"
   ]
  },
  {
   "cell_type": "code",
   "execution_count": 204,
   "id": "0c5c80bb-85ca-40db-b55a-4684a11fd100",
   "metadata": {},
   "outputs": [
    {
     "data": {
      "text/plain": [
       "(233, 233, 47, 87.9)"
      ]
     },
     "execution_count": 204,
     "metadata": {},
     "output_type": "execute_result"
    }
   ],
   "source": [
    "y"
   ]
  },
  {
   "cell_type": "code",
   "execution_count": 206,
   "id": "720fd156-47c6-41b6-bf6b-e3b7928d9c4d",
   "metadata": {},
   "outputs": [
    {
     "data": {
      "text/plain": [
       "[233, 233, 47, 87.9]"
      ]
     },
     "execution_count": 206,
     "metadata": {},
     "output_type": "execute_result"
    }
   ],
   "source": [
    "list(y)"
   ]
  },
  {
   "cell_type": "code",
   "execution_count": null,
   "id": "c57585d1-23cc-4b9c-ad99-67ec8b7f1c0f",
   "metadata": {},
   "outputs": [],
   "source": []
  },
  {
   "cell_type": "code",
   "execution_count": 208,
   "id": "073c2b53-5854-4e59-869c-35504c533aa3",
   "metadata": {},
   "outputs": [
    {
     "data": {
      "text/plain": [
       "[24, 28, 32, 23, 35, 22, 27, 22, 23, 29, 24, 22]"
      ]
     },
     "execution_count": 208,
     "metadata": {},
     "output_type": "execute_result"
    }
   ],
   "source": [
    "age_of_employees"
   ]
  },
  {
   "cell_type": "code",
   "execution_count": 210,
   "id": "d64992dc-59a4-4322-80ab-056613200975",
   "metadata": {},
   "outputs": [
    {
     "data": {
      "text/plain": [
       "{22, 23, 24, 27, 28, 29, 32, 35}"
      ]
     },
     "execution_count": 210,
     "metadata": {},
     "output_type": "execute_result"
    }
   ],
   "source": [
    "set(age_of_employees)"
   ]
  },
  {
   "cell_type": "markdown",
   "id": "cafbd293-e1d0-4ca9-b3ed-9feba5050a2f",
   "metadata": {},
   "source": [
    "* add records to a set"
   ]
  },
  {
   "cell_type": "code",
   "execution_count": 226,
   "id": "6d99ece8-ff98-4294-941d-61d93f190611",
   "metadata": {},
   "outputs": [],
   "source": [
    "age_of_employees ={24, 28,32, 23, 35, 22, 27, 22, 23, 29, 24, 22}"
   ]
  },
  {
   "cell_type": "code",
   "execution_count": 228,
   "id": "039efe48-7eb5-44cf-a09c-47551cefec26",
   "metadata": {},
   "outputs": [
    {
     "data": {
      "text/plain": [
       "{22, 23, 24, 27, 28, 29, 32, 35}"
      ]
     },
     "execution_count": 228,
     "metadata": {},
     "output_type": "execute_result"
    }
   ],
   "source": [
    "age_of_employees"
   ]
  },
  {
   "cell_type": "code",
   "execution_count": 230,
   "id": "773dd8a4-f00d-491f-87be-6d36d00ad05c",
   "metadata": {},
   "outputs": [],
   "source": [
    "age_of_employees.add(31)"
   ]
  },
  {
   "cell_type": "code",
   "execution_count": 232,
   "id": "cc9dbf8d-37ad-4f23-8280-a5379e9cca6d",
   "metadata": {},
   "outputs": [
    {
     "data": {
      "text/plain": [
       "{22, 23, 24, 27, 28, 29, 31, 32, 35}"
      ]
     },
     "execution_count": 232,
     "metadata": {},
     "output_type": "execute_result"
    }
   ],
   "source": [
    "age_of_employees"
   ]
  },
  {
   "cell_type": "code",
   "execution_count": null,
   "id": "4dbe8857-776c-4ab7-8a63-6ef828306247",
   "metadata": {},
   "outputs": [],
   "source": []
  },
  {
   "cell_type": "code",
   "execution_count": 234,
   "id": "630d4f4e-aa75-40f3-a12d-668f08258bb5",
   "metadata": {},
   "outputs": [],
   "source": [
    "age_of_employees.add(28) #### will not add this duplicate"
   ]
  },
  {
   "cell_type": "code",
   "execution_count": 236,
   "id": "8635e390-6476-4a8e-b78d-7d5a8f5da63d",
   "metadata": {},
   "outputs": [
    {
     "data": {
      "text/plain": [
       "{22, 23, 24, 27, 28, 29, 31, 32, 35}"
      ]
     },
     "execution_count": 236,
     "metadata": {},
     "output_type": "execute_result"
    }
   ],
   "source": [
    "age_of_employees"
   ]
  },
  {
   "cell_type": "code",
   "execution_count": null,
   "id": "56c7d664-12f4-4c6c-b951-464497bc9d3d",
   "metadata": {},
   "outputs": [],
   "source": []
  },
  {
   "cell_type": "code",
   "execution_count": 242,
   "id": "a4cbeccd-073b-416b-aad9-03d8dbca3e0f",
   "metadata": {},
   "outputs": [
    {
     "data": {
      "text/plain": [
       "9"
      ]
     },
     "execution_count": 242,
     "metadata": {},
     "output_type": "execute_result"
    }
   ],
   "source": [
    "len(age_of_employees)"
   ]
  },
  {
   "cell_type": "code",
   "execution_count": 244,
   "id": "7e8314f1-af59-49c3-af0c-0ab3babcf800",
   "metadata": {},
   "outputs": [
    {
     "data": {
      "text/plain": [
       "35"
      ]
     },
     "execution_count": 244,
     "metadata": {},
     "output_type": "execute_result"
    }
   ],
   "source": [
    "max(age_of_employees)  ##min and max also works well with list and tuple"
   ]
  },
  {
   "cell_type": "code",
   "execution_count": 246,
   "id": "53420686-953e-4c90-9243-5f3d30946e82",
   "metadata": {},
   "outputs": [
    {
     "data": {
      "text/plain": [
       "22"
      ]
     },
     "execution_count": 246,
     "metadata": {},
     "output_type": "execute_result"
    }
   ],
   "source": [
    "min(age_of_employees)"
   ]
  },
  {
   "cell_type": "code",
   "execution_count": null,
   "id": "dc99706b-1406-417f-affd-242e51da8687",
   "metadata": {},
   "outputs": [],
   "source": []
  },
  {
   "cell_type": "markdown",
   "id": "3466bd04-85e8-420a-9c3e-f32861fabee0",
   "metadata": {},
   "source": [
    "* updating values in sets with another set"
   ]
  },
  {
   "cell_type": "code",
   "execution_count": 251,
   "id": "cc060bc0-bb14-4c39-836e-d7d7c829931d",
   "metadata": {},
   "outputs": [
    {
     "data": {
      "text/plain": [
       "{22, 23, 24, 27, 28, 29, 31, 32, 35}"
      ]
     },
     "execution_count": 251,
     "metadata": {},
     "output_type": "execute_result"
    }
   ],
   "source": [
    "age_of_employees"
   ]
  },
  {
   "cell_type": "code",
   "execution_count": 253,
   "id": "cae5c4aa-741d-499b-a9cd-ef63c8a7e567",
   "metadata": {},
   "outputs": [],
   "source": [
    "new_records = {55,61,60,59}"
   ]
  },
  {
   "cell_type": "code",
   "execution_count": 255,
   "id": "9086d063-7387-4b04-b1a7-b326a84535a9",
   "metadata": {},
   "outputs": [
    {
     "data": {
      "text/plain": [
       "{55, 59, 60, 61}"
      ]
     },
     "execution_count": 255,
     "metadata": {},
     "output_type": "execute_result"
    }
   ],
   "source": [
    "new_records"
   ]
  },
  {
   "cell_type": "code",
   "execution_count": 257,
   "id": "daaccd6d-aefb-449a-9d7c-ce2ba1ca067b",
   "metadata": {},
   "outputs": [],
   "source": [
    "age_of_employees.update(new_records)"
   ]
  },
  {
   "cell_type": "code",
   "execution_count": 259,
   "id": "5acf1764-1dc7-4a70-8fc5-5bc9d22cdfc0",
   "metadata": {},
   "outputs": [
    {
     "data": {
      "text/plain": [
       "{22, 23, 24, 27, 28, 29, 31, 32, 35, 55, 59, 60, 61}"
      ]
     },
     "execution_count": 259,
     "metadata": {},
     "output_type": "execute_result"
    }
   ],
   "source": [
    "age_of_employees"
   ]
  },
  {
   "cell_type": "code",
   "execution_count": null,
   "id": "af8f8de7-b434-4fac-afdf-c392c2fe9d60",
   "metadata": {},
   "outputs": [],
   "source": []
  },
  {
   "cell_type": "markdown",
   "id": "18dd9d48-ccf2-4347-a081-c369710d9db5",
   "metadata": {},
   "source": [
    "* Remove elements from sets # you can remove or discard"
   ]
  },
  {
   "cell_type": "code",
   "execution_count": 262,
   "id": "d1675e85-fc1a-4cd1-b7b7-47947aaccf99",
   "metadata": {},
   "outputs": [],
   "source": [
    "age_of_employees.remove(27)"
   ]
  },
  {
   "cell_type": "code",
   "execution_count": 264,
   "id": "1407602a-41de-490a-9cd8-662ea43f374b",
   "metadata": {},
   "outputs": [
    {
     "data": {
      "text/plain": [
       "{22, 23, 24, 28, 29, 31, 32, 35, 55, 59, 60, 61}"
      ]
     },
     "execution_count": 264,
     "metadata": {},
     "output_type": "execute_result"
    }
   ],
   "source": [
    "age_of_employees"
   ]
  },
  {
   "cell_type": "code",
   "execution_count": null,
   "id": "bab1356a-01c5-4afa-87fc-455c528bbfad",
   "metadata": {},
   "outputs": [],
   "source": []
  },
  {
   "cell_type": "code",
   "execution_count": 267,
   "id": "febfbec2-0c2e-44f4-9872-90323a7448b5",
   "metadata": {},
   "outputs": [],
   "source": [
    "age_of_employees.discard(29)"
   ]
  },
  {
   "cell_type": "code",
   "execution_count": 269,
   "id": "4a6cee86-9a34-4270-8661-1bf8306e90e8",
   "metadata": {},
   "outputs": [
    {
     "data": {
      "text/plain": [
       "{22, 23, 24, 28, 31, 32, 35, 55, 59, 60, 61}"
      ]
     },
     "execution_count": 269,
     "metadata": {},
     "output_type": "execute_result"
    }
   ],
   "source": [
    "age_of_employees"
   ]
  },
  {
   "cell_type": "code",
   "execution_count": null,
   "id": "65619b81-accc-4c78-8afe-34afc0db2e71",
   "metadata": {},
   "outputs": [],
   "source": []
  },
  {
   "cell_type": "markdown",
   "id": "3d794813-d8df-4c59-a946-c1f7cc6ea681",
   "metadata": {},
   "source": [
    "#### Union, Intersect and Difference"
   ]
  },
  {
   "cell_type": "code",
   "execution_count": 282,
   "id": "161b1c36-9e23-4ee7-9c65-dafc88e14737",
   "metadata": {},
   "outputs": [],
   "source": [
    "engr_dept = {'Folake', 'Francis', 'Jubril', 'Usman', 'Emeka'}\n",
    "hr_dept = {'Daniel', 'Damilola', 'Amaka', 'Emeka', 'Usman'}"
   ]
  },
  {
   "cell_type": "markdown",
   "id": "9534bbd6-ad6f-41ce-9052-373f27843b70",
   "metadata": {},
   "source": [
    "* Union- just like concatenate, you want to add everything together\n",
    "pipe |"
   ]
  },
  {
   "cell_type": "code",
   "execution_count": null,
   "id": "7d67c5d9-2171-4c2a-bff2-2e206b5bcc29",
   "metadata": {},
   "outputs": [],
   "source": [
    "# Union"
   ]
  },
  {
   "cell_type": "code",
   "execution_count": 284,
   "id": "de87a61f-98ba-470c-a0f7-e48efe532a9b",
   "metadata": {},
   "outputs": [
    {
     "name": "stdout",
     "output_type": "stream",
     "text": [
      "{'Daniel', 'Emeka', 'Damilola', 'Jubril', 'Folake', 'Amaka', 'Usman', 'Francis'}\n"
     ]
    }
   ],
   "source": [
    "print (engr_dept | hr_dept)"
   ]
  },
  {
   "cell_type": "code",
   "execution_count": null,
   "id": "8954e2dd-2606-4912-9c79-6cbfb5ad33d0",
   "metadata": {},
   "outputs": [],
   "source": []
  },
  {
   "cell_type": "code",
   "execution_count": null,
   "id": "e2aefb8e-74d7-4f6a-8ebb-1a0a17d437b1",
   "metadata": {},
   "outputs": [],
   "source": [
    "# Intersection (hamper sign) & - intesection will find comon values in the two sets"
   ]
  },
  {
   "cell_type": "code",
   "execution_count": 286,
   "id": "58962654-3156-4063-a7e1-4300ff238d8b",
   "metadata": {},
   "outputs": [
    {
     "name": "stdout",
     "output_type": "stream",
     "text": [
      "{'Emeka', 'Usman'}\n"
     ]
    }
   ],
   "source": [
    "print (engr_dept & hr_dept)"
   ]
  },
  {
   "cell_type": "code",
   "execution_count": null,
   "id": "97c2e1d3-c636-4902-804c-f928680498f2",
   "metadata": {},
   "outputs": [],
   "source": []
  },
  {
   "cell_type": "code",
   "execution_count": 288,
   "id": "3effbbfa-c3be-4ef8-97f5-68f5466ba93f",
   "metadata": {},
   "outputs": [],
   "source": [
    "# Difference -"
   ]
  },
  {
   "cell_type": "code",
   "execution_count": 290,
   "id": "283a68cc-3d55-439d-8e26-5ea220a1601a",
   "metadata": {},
   "outputs": [
    {
     "data": {
      "text/plain": [
       "{'Folake', 'Francis', 'Jubril'}"
      ]
     },
     "execution_count": 290,
     "metadata": {},
     "output_type": "execute_result"
    }
   ],
   "source": [
    "engr_dept - hr_dept"
   ]
  },
  {
   "cell_type": "code",
   "execution_count": null,
   "id": "628cf42f-822b-41bd-8405-2ac8c3ea6bc6",
   "metadata": {},
   "outputs": [],
   "source": []
  },
  {
   "cell_type": "markdown",
   "id": "c47416de-ea0c-4fdf-80d2-147e8a995e2f",
   "metadata": {},
   "source": [
    "# Boolean Data Type"
   ]
  },
  {
   "cell_type": "code",
   "execution_count": null,
   "id": "9721330f-7180-4d92-b121-12843ba3534a",
   "metadata": {},
   "outputs": [],
   "source": [
    "# True or False"
   ]
  },
  {
   "cell_type": "code",
   "execution_count": 293,
   "id": "f6934757-78e6-4e95-ac30-3041f0d13f9d",
   "metadata": {},
   "outputs": [],
   "source": [
    "secret_key =515"
   ]
  },
  {
   "cell_type": "code",
   "execution_count": 303,
   "id": "b2b696a3-b5a2-4897-8a46-172a1f254733",
   "metadata": {},
   "outputs": [
    {
     "name": "stdin",
     "output_type": "stream",
     "text": [
      "Enter the secret key 321\n"
     ]
    }
   ],
   "source": [
    "key = int(input('Enter the secret key'))"
   ]
  },
  {
   "cell_type": "code",
   "execution_count": 305,
   "id": "c0f3ee0f-0dd8-4e17-a703-a962c1f0ff00",
   "metadata": {},
   "outputs": [
    {
     "data": {
      "text/plain": [
       "int"
      ]
     },
     "execution_count": 305,
     "metadata": {},
     "output_type": "execute_result"
    }
   ],
   "source": [
    "type(key)"
   ]
  },
  {
   "cell_type": "code",
   "execution_count": null,
   "id": "c3b0bb7d-4e2e-4bfa-b64d-c1a675dce726",
   "metadata": {},
   "outputs": [],
   "source": []
  },
  {
   "cell_type": "code",
   "execution_count": 297,
   "id": "7ea37b4d-a09e-4bb2-ae39-fe5b6d732f9b",
   "metadata": {},
   "outputs": [
    {
     "data": {
      "text/plain": [
       "False"
      ]
     },
     "execution_count": 297,
     "metadata": {},
     "output_type": "execute_result"
    }
   ],
   "source": [
    "key==secret_key"
   ]
  },
  {
   "cell_type": "code",
   "execution_count": null,
   "id": "99bcecaf-c708-4bdb-9ab5-fbf4705ae8b5",
   "metadata": {},
   "outputs": [],
   "source": []
  },
  {
   "cell_type": "code",
   "execution_count": 307,
   "id": "7df1d310-7f7d-40c9-a64d-aee78b81f3e5",
   "metadata": {},
   "outputs": [
    {
     "name": "stdin",
     "output_type": "stream",
     "text": [
      "Enter the secret key 515\n"
     ]
    }
   ],
   "source": [
    "key = int(input('Enter the secret key'))"
   ]
  },
  {
   "cell_type": "code",
   "execution_count": 309,
   "id": "66fde0f2-c090-41a3-8787-d565f749d28a",
   "metadata": {},
   "outputs": [
    {
     "data": {
      "text/plain": [
       "True"
      ]
     },
     "execution_count": 309,
     "metadata": {},
     "output_type": "execute_result"
    }
   ],
   "source": [
    "key==secret_key"
   ]
  },
  {
   "cell_type": "code",
   "execution_count": null,
   "id": "aaf9271a-3779-474d-bedd-95d535939538",
   "metadata": {},
   "outputs": [],
   "source": []
  },
  {
   "cell_type": "code",
   "execution_count": 311,
   "id": "b0b611fc-2215-4d48-8d60-6d0738a80b93",
   "metadata": {},
   "outputs": [
    {
     "data": {
      "text/plain": [
       "False"
      ]
     },
     "execution_count": 311,
     "metadata": {},
     "output_type": "execute_result"
    }
   ],
   "source": [
    "3>7"
   ]
  },
  {
   "cell_type": "code",
   "execution_count": null,
   "id": "28ae7ade-092a-4935-9e64-fa39b9e3c84d",
   "metadata": {},
   "outputs": [],
   "source": []
  },
  {
   "cell_type": "code",
   "execution_count": 313,
   "id": "c2d97877-956b-4a81-80c3-8c2984926bd7",
   "metadata": {},
   "outputs": [
    {
     "data": {
      "text/plain": [
       "True"
      ]
     },
     "execution_count": 313,
     "metadata": {},
     "output_type": "execute_result"
    }
   ],
   "source": [
    "9<10"
   ]
  },
  {
   "cell_type": "code",
   "execution_count": null,
   "id": "dacacad8-a0b6-4dc7-8262-0c5e52347dde",
   "metadata": {},
   "outputs": [],
   "source": []
  },
  {
   "cell_type": "markdown",
   "id": "a2e74616-bced-418b-8964-d54fbc07cdad",
   "metadata": {},
   "source": [
    "### Task- Movie Night with Friends"
   ]
  },
  {
   "cell_type": "code",
   "execution_count": 1,
   "id": "f8989a16-f5b2-45c0-950b-e1fab93687ae",
   "metadata": {},
   "outputs": [
    {
     "name": "stdin",
     "output_type": "stream",
     "text": [
      "Enter a movie name:  Spider Man\n",
      "Enter the number of people attending:  5\n"
     ]
    }
   ],
   "source": [
    "movie_name = input(\"Enter a movie name: \")\n",
    "num_attendees = int(input(\"Enter the number of people attending: \"))"
   ]
  },
  {
   "cell_type": "code",
   "execution_count": 21,
   "id": "58172d93-0223-4197-942e-e8f003ad5e84",
   "metadata": {},
   "outputs": [
    {
     "name": "stdin",
     "output_type": "stream",
     "text": [
      "Enter the name of all attendees seperated by a comma:  Sam, Dan, Crown, Ade\n"
     ]
    }
   ],
   "source": [
    "attendees_input = input('Enter the name of all attendees seperated by a comma: ')"
   ]
  },
  {
   "cell_type": "code",
   "execution_count": null,
   "id": "ddb9576f-b65d-471e-b30a-48e4cc681bd1",
   "metadata": {},
   "outputs": [],
   "source": []
  },
  {
   "cell_type": "code",
   "execution_count": 23,
   "id": "6512cc83-88e1-4969-beba-0d79f5703ab7",
   "metadata": {},
   "outputs": [
    {
     "data": {
      "text/plain": [
       "str"
      ]
     },
     "execution_count": 23,
     "metadata": {},
     "output_type": "execute_result"
    }
   ],
   "source": [
    "type(attendees_input)"
   ]
  },
  {
   "cell_type": "code",
   "execution_count": 33,
   "id": "40dd8924-c39a-43eb-8b01-c8954f90d5e0",
   "metadata": {},
   "outputs": [],
   "source": [
    "attendees= attendees_input.split(',')"
   ]
  },
  {
   "cell_type": "code",
   "execution_count": 35,
   "id": "a7e8b26c-23d3-45ad-9589-58191886feaf",
   "metadata": {},
   "outputs": [
    {
     "data": {
      "text/plain": [
       "['Sam', ' Dan', ' Crown', ' Ade']"
      ]
     },
     "execution_count": 35,
     "metadata": {},
     "output_type": "execute_result"
    }
   ],
   "source": [
    "attendees"
   ]
  },
  {
   "cell_type": "code",
   "execution_count": null,
   "id": "7513667b-2337-4282-af8b-c52e2b1f0fbf",
   "metadata": {},
   "outputs": [],
   "source": []
  },
  {
   "cell_type": "code",
   "execution_count": 39,
   "id": "21ba07e0-c65f-4c43-a8cf-8b86a76c5247",
   "metadata": {},
   "outputs": [
    {
     "data": {
      "text/plain": [
       "list"
      ]
     },
     "execution_count": 39,
     "metadata": {},
     "output_type": "execute_result"
    }
   ],
   "source": [
    "type(attendees)"
   ]
  },
  {
   "cell_type": "code",
   "execution_count": null,
   "id": "439505c4-770c-4a2c-9055-1cca023a6f75",
   "metadata": {},
   "outputs": [],
   "source": []
  },
  {
   "cell_type": "code",
   "execution_count": 43,
   "id": "457152f5-5f85-40c9-9d44-a1316c712a5d",
   "metadata": {},
   "outputs": [],
   "source": [
    "movie_time = ('7:00PM','9:30PM')"
   ]
  },
  {
   "cell_type": "code",
   "execution_count": null,
   "id": "e13652f1-f28d-4168-adef-0c42092a23c8",
   "metadata": {},
   "outputs": [],
   "source": []
  },
  {
   "cell_type": "code",
   "execution_count": 55,
   "id": "b12fd943-0e53-457e-b83a-291ec154b655",
   "metadata": {},
   "outputs": [
    {
     "data": {
      "text/plain": [
       "'Sam'"
      ]
     },
     "execution_count": 55,
     "metadata": {},
     "output_type": "execute_result"
    }
   ],
   "source": [
    "attendees[0]"
   ]
  },
  {
   "cell_type": "code",
   "execution_count": null,
   "id": "2cdc9a4d-42ef-4b96-a606-aa46d18cc71a",
   "metadata": {},
   "outputs": [],
   "source": []
  },
  {
   "cell_type": "code",
   "execution_count": 59,
   "id": "fd490c70-3c40-4171-b4de-055ae4789e28",
   "metadata": {},
   "outputs": [
    {
     "name": "stdin",
     "output_type": "stream",
     "text": [
      "What snack is Sam bringing?  Popcorn\n"
     ]
    },
    {
     "data": {
      "text/plain": [
       "{'Sam': 'Popcorn'}"
      ]
     },
     "execution_count": 59,
     "metadata": {},
     "output_type": "execute_result"
    }
   ],
   "source": [
    "{attendees[0]: input(f\"What snack is {attendees[0]} bringing? \")}"
   ]
  },
  {
   "cell_type": "code",
   "execution_count": null,
   "id": "479e9049-be73-4ef5-9592-59f6b59e59f7",
   "metadata": {},
   "outputs": [],
   "source": []
  },
  {
   "cell_type": "code",
   "execution_count": 61,
   "id": "4ec37c47-4028-47e5-8b01-d51b9d668fb5",
   "metadata": {},
   "outputs": [
    {
     "name": "stdin",
     "output_type": "stream",
     "text": [
      "What snack is Sam bringing?  Popcorn\n",
      "What snack is  Dan bringing?  Soda\n",
      "What snack is  Crown bringing?  Chips\n",
      "What snack is  Ade bringing?  Candy\n"
     ]
    }
   ],
   "source": [
    "snacks= {\n",
    "    attendees[0]: input(f\"What snack is {attendees[0]} bringing? \"),\n",
    "    attendees[1]: input(f\"What snack is {attendees[1]} bringing? \"),\n",
    "    attendees[2]: input(f\"What snack is {attendees[2]} bringing? \"),\n",
    "    attendees[3]: input(f\"What snack is {attendees[3]} bringing? \")\n",
    "}"
   ]
  },
  {
   "cell_type": "code",
   "execution_count": 63,
   "id": "254b771d-95f1-4dcb-8fc7-32d03d8930e8",
   "metadata": {},
   "outputs": [
    {
     "name": "stdout",
     "output_type": "stream",
     "text": [
      "{'Sam': 'Popcorn', ' Dan': 'Soda', ' Crown': 'Chips', ' Ade': 'Candy'}\n"
     ]
    }
   ],
   "source": [
    "print (snacks)"
   ]
  },
  {
   "cell_type": "code",
   "execution_count": null,
   "id": "5092f167-3e64-40eb-8598-abe94e28f5fe",
   "metadata": {},
   "outputs": [],
   "source": []
  },
  {
   "cell_type": "code",
   "execution_count": 65,
   "id": "d52c0e2c-91f9-4ea6-89a4-ceb9d94879e8",
   "metadata": {},
   "outputs": [
    {
     "name": "stdin",
     "output_type": "stream",
     "text": [
      "Enter the name of genres of movie seperated by a comma:  Comedy, Horror, Drama, SciFi\n"
     ]
    }
   ],
   "source": [
    "genres_input = input('Enter the name of genres of movie seperated by a comma: ')"
   ]
  },
  {
   "cell_type": "code",
   "execution_count": 75,
   "id": "c43c068c-64c8-4ae4-95a1-b388983d5a15",
   "metadata": {},
   "outputs": [],
   "source": [
    "genres= genres_input.split(',')"
   ]
  },
  {
   "cell_type": "code",
   "execution_count": 77,
   "id": "c8f270d4-9678-40c4-ad73-3be087411875",
   "metadata": {},
   "outputs": [
    {
     "data": {
      "text/plain": [
       "['Comedy', ' Horror', ' Drama', ' SciFi']"
      ]
     },
     "execution_count": 77,
     "metadata": {},
     "output_type": "execute_result"
    }
   ],
   "source": [
    "genres"
   ]
  },
  {
   "cell_type": "code",
   "execution_count": 81,
   "id": "5f7619e2-2673-46eb-a8af-99a29a8cecc2",
   "metadata": {},
   "outputs": [
    {
     "data": {
      "text/plain": [
       "list"
      ]
     },
     "execution_count": 81,
     "metadata": {},
     "output_type": "execute_result"
    }
   ],
   "source": [
    "type(genres)"
   ]
  },
  {
   "cell_type": "code",
   "execution_count": null,
   "id": "ed1255c1-5fd6-49e9-8114-71fa555f3ba9",
   "metadata": {},
   "outputs": [],
   "source": []
  },
  {
   "cell_type": "code",
   "execution_count": 83,
   "id": "b48315d4-a1c5-4117-8051-0f21c4a45a92",
   "metadata": {},
   "outputs": [
    {
     "name": "stdin",
     "output_type": "stream",
     "text": [
      "Has everyone confirmed their attendance?(yes/no):  yes\n"
     ]
    }
   ],
   "source": [
    "all_confirmed_input= input(\"Has everyone confirmed their attendance?(yes/no): \")"
   ]
  },
  {
   "cell_type": "code",
   "execution_count": null,
   "id": "a43fe9ba-e4cc-47c4-b19d-e3ca4b647b62",
   "metadata": {},
   "outputs": [],
   "source": []
  },
  {
   "cell_type": "code",
   "execution_count": 87,
   "id": "c55beab8-e03b-4c71-a01d-4ad70af92a1d",
   "metadata": {},
   "outputs": [],
   "source": [
    "all_confirmed=all_confirmed_input=='yes'"
   ]
  },
  {
   "cell_type": "code",
   "execution_count": null,
   "id": "3c4ba79a-8521-49c6-8075-ea375f8c3b1b",
   "metadata": {},
   "outputs": [],
   "source": [
    "all_confirmed"
   ]
  },
  {
   "cell_type": "code",
   "execution_count": null,
   "id": "d1c8f233-2823-4810-b142-ce3760d8eb26",
   "metadata": {},
   "outputs": [],
   "source": []
  },
  {
   "cell_type": "code",
   "execution_count": 95,
   "id": "70257cc4-6491-4041-a93e-f48ca9662d97",
   "metadata": {},
   "outputs": [],
   "source": [
    "message= movie_name + \" is the selected movie\""
   ]
  },
  {
   "cell_type": "code",
   "execution_count": 97,
   "id": "e2e09bd4-c2e5-4a3c-bfeb-e86ea287b6ee",
   "metadata": {},
   "outputs": [
    {
     "data": {
      "text/plain": [
       "'Spider Man is the selected movie'"
      ]
     },
     "execution_count": 97,
     "metadata": {},
     "output_type": "execute_result"
    }
   ],
   "source": [
    "message"
   ]
  },
  {
   "cell_type": "code",
   "execution_count": null,
   "id": "f8afc3c2-bd19-44da-b658-4df1588df674",
   "metadata": {},
   "outputs": [],
   "source": []
  },
  {
   "cell_type": "code",
   "execution_count": 101,
   "id": "558eaa4b-15e6-466d-a6d6-c4eae1f09fbc",
   "metadata": {},
   "outputs": [
    {
     "name": "stdin",
     "output_type": "stream",
     "text": [
      "Enter the name of the new attendee:  Mark\n"
     ]
    }
   ],
   "source": [
    "new_attendee= input('Enter the name of the new attendee: ')"
   ]
  },
  {
   "cell_type": "code",
   "execution_count": null,
   "id": "284a3e70-e931-4564-9848-c7276e12691c",
   "metadata": {},
   "outputs": [],
   "source": []
  },
  {
   "cell_type": "code",
   "execution_count": 103,
   "id": "2a3a8288-ff7c-4b96-b871-dbd105a7437f",
   "metadata": {},
   "outputs": [],
   "source": [
    "attendees.append(new_attendee)"
   ]
  },
  {
   "cell_type": "code",
   "execution_count": 105,
   "id": "55a057b8-a01f-440f-bcf1-aa3fcd89f807",
   "metadata": {},
   "outputs": [
    {
     "data": {
      "text/plain": [
       "['Sam', ' Dan', ' Crown', ' Ade', 'Mark']"
      ]
     },
     "execution_count": 105,
     "metadata": {},
     "output_type": "execute_result"
    }
   ],
   "source": [
    "attendees"
   ]
  },
  {
   "cell_type": "code",
   "execution_count": 107,
   "id": "b33cec43-2308-40f1-b805-dda35a3b125d",
   "metadata": {},
   "outputs": [
    {
     "name": "stdin",
     "output_type": "stream",
     "text": [
      "Enter the genre to remove:  Comedy\n"
     ]
    }
   ],
   "source": [
    "genre_to_remove= input('Enter the genre to remove: ')"
   ]
  },
  {
   "cell_type": "code",
   "execution_count": 111,
   "id": "fac5743f-f275-40f4-a954-41918c035547",
   "metadata": {},
   "outputs": [],
   "source": [
    "genres.remove (genre_to_remove)"
   ]
  },
  {
   "cell_type": "code",
   "execution_count": 113,
   "id": "e0bf0fe1-395d-4fc6-96e7-6ac22151da39",
   "metadata": {},
   "outputs": [
    {
     "data": {
      "text/plain": [
       "[' Horror', ' Drama', ' SciFi']"
      ]
     },
     "execution_count": 113,
     "metadata": {},
     "output_type": "execute_result"
    }
   ],
   "source": [
    "genres"
   ]
  },
  {
   "cell_type": "code",
   "execution_count": null,
   "id": "dc040e70-1d12-4500-b12c-45d5102f66db",
   "metadata": {},
   "outputs": [],
   "source": []
  },
  {
   "cell_type": "code",
   "execution_count": null,
   "id": "7697d4cf-651c-40a8-b89a-946c7adf0947",
   "metadata": {},
   "outputs": [],
   "source": []
  },
  {
   "cell_type": "code",
   "execution_count": 123,
   "id": "295861f0-107c-4c4b-a01a-66018a7794ef",
   "metadata": {},
   "outputs": [],
   "source": [
    "x = [12, 45, 'Tomorrow', 'Yes', 45.67, 22, 0, 102] # Let's check if there's yes in this list"
   ]
  },
  {
   "cell_type": "code",
   "execution_count": 125,
   "id": "9f6be5ae-adbb-43e1-8742-15f0b6f4befc",
   "metadata": {},
   "outputs": [
    {
     "data": {
      "text/plain": [
       "[12, 45, 'Tomorrow', 'Yes', 45.67, 22, 0, 102]"
      ]
     },
     "execution_count": 125,
     "metadata": {},
     "output_type": "execute_result"
    }
   ],
   "source": [
    "x"
   ]
  },
  {
   "cell_type": "code",
   "execution_count": null,
   "id": "ee733733-1dfe-475a-849e-071606566208",
   "metadata": {},
   "outputs": [],
   "source": []
  },
  {
   "cell_type": "code",
   "execution_count": 127,
   "id": "fa7abdfb-dc6c-45b3-94c5-3693a1017908",
   "metadata": {},
   "outputs": [
    {
     "data": {
      "text/plain": [
       "True"
      ]
     },
     "execution_count": 127,
     "metadata": {},
     "output_type": "execute_result"
    }
   ],
   "source": [
    "'Yes' in x"
   ]
  },
  {
   "cell_type": "code",
   "execution_count": null,
   "id": "edcd02ab-2e51-4892-b4ad-288686adc9d1",
   "metadata": {},
   "outputs": [],
   "source": []
  },
  {
   "cell_type": "code",
   "execution_count": 129,
   "id": "f49148d1-9d3a-49f0-a53a-fa9f5e75287b",
   "metadata": {},
   "outputs": [
    {
     "data": {
      "text/plain": [
       "False"
      ]
     },
     "execution_count": 129,
     "metadata": {},
     "output_type": "execute_result"
    }
   ],
   "source": [
    "'Blue' in x"
   ]
  },
  {
   "cell_type": "code",
   "execution_count": 131,
   "id": "4099fae2-85bb-4da0-9cf1-67bfa91e2210",
   "metadata": {},
   "outputs": [
    {
     "data": {
      "text/plain": [
       "True"
      ]
     },
     "execution_count": 131,
     "metadata": {},
     "output_type": "execute_result"
    }
   ],
   "source": [
    "45.67 in x"
   ]
  },
  {
   "cell_type": "code",
   "execution_count": 133,
   "id": "8e4db4db-1c40-4b0d-8784-d23349621df2",
   "metadata": {},
   "outputs": [
    {
     "data": {
      "text/plain": [
       "False"
      ]
     },
     "execution_count": 133,
     "metadata": {},
     "output_type": "execute_result"
    }
   ],
   "source": [
    "2 in x"
   ]
  },
  {
   "cell_type": "code",
   "execution_count": 135,
   "id": "afa6d64e-bb9a-4954-997b-6e775d11e00a",
   "metadata": {},
   "outputs": [
    {
     "data": {
      "text/plain": [
       "True"
      ]
     },
     "execution_count": 135,
     "metadata": {},
     "output_type": "execute_result"
    }
   ],
   "source": [
    "45 in x"
   ]
  },
  {
   "cell_type": "code",
   "execution_count": 137,
   "id": "998bfd5d-6c5b-4fec-b099-9f4f36f3a800",
   "metadata": {},
   "outputs": [
    {
     "data": {
      "text/plain": [
       "False"
      ]
     },
     "execution_count": 137,
     "metadata": {},
     "output_type": "execute_result"
    }
   ],
   "source": [
    "45.6 in x"
   ]
  },
  {
   "cell_type": "code",
   "execution_count": null,
   "id": "1a834ccb-c77d-4403-8ea0-696adea958b9",
   "metadata": {},
   "outputs": [],
   "source": []
  },
  {
   "cell_type": "code",
   "execution_count": 139,
   "id": "bfbf047c-a756-4eba-b204-118ae5c21fd4",
   "metadata": {},
   "outputs": [
    {
     "data": {
      "text/plain": [
       "{'Sam': 'Popcorn', ' Dan': 'Soda', ' Crown': 'Chips', ' Ade': 'Candy'}"
      ]
     },
     "execution_count": 139,
     "metadata": {},
     "output_type": "execute_result"
    }
   ],
   "source": [
    "snacks"
   ]
  },
  {
   "cell_type": "code",
   "execution_count": null,
   "id": "8b90b783-40ad-48d8-8f3d-3f7c3de06d4e",
   "metadata": {},
   "outputs": [],
   "source": []
  },
  {
   "cell_type": "code",
   "execution_count": 145,
   "id": "6f5d1ba3-1f33-49d1-8568-7df04ad39d86",
   "metadata": {},
   "outputs": [
    {
     "data": {
      "text/plain": [
       "dict_values(['Popcorn', 'Soda', 'Chips', 'Candy'])"
      ]
     },
     "execution_count": 145,
     "metadata": {},
     "output_type": "execute_result"
    }
   ],
   "source": [
    "snacks.values()"
   ]
  },
  {
   "cell_type": "code",
   "execution_count": null,
   "id": "191eeda4-fb6c-4a39-9d05-c6522f0c957a",
   "metadata": {},
   "outputs": [],
   "source": []
  },
  {
   "cell_type": "code",
   "execution_count": 147,
   "id": "90e4aec4-a20f-4338-8e23-17bd721149b4",
   "metadata": {},
   "outputs": [
    {
     "data": {
      "text/plain": [
       "True"
      ]
     },
     "execution_count": 147,
     "metadata": {},
     "output_type": "execute_result"
    }
   ],
   "source": [
    "'Popcorn' in snacks.values()"
   ]
  },
  {
   "cell_type": "code",
   "execution_count": null,
   "id": "002a9a49-0079-4244-b0d4-f81609a48129",
   "metadata": {},
   "outputs": [],
   "source": []
  },
  {
   "cell_type": "code",
   "execution_count": 155,
   "id": "9b9bc22f-0ca1-42d2-8bbc-a6194c1bc557",
   "metadata": {},
   "outputs": [],
   "source": [
    "is_Popcorn_brought= 'Popcorn' in snacks.values()"
   ]
  },
  {
   "cell_type": "code",
   "execution_count": 157,
   "id": "2bae6bc3-4f0a-4bc5-8982-e9e266b36798",
   "metadata": {},
   "outputs": [
    {
     "data": {
      "text/plain": [
       "True"
      ]
     },
     "execution_count": 157,
     "metadata": {},
     "output_type": "execute_result"
    }
   ],
   "source": [
    "is_Popcorn_brought"
   ]
  },
  {
   "cell_type": "code",
   "execution_count": 159,
   "id": "edcdc948-84b0-4548-acaf-ff59b58b65e5",
   "metadata": {},
   "outputs": [
    {
     "name": "stdout",
     "output_type": "stream",
     "text": [
      "Is Popcorn on our list? True\n"
     ]
    }
   ],
   "source": [
    "print (f'Is Popcorn on our list? {is_Popcorn_brought}')"
   ]
  },
  {
   "cell_type": "code",
   "execution_count": null,
   "id": "4687ce4e-b78e-40fe-86aa-ea4d8aecf950",
   "metadata": {},
   "outputs": [],
   "source": []
  },
  {
   "cell_type": "code",
   "execution_count": null,
   "id": "88ca622b-3b84-4494-a5bc-bba280082976",
   "metadata": {},
   "outputs": [],
   "source": []
  },
  {
   "cell_type": "code",
   "execution_count": null,
   "id": "a92d3445-65c2-4b54-974e-6704807427d9",
   "metadata": {},
   "outputs": [],
   "source": []
  },
  {
   "cell_type": "code",
   "execution_count": null,
   "id": "488e1c16-67c4-488f-a7d0-e38f30218523",
   "metadata": {},
   "outputs": [],
   "source": []
  },
  {
   "cell_type": "code",
   "execution_count": null,
   "id": "195bbcc4-ab44-4c74-992a-91c3ae9a18da",
   "metadata": {},
   "outputs": [],
   "source": []
  },
  {
   "cell_type": "code",
   "execution_count": null,
   "id": "2a3daedb-6a2e-464b-a410-19536ca9d4ea",
   "metadata": {},
   "outputs": [],
   "source": []
  },
  {
   "cell_type": "code",
   "execution_count": 11,
   "id": "6f422a90-c036-4caa-aec9-11ed962932c7",
   "metadata": {},
   "outputs": [],
   "source": [
    "x = \"blue, green, black, white\" # if you want to split into a list , operator int the bracket is what you want to split it by"
   ]
  },
  {
   "cell_type": "code",
   "execution_count": 13,
   "id": "18ac6ca6-7783-4acd-8103-abe848d8c08f",
   "metadata": {},
   "outputs": [
    {
     "data": {
      "text/plain": [
       "str"
      ]
     },
     "execution_count": 13,
     "metadata": {},
     "output_type": "execute_result"
    }
   ],
   "source": [
    "type (x)"
   ]
  },
  {
   "cell_type": "code",
   "execution_count": 15,
   "id": "9f618d6c-1fcf-4e22-b14a-3d397ee88d3e",
   "metadata": {},
   "outputs": [],
   "source": [
    "x = \"blue, green, black, white\".split(\",\") # you can split too by space if theres no comma # if it's +, use plus to split etc"
   ]
  },
  {
   "cell_type": "code",
   "execution_count": 17,
   "id": "3c540d5f-5432-40ea-8ea1-a1f93a94248d",
   "metadata": {},
   "outputs": [
    {
     "data": {
      "text/plain": [
       "['blue', ' green', ' black', ' white']"
      ]
     },
     "execution_count": 17,
     "metadata": {},
     "output_type": "execute_result"
    }
   ],
   "source": [
    "x"
   ]
  },
  {
   "cell_type": "code",
   "execution_count": 19,
   "id": "9766a88a-7f4a-4719-846a-a6f91148c930",
   "metadata": {},
   "outputs": [
    {
     "data": {
      "text/plain": [
       "list"
      ]
     },
     "execution_count": 19,
     "metadata": {},
     "output_type": "execute_result"
    }
   ],
   "source": [
    "type (x)"
   ]
  },
  {
   "cell_type": "code",
   "execution_count": null,
   "id": "a4b5be78-8f6e-41f4-93e5-9ecbd67e3ef2",
   "metadata": {},
   "outputs": [],
   "source": []
  },
  {
   "cell_type": "code",
   "execution_count": null,
   "id": "c3ca137d-a420-4a6b-ae9a-013559d6e783",
   "metadata": {},
   "outputs": [],
   "source": []
  },
  {
   "cell_type": "code",
   "execution_count": null,
   "id": "64b3e4b7-2ee6-40d2-8810-a7f276ec761c",
   "metadata": {},
   "outputs": [],
   "source": []
  },
  {
   "cell_type": "code",
   "execution_count": null,
   "id": "23f0ad64-cfaa-4baa-8439-0c64ba435458",
   "metadata": {},
   "outputs": [],
   "source": []
  },
  {
   "cell_type": "code",
   "execution_count": null,
   "id": "6251f7c7-b297-4cff-a099-3ea579667b0a",
   "metadata": {},
   "outputs": [],
   "source": []
  },
  {
   "cell_type": "code",
   "execution_count": null,
   "id": "92c262e1-150c-480e-b990-df822e95a528",
   "metadata": {},
   "outputs": [],
   "source": []
  },
  {
   "cell_type": "code",
   "execution_count": null,
   "id": "ac3a30b1-54ad-4a94-86b9-4b947662330e",
   "metadata": {},
   "outputs": [],
   "source": []
  },
  {
   "cell_type": "code",
   "execution_count": null,
   "id": "a96f9d18-3f06-4d74-a2af-6a1ac3c1c14a",
   "metadata": {},
   "outputs": [],
   "source": []
  },
  {
   "cell_type": "code",
   "execution_count": null,
   "id": "c61e3b74-8e78-4189-9984-d409a9ffba57",
   "metadata": {},
   "outputs": [],
   "source": []
  },
  {
   "cell_type": "code",
   "execution_count": null,
   "id": "aa920dbd-25b7-46d2-8b1a-b633c52298aa",
   "metadata": {},
   "outputs": [],
   "source": []
  },
  {
   "cell_type": "code",
   "execution_count": null,
   "id": "6860dcd9-1e26-4f5b-b035-742f5d9cdade",
   "metadata": {},
   "outputs": [],
   "source": []
  },
  {
   "cell_type": "code",
   "execution_count": null,
   "id": "c899cde4-1089-4007-ab88-54c816146f57",
   "metadata": {},
   "outputs": [],
   "source": []
  },
  {
   "cell_type": "code",
   "execution_count": null,
   "id": "4d5e20d4-efd7-4d02-b085-44cd87380f61",
   "metadata": {},
   "outputs": [],
   "source": []
  },
  {
   "cell_type": "code",
   "execution_count": null,
   "id": "4d9439e7-f2ba-41b2-9ce1-d66a7f83245f",
   "metadata": {},
   "outputs": [],
   "source": []
  },
  {
   "cell_type": "code",
   "execution_count": null,
   "id": "d97ee27e-6575-4d17-88bd-e732097f9184",
   "metadata": {},
   "outputs": [],
   "source": []
  }
 ],
 "metadata": {
  "kernelspec": {
   "display_name": "Python 3 (ipykernel)",
   "language": "python",
   "name": "python3"
  },
  "language_info": {
   "codemirror_mode": {
    "name": "ipython",
    "version": 3
   },
   "file_extension": ".py",
   "mimetype": "text/x-python",
   "name": "python",
   "nbconvert_exporter": "python",
   "pygments_lexer": "ipython3",
   "version": "3.12.4"
  }
 },
 "nbformat": 4,
 "nbformat_minor": 5
}
