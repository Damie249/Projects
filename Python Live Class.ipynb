{
 "cells": [
  {
   "cell_type": "code",
   "execution_count": 16,
   "id": "ffd2ab00-bf59-455f-b81c-7ddd3d152c0b",
   "metadata": {},
   "outputs": [
    {
     "name": "stdout",
     "output_type": "stream",
     "text": [
      "46.75\n",
      "270\n",
      "25.714285714285715\n"
     ]
    }
   ],
   "source": [
    "# Python datatype: are acceptable types of data in python progamming language\n",
    "\n",
    "# Number- Integer, Floats and complex numbers: Sequence( strings, list, dictioanries, tuples, sets)\n",
    "\n",
    "#Integers-positive or negative integer\n",
    "age= 45\n",
    "temperature= -32\n",
    "no_of_children = 6\n",
    "\n",
    "# Floats- any positive or negative continuous or decimal numbers\n",
    "height= 1.75\n",
    "amount= 150.75 #Majorly all currency values are usually in decimal places\n",
    "\n",
    "\n",
    "# Basic Arithmetic Operation\n",
    "sum = age + height\n",
    "difference = amount-temperature\n",
    "product= no_of_children * age\n",
    "quotient = age/height\n",
    "\n",
    "print(sum)\n",
    "print (product)\n",
    "print(quotient)\n",
    "\n",
    "\n",
    "\n",
    "\n"
   ]
  },
  {
   "cell_type": "code",
   "execution_count": 18,
   "id": "24e1390f-bbaa-4914-a22e-92dc6a22b495",
   "metadata": {},
   "outputs": [
    {
     "name": "stdout",
     "output_type": "stream",
     "text": [
      "Sum:  46.75\n"
     ]
    }
   ],
   "source": [
    "print(\"Sum: \",sum)"
   ]
  },
  {
   "cell_type": "code",
   "execution_count": 20,
   "id": "9bfc5cea-ac4b-4dc9-b713-cbcb29aaa38b",
   "metadata": {},
   "outputs": [
    {
     "name": "stdout",
     "output_type": "stream",
     "text": [
      "Product:  270\n"
     ]
    }
   ],
   "source": [
    "print(\"Product: \",product)"
   ]
  },
  {
   "cell_type": "code",
   "execution_count": 24,
   "id": "2dc6d327-f90c-4b3c-8277-8b637b7e00d6",
   "metadata": {},
   "outputs": [
    {
     "name": "stdout",
     "output_type": "stream",
     "text": [
      "The Quotient is:  25.714285714285715\n"
     ]
    }
   ],
   "source": [
    "print(\"The Quotient is: \",quotient)"
   ]
  },
  {
   "cell_type": "code",
   "execution_count": null,
   "id": "6ef5ec0f-d459-497c-ab39-ec95da71e438",
   "metadata": {},
   "outputs": [],
   "source": []
  },
  {
   "cell_type": "code",
   "execution_count": null,
   "id": "8268d243-d085-40b0-8f13-461c5ca08de2",
   "metadata": {},
   "outputs": [],
   "source": [
    "# Variables are storage location for data\n",
    "# Naming conventions : \n",
    "# 1. must start with upper case or lower case letters\n",
    "# 2. variables should be enclosed or joined with an underscore(_)\n",
    "# 3. no sign or number can be used to start a variable name or Camel casing- TotalAmount"
   ]
  },
  {
   "cell_type": "code",
   "execution_count": null,
   "id": "e3222484-785e-4175-bb47-4c032a051b89",
   "metadata": {},
   "outputs": [],
   "source": []
  },
  {
   "cell_type": "code",
   "execution_count": 63,
   "id": "b75c0c84-657d-4b20-ac29-214490b909fd",
   "metadata": {},
   "outputs": [],
   "source": [
    "# Strings are any set of characters enclosed in single or double quote character\n",
    "\n",
    "# Strings can be saved in a variable\n",
    "\n",
    "FirstName = \"Stephen\"\n",
    "LastName = \"Davidson\"\n",
    "FullName = FirstName + \" \" + LastName\n",
    "Colour = \"Blue\"\n",
    "\n",
    "# Concatenation is the combination of strings using the addition(+) sign\n",
    "Message = \"Hi guys , my name is: \" + FullName +\" and my favourite colour is \" + Colour"
   ]
  },
  {
   "cell_type": "code",
   "execution_count": 65,
   "id": "df066ba9-f6db-42bd-997b-9d966dcead7e",
   "metadata": {},
   "outputs": [
    {
     "name": "stdout",
     "output_type": "stream",
     "text": [
      "Hi guys , my name is: Stephen Davidson and my favourite colour is Blue\n"
     ]
    }
   ],
   "source": [
    "print (Message)"
   ]
  },
  {
   "cell_type": "code",
   "execution_count": null,
   "id": "81cf918b-f0e0-40fc-8624-0fd97cf12f9a",
   "metadata": {},
   "outputs": [],
   "source": []
  },
  {
   "cell_type": "code",
   "execution_count": 102,
   "id": "90e71949-73a1-438e-a7de-73a90cee4fd4",
   "metadata": {},
   "outputs": [
    {
     "name": "stdout",
     "output_type": "stream",
     "text": [
      "Hello, my name is: Oluwadamilola Ogunnika. I am a Data Scientist from Nigeria and I live in Lagos\n"
     ]
    }
   ],
   "source": [
    "\n",
    "FirstName = \"Oluwadamilola\"\n",
    "LastName = \"Ogunnika\"\n",
    "FullName = FirstName + \" \" + LastName\n",
    "City = \"Lagos\"\n",
    "Country = \"Nigeria\"\n",
    "\n",
    "Message = \"Hello, my name is: \" + FullName + \". I am a Data Scientist from \" + Country + \" and I live in \" + City\n",
    "\n",
    "print(Message)\n"
   ]
  },
  {
   "cell_type": "code",
   "execution_count": null,
   "id": "164d2ed5-bf35-4457-b0eb-6e432e89a1d4",
   "metadata": {},
   "outputs": [],
   "source": []
  },
  {
   "cell_type": "code",
   "execution_count": 90,
   "id": "217832a0-e952-422a-90d0-3e9750c99d5b",
   "metadata": {},
   "outputs": [
    {
     "name": "stdin",
     "output_type": "stream",
     "text": [
      "Please enter your first name:  Oluwadamilola\n",
      "Please enter your last name:  Ogunnika\n",
      "Please enter your age:  23\n",
      "Please enter your password:  2345678\n"
     ]
    }
   ],
   "source": [
    "f_name= str(input(\"Please enter your first name: \"))\n",
    "l_name=str(input(\"Please enter your last name: \"))\n",
    "age= int(input(\"Please enter your age: \"))\n",
    "password=int(input(\"Please enter your password: \")) #by putting the int or str, you are giving it a condition of the data type to expect from the input"
   ]
  },
  {
   "cell_type": "code",
   "execution_count": null,
   "id": "34a35bfd-ed37-4319-8db3-fbbdebb7f7d1",
   "metadata": {},
   "outputs": [],
   "source": []
  },
  {
   "cell_type": "code",
   "execution_count": 94,
   "id": "1904c98f-8ecc-4dac-bf67-6cad1d280de8",
   "metadata": {},
   "outputs": [
    {
     "name": "stdout",
     "output_type": "stream",
     "text": [
      "My name is Alice and I am 10 years old.\n"
     ]
    }
   ],
   "source": [
    "# Print formating\n",
    "Name= \"Alice\"\n",
    "age= 10\n",
    "\n",
    "print(f\"My name is {Name} and I am {age} years old.\")\n"
   ]
  },
  {
   "cell_type": "code",
   "execution_count": null,
   "id": "78c1628a-ec0a-4670-8188-1b2ddd75b309",
   "metadata": {},
   "outputs": [],
   "source": []
  },
  {
   "cell_type": "code",
   "execution_count": 96,
   "id": "3253a579-c617-4429-99e4-bff197ac0c2a",
   "metadata": {},
   "outputs": [
    {
     "name": "stdout",
     "output_type": "stream",
     "text": [
      "['Apple', 'Banana', 'Orange', 'Mango']\n"
     ]
    }
   ],
   "source": [
    "# lits allows multiple entries of mutable objects\n",
    "# lists are denoted denoted by the square bracket[ ]\n",
    "fruits= [\"Apple\", \"Banana\", \"Orange\", \"Mango\"]\n",
    "print(fruits)"
   ]
  },
  {
   "cell_type": "code",
   "execution_count": null,
   "id": "17180179-dfdd-474e-a0b3-f16b98d453e3",
   "metadata": {},
   "outputs": [],
   "source": []
  },
  {
   "cell_type": "code",
   "execution_count": 98,
   "id": "58d493b4-ad19-4556-8529-e215626ab951",
   "metadata": {},
   "outputs": [
    {
     "name": "stdout",
     "output_type": "stream",
     "text": [
      "Apple\n",
      "Orange\n",
      "Apple\n"
     ]
    }
   ],
   "source": [
    "# indexing is accessing each item within the list with its index numbers\n",
    "# indexing from left to right starts @ 0, 1, 2, 3,.....n\n",
    "# indexing from right to left starts @ -1, -2, -3, -4,.....n\n",
    "\n",
    "print(fruits[0])\n",
    "print(fruits[2])\n",
    "print(fruits[-4])"
   ]
  },
  {
   "cell_type": "code",
   "execution_count": null,
   "id": "ab785eb0-aa54-4b74-b67b-52add22c7688",
   "metadata": {},
   "outputs": [],
   "source": []
  },
  {
   "cell_type": "code",
   "execution_count": null,
   "id": "c41999d0-1de7-43c4-b7f7-27a91a8d81da",
   "metadata": {},
   "outputs": [],
   "source": [
    "# Blix 7 inventory system\n",
    "# stock_quantity, product_price, product_name, available product,product_description\n"
   ]
  },
  {
   "cell_type": "code",
   "execution_count": 120,
   "id": "d7c34f06-592a-4854-9bcf-a3e246310b45",
   "metadata": {},
   "outputs": [
    {
     "name": "stdout",
     "output_type": "stream",
     "text": [
      "Product: Laptop, \n",
      "Description: 15-inch, 8GB RAM, 256SSD, Core i7,\n",
      "Number of stock available:50\n"
     ]
    }
   ],
   "source": [
    "# Integers and floats\n",
    "#\\n- next line character\n",
    "\n",
    "stock_quantity = 100\n",
    "product_price = 49.59\n",
    "\n",
    "product_name= \"Laptop\"\n",
    "available_stock= 50\n",
    "\n",
    "product_description= \"15-inch, 8GB RAM, 256SSD, Core i7\"\n",
    "\n",
    "print(f\"Product: {product_name}, \\nDescription: {product_description},\\nNumber of stock available:{available_stock}\")\n"
   ]
  },
  {
   "cell_type": "code",
   "execution_count": null,
   "id": "ddc8b8e7-4c62-4af5-ab99-f5300ff3e06b",
   "metadata": {},
   "outputs": [],
   "source": []
  },
  {
   "cell_type": "code",
   "execution_count": 130,
   "id": "78966471-601d-4a54-a4a4-7740cc3d3f54",
   "metadata": {},
   "outputs": [
    {
     "name": "stdout",
     "output_type": "stream",
     "text": [
      "The laptop has 50 items at price: 49.59 dollars, \n",
      "Stock Quantity: 100,\n",
      "Number of stock available: 50.\n"
     ]
    }
   ],
   "source": [
    "print(f\"The laptop has 50 items at price: {product_price} dollars, \\nStock Quantity: {stock_quantity},\\nNumber of stock available: {available_stock}.\")"
   ]
  },
  {
   "cell_type": "code",
   "execution_count": null,
   "id": "d479a08a-fc77-4793-9267-d3f614d3ad77",
   "metadata": {},
   "outputs": [],
   "source": []
  },
  {
   "cell_type": "code",
   "execution_count": 168,
   "id": "fda3d728-753d-4aad-b143-782119e0d976",
   "metadata": {},
   "outputs": [
    {
     "name": "stdout",
     "output_type": "stream",
     "text": [
      "The Laptop has 50 items left at $49.59, available stock is: 50.\n"
     ]
    }
   ],
   "source": [
    "print(f\"The {product_name} has {available_stock} items left at ${product_price}, available stock is: {available_stock}.\")"
   ]
  },
  {
   "cell_type": "code",
   "execution_count": null,
   "id": "3a04ed81-2712-4644-9191-e12d1798a2e8",
   "metadata": {},
   "outputs": [],
   "source": []
  },
  {
   "cell_type": "code",
   "execution_count": null,
   "id": "b366db00-974f-4d77-acac-95f254a120f4",
   "metadata": {},
   "outputs": [],
   "source": [
    "# Lists- collection items enclosed in square baracket\n",
    "\n",
    "product_name= [\"Laptop\",\"TV\",\"Mouse\",\"Keboard\"]\n",
    "product_prices= [49.59,35.67, 25.5, 30.55]\n",
    "product_category= [\"Electronic\", \"Electronic\",\"Acessories\", \"Acessories\"]\n"
   ]
  },
  {
   "cell_type": "code",
   "execution_count": 140,
   "id": "e4795e16-316d-4bb5-b555-a65dd8f86e9e",
   "metadata": {},
   "outputs": [
    {
     "name": "stdout",
     "output_type": "stream",
     "text": [
      "{'product_name': 'Mouse', 'price': 25.5, 'category': 'Acessories', 'Available Stock': 125}\n"
     ]
    }
   ],
   "source": [
    "# Dictinaries (Key:value) using to curly brackets\n",
    "\n",
    "Laptop = {\"product_name\": \"Laptop\", \"price\": 50, \"category\": \"Electronic\",\"Available Stock\": 50}\n",
    "TV = {\"product_name\": \"TV\", \"price\": 35.67, \"category\": \"Electronic\",\"Available Stock\": 42}\n",
    "Mouse = {\"product_name\": \"Mouse\", \"price\": 25.50, \"category\": \"Acessories\",\"Available Stock\": 125}\n",
    "Keyboard = {\"product_name\": \"Keyboard\", \"price\": 30.55, \"category\": \"Acessories\",\"Available Stock\": 39}\n",
    "\n",
    "\n",
    "print (Mouse)"
   ]
  },
  {
   "cell_type": "code",
   "execution_count": 142,
   "id": "43bdd680-8a33-4bb0-8804-e003f8215997",
   "metadata": {},
   "outputs": [
    {
     "name": "stdout",
     "output_type": "stream",
     "text": [
      "{'product_name': 'TV', 'price': 35.67, 'category': 'Electronic', 'Available Stock': 42}\n"
     ]
    }
   ],
   "source": [
    "print(TV)"
   ]
  },
  {
   "cell_type": "code",
   "execution_count": null,
   "id": "863f0a6b-90ce-471d-9b76-57e637561660",
   "metadata": {},
   "outputs": [],
   "source": []
  },
  {
   "cell_type": "code",
   "execution_count": 148,
   "id": "2258844a-db89-4a8e-94ac-9301b49f3ae7",
   "metadata": {},
   "outputs": [],
   "source": [
    "#Sets- similar to dictionaries, does not make use of key: value pair, also use curly brackets\n",
    "\n",
    "Product_Category= {\"Electronic\", \"Accessories\", \"Home appliance\"}"
   ]
  },
  {
   "cell_type": "code",
   "execution_count": 150,
   "id": "61b2c740-ce65-43e2-b04d-181bb416d58a",
   "metadata": {},
   "outputs": [
    {
     "data": {
      "text/plain": [
       "{'Accessories', 'Electronic', 'Home appliance'}"
      ]
     },
     "execution_count": 150,
     "metadata": {},
     "output_type": "execute_result"
    }
   ],
   "source": [
    "Product_Category"
   ]
  },
  {
   "cell_type": "code",
   "execution_count": null,
   "id": "1a9fedd3-71a8-4c7d-a008-66c340192b10",
   "metadata": {},
   "outputs": [],
   "source": []
  },
  {
   "cell_type": "code",
   "execution_count": 162,
   "id": "451e8e44-c350-4c66-9e41-3fc154726f5b",
   "metadata": {},
   "outputs": [],
   "source": [
    "#Final Bilx 7 inventory\n",
    "# Applying nesting (a dictioanry inside another dictionary) #bring all key and values into another one\n",
    "# name of everything comes out at once directly\n",
    "\n",
    "\n",
    "inventory = {\n",
    "    \"Laptop\": {\"stock\": 50, \"price\": 49.59, \"category\": \"electronics\"},\n",
    "    \"Mouse\": {\"stock\": 150, \"price\": 25.50, \"category\": \"accessories\"},\n",
    "    \"Keyboard\": {\"stock\": 80, \"price\": 45.00, \"category\": \"accessories\"}\n",
    "}\n"
   ]
  },
  {
   "cell_type": "code",
   "execution_count": 164,
   "id": "d85065b9-32c7-48bb-b82f-c9fe5115a6b2",
   "metadata": {},
   "outputs": [
    {
     "data": {
      "text/plain": [
       "{'Laptop': {'stock': 50, 'price': 49.59, 'category': 'electronics'},\n",
       " 'Mouse': {'stock': 150, 'price': 25.5, 'category': 'accessories'},\n",
       " 'Keyboard': {'stock': 80, 'price': 45.0, 'category': 'accessories'}}"
      ]
     },
     "execution_count": 164,
     "metadata": {},
     "output_type": "execute_result"
    }
   ],
   "source": [
    "inventory"
   ]
  },
  {
   "cell_type": "code",
   "execution_count": null,
   "id": "e8f868f2-fff0-4b53-bea9-851eb30311aa",
   "metadata": {},
   "outputs": [],
   "source": []
  },
  {
   "cell_type": "code",
   "execution_count": 1,
   "id": "7e448002-deb9-4d01-8535-b9c2016e3ea6",
   "metadata": {},
   "outputs": [
    {
     "name": "stdout",
     "output_type": "stream",
     "text": [
      "Stock is low, kindly restock\n"
     ]
    }
   ],
   "source": [
    "# The IF Statement\n",
    "# if product stock is low\n",
    "\n",
    "\n",
    "product_stock = 100\n",
    "current_product_stock = 35\n",
    "\n",
    "if current_product_stock < product_stock:\n",
    "    print (\"Stock is low, kindly restock\")"
   ]
  },
  {
   "cell_type": "code",
   "execution_count": null,
   "id": "cf8db058-2d2e-42cd-a177-0374bc94f5b7",
   "metadata": {},
   "outputs": [],
   "source": []
  },
  {
   "cell_type": "code",
   "execution_count": 9,
   "id": "7dee5d63-4d30-49c9-9675-f7f384d9f8af",
   "metadata": {},
   "outputs": [
    {
     "name": "stdout",
     "output_type": "stream",
     "text": [
      "Customer is eligible for discount\n"
     ]
    }
   ],
   "source": [
    "# Write a python program to determine if a customer qualifies for discount.\n",
    "# Customer qualifies for discount if total purchase is above 5000\n",
    "\n",
    "\n",
    "\n",
    "total_purchase = 7000\n",
    "\n",
    "if total_purchase > 5000:\n",
    "    print (\"Customer is eligible for discount\")\n"
   ]
  },
  {
   "cell_type": "code",
   "execution_count": 11,
   "id": "db458503-5c91-4b01-ab5a-1db53e710ce2",
   "metadata": {},
   "outputs": [
    {
     "name": "stdout",
     "output_type": "stream",
     "text": [
      "Customer is eligible for discount\n"
     ]
    }
   ],
   "source": [
    "customer_purchase = 7000\n",
    "discount_rate = 5000\n",
    "\n",
    "if customer_purchase > discount_rate:\n",
    "    print (\"Customer is eligible for discount\") "
   ]
  },
  {
   "cell_type": "code",
   "execution_count": null,
   "id": "5e89e347-c2db-4fbd-ac14-78e15eb3097e",
   "metadata": {},
   "outputs": [],
   "source": []
  },
  {
   "cell_type": "code",
   "execution_count": 19,
   "id": "046d855a-5796-4d57-b346-6d93055a8354",
   "metadata": {},
   "outputs": [
    {
     "name": "stdout",
     "output_type": "stream",
     "text": [
      "Sorry customer is not eligible for discount\n"
     ]
    }
   ],
   "source": [
    "# if- else\n",
    "customer_purchase = 3000\n",
    "discount_rate = 5000\n",
    "\n",
    "if customer_purchase > discount_rate:\n",
    "    print (\"Customer is eligible for discount\")\n",
    "    \n",
    "else: \n",
    "    print(\"Sorry customer is not eligible for discount\")"
   ]
  },
  {
   "cell_type": "code",
   "execution_count": null,
   "id": "c5b26d4b-c293-40d0-b661-efbaca5c07f1",
   "metadata": {},
   "outputs": [],
   "source": []
  },
  {
   "cell_type": "code",
   "execution_count": 21,
   "id": "f46c831e-55d7-4b15-a9df-61590fb5d6ec",
   "metadata": {},
   "outputs": [
    {
     "name": "stdin",
     "output_type": "stream",
     "text": [
      "Please enter your preferred price:  600\n"
     ]
    },
    {
     "name": "stdout",
     "output_type": "stream",
     "text": [
      "No credit today, come back tomorrow\n"
     ]
    }
   ],
   "source": [
    "item_price = 2000\n",
    "customer_price = int(input(\"Please enter your preferred price: \"))\n",
    "if customer_price >= item_price:\n",
    "    print (\"Let's do business\")\n",
    "else:\n",
    "    print(\"No credit today, come back tomorrow\")"
   ]
  },
  {
   "cell_type": "code",
   "execution_count": null,
   "id": "7a79a9c0-ba52-4a9c-a851-00ab50591566",
   "metadata": {},
   "outputs": [],
   "source": []
  },
  {
   "cell_type": "code",
   "execution_count": 23,
   "id": "f4aafe33-a600-40e2-9c20-23abe97290c0",
   "metadata": {},
   "outputs": [
    {
     "name": "stdin",
     "output_type": "stream",
     "text": [
      "Enter total sales for the day:  9800\n"
     ]
    },
    {
     "name": "stdout",
     "output_type": "stream",
     "text": [
      "Well done, but you can do better tomorrow!\n"
     ]
    }
   ],
   "source": [
    "# Write an if statement to check if total sales for the day exceeds $10,000 and print a congratulatory message to tyour sales rep\n",
    "# Else print a message to tell your sales rep, well done you can do better\n",
    "\n",
    "# Input total sales for the day\n",
    "total_sales = float(input(\"Enter total sales for the day: \"))\n",
    "\n",
    "# Check if total sales exceed $10,000\n",
    "if total_sales > 10000:\n",
    "    print(\"Congratulations! You've exceeded your sales target for the day!\")\n",
    "else:\n",
    "    print(\"Well done, but you can do better tomorrow!\")\n"
   ]
  },
  {
   "cell_type": "code",
   "execution_count": null,
   "id": "2ca7c8d3-ad11-4896-9c76-687f91e9dcda",
   "metadata": {},
   "outputs": [],
   "source": []
  },
  {
   "cell_type": "code",
   "execution_count": 29,
   "id": "971ebc00-7fcb-4567-be94-78270ecd1755",
   "metadata": {},
   "outputs": [
    {
     "name": "stdin",
     "output_type": "stream",
     "text": [
      "Please fill in the value of sales made today:  300\n"
     ]
    },
    {
     "name": "stdout",
     "output_type": "stream",
     "text": [
      "Welldone, you made $300.0 today, you can do better\n"
     ]
    }
   ],
   "source": [
    "# Write an if statement to check if total sales for the day exceeds $10,000 and print a congratulatory message to tyour sales rep\n",
    "# Else print a message to tell your sales rep, well done you can do better\n",
    "\n",
    "\n",
    "sales_bench_mark = 10000\n",
    "day_sales = float(input(\"Please fill in the value of sales made today: \"))\n",
    "\n",
    "if day_sales >= sales_bench_mark:\n",
    "    print(f\"Congratulations, you made $ {day_sales} today, you have been promoted!!!\")\n",
    "else:\n",
    "    print (f\"Welldone, you made ${day_sales} today, you can do better\")"
   ]
  },
  {
   "cell_type": "code",
   "execution_count": null,
   "id": "1617829f-6bf9-4805-bdfa-4fb106234b56",
   "metadata": {},
   "outputs": [],
   "source": []
  },
  {
   "cell_type": "code",
   "execution_count": 34,
   "id": "c2d8723f-cc0b-4a44-b936-edfe0af0f465",
   "metadata": {},
   "outputs": [
    {
     "name": "stdin",
     "output_type": "stream",
     "text": [
      "Enter the customer's age:  16\n"
     ]
    },
    {
     "name": "stdout",
     "output_type": "stream",
     "text": [
      "Customer is not allowed to purchase restricted products.\n"
     ]
    }
   ],
   "source": [
    "# Write a python code to check if a customer's age is over 18 to allow them purchase a restricted products.\n",
    "\n",
    "# Input customer's age\n",
    "age = int(input(\"Enter the customer's age: \"))\n",
    "\n",
    "# Check if the age is over 18\n",
    "if age >= 18:\n",
    "    print(\"Customer is allowed to purchase restricted products.\")\n",
    "else:\n",
    "    print(\"Customer is not allowed to purchase restricted products.\")\n"
   ]
  },
  {
   "cell_type": "code",
   "execution_count": null,
   "id": "1a06c342-83be-4e92-91b3-39df51913cbd",
   "metadata": {},
   "outputs": [],
   "source": []
  },
  {
   "cell_type": "code",
   "execution_count": 38,
   "id": "69980f08-0ee2-4b66-9454-173d722e81f7",
   "metadata": {},
   "outputs": [
    {
     "name": "stdin",
     "output_type": "stream",
     "text": [
      " Please enter your age:  14\n"
     ]
    },
    {
     "name": "stdout",
     "output_type": "stream",
     "text": [
      "You are 14 years old. You should come back when you are 18 years old\n"
     ]
    }
   ],
   "source": [
    "age_restriction = 18\n",
    "customer_age = int(input(\" Please enter your age: \"))\n",
    "if customer_age >= age_restriction:\n",
    "    print (f\"You are {customer_age} years old. You are eligible for the requaested product\")\n",
    "else:\n",
    "    print(f\"You are {customer_age} years old. You should come back when you are {age_restriction} years old\")"
   ]
  },
  {
   "cell_type": "code",
   "execution_count": null,
   "id": "3429fd1f-8b94-41c8-b5ac-cf2b6571cf5f",
   "metadata": {},
   "outputs": [],
   "source": []
  },
  {
   "cell_type": "code",
   "execution_count": 44,
   "id": "339710fc-7242-440f-bd1f-a36a63855c9d",
   "metadata": {},
   "outputs": [
    {
     "name": "stdin",
     "output_type": "stream",
     "text": [
      "Please enter your test score:  39\n"
     ]
    },
    {
     "name": "stdout",
     "output_type": "stream",
     "text": [
      "You scored 39.0, try again next year!\n"
     ]
    }
   ],
   "source": [
    "# if-elif-else\n",
    "# A: 90-10\n",
    "# B: 75-89\n",
    "# C: 50-74\n",
    "# F: 0-39\n",
    "\n",
    "total_score = 100\n",
    "test_score = float(input(\"Please enter your test score: \"))\n",
    "\n",
    "if test_score >=90:\n",
    "    print (f\"You scored {test_score}, you have an A!\")\n",
    "elif test_score >= 75 and test_score <= 89:\n",
    "    print(f\"You scored {test_score}, you have a B!\")\n",
    "elif test_score >= 50 and test_score <= 74:\n",
    "    print(f\"You scored {test_score}, you have a C!\")    \n",
    "elif test_score >= 40 and test_score <= 49:\n",
    "    print(f\"You scored {test_score}, you have a D!\") \n",
    "else:\n",
    "    print(f\"You scored {test_score}, try again next year!\")\n",
    "                   \n",
    "\n"
   ]
  },
  {
   "cell_type": "code",
   "execution_count": null,
   "id": "a524e3e2-84c8-4d6f-a3e0-d8685fa8ebd8",
   "metadata": {},
   "outputs": [],
   "source": []
  },
  {
   "cell_type": "code",
   "execution_count": 46,
   "id": "f560fa7a-d5be-4ed1-a8a9-74563e7a3c8d",
   "metadata": {},
   "outputs": [
    {
     "name": "stdin",
     "output_type": "stream",
     "text": [
      "Enter the total spend of the customer:  500000\n"
     ]
    },
    {
     "name": "stdout",
     "output_type": "stream",
     "text": [
      "You spent 500000.0, you are a Gold Customer!\n"
     ]
    }
   ],
   "source": [
    "# Write a python code to determine the status of a customer at 7th floor retail store based on total spend\n",
    "# Gold customer, Silver customer, Bronze customer\n",
    "# Gold: 400,000 -500,000\n",
    "# Silver 300,000-399,999\n",
    "# Bronze: 200,000- 299,999\n",
    "# Regular: 0- 199,999\n",
    "\n",
    "\n",
    "# Determine customer status based on total spend\n",
    "\n",
    "total_spend = float(input(\"Enter the total spend of the customer: \"))\n",
    "if total_spend >= 400000 and total_spend <= 500000:\n",
    "    print(f\"You spent {total_spend}, you are a Gold Customer!\")\n",
    "elif total_spend >= 300000 and total_spend <= 399999:\n",
    "    print(f\"You spent {total_spend}, you are a Silver Customer!\")\n",
    "elif total_spend >= 200000 and total_spend <= 299999:\n",
    "    print(f\"You spent {total_spend}, you are a Bronze Customer!\")\n",
    "else:\n",
    "    print(f\"You spent {total_spend}, you are a Regular Customer.\")\n",
    "\n"
   ]
  },
  {
   "cell_type": "code",
   "execution_count": 60,
   "id": "846902a5-ed81-4c2f-b524-9c9da1d15bb7",
   "metadata": {},
   "outputs": [
    {
     "name": "stdin",
     "output_type": "stream",
     "text": [
      "Please enter customer's total spend:  200\n"
     ]
    },
    {
     "name": "stdout",
     "output_type": "stream",
     "text": [
      "You spent $ 200.0, carry your slippers and relax with your fellow Regulars!.\n"
     ]
    }
   ],
   "source": [
    "total_spend = float(input(\"Please enter customer's total spend: \"))\n",
    "\n",
    "if total_spend >= 400000 and total_spend <= 500000:\n",
    "    print(f\"You spent $ {total_spend}, you are a Gold Customer!\")\n",
    "elif total_spend >= 300000 and total_spend <= 399999:\n",
    "    print(f\"You spent $ {total_spend}, you are a Silver Customer!\")\n",
    "elif total_spend >= 200000 and total_spend <= 299999:\n",
    "    print(f\"You spent $ {total_spend}, you are a Bronze Customer!\")\n",
    "else:\n",
    "    print(f\"You spent $ {total_spend}, carry your slippers and relax with your fellow Regulars!.\")"
   ]
  },
  {
   "cell_type": "code",
   "execution_count": null,
   "id": "8bd32910-005a-402e-99ef-44ae50819180",
   "metadata": {},
   "outputs": [],
   "source": []
  },
  {
   "cell_type": "code",
   "execution_count": 56,
   "id": "fe820f50-a849-403b-8d20-dfc0c2c3b926",
   "metadata": {},
   "outputs": [
    {
     "name": "stdin",
     "output_type": "stream",
     "text": [
      "Enter the destination (local, domestic, international):  international\n"
     ]
    },
    {
     "name": "stdout",
     "output_type": "stream",
     "text": [
      "Shipping method: International Express\n"
     ]
    }
   ],
   "source": [
    "#Write a python code to determine shipping method based on destination.\n",
    "# Destination is local- standard\n",
    "# Destination is Domestic- Express\n",
    "# Destination is international- International Express\n",
    "# Else-pick up\n",
    "# Input destination from the user\n",
    "\n",
    "\n",
    "destination = str(input(\"Enter the destination (local, domestic, international): \")).strip().lower() #The strip() method removes any \n",
    "#leading and trailing whitespace characters from a string. This includes spaces, tabs, and newline characters.\n",
    "\n",
    "\n",
    "if destination == \"local\":\n",
    "    print(\"Shipping method: Standard\")\n",
    "elif destination == \"domestic\":\n",
    "    print(\"Shipping method: Express\")\n",
    "elif destination == \"international\":\n",
    "    print(\"Shipping method: International Express\")\n",
    "else:\n",
    "    print(\"Shipping method: Pick Up\")\n",
    "\n",
    "\n"
   ]
  },
  {
   "cell_type": "code",
   "execution_count": 64,
   "id": "ddbe42d8-d6a9-4207-b949-00b02f5ecbba",
   "metadata": {},
   "outputs": [
    {
     "name": "stdin",
     "output_type": "stream",
     "text": [
      " Please enter your destination:  dont know\n"
     ]
    },
    {
     "name": "stdout",
     "output_type": "stream",
     "text": [
      "Shipping method: Pick Up\n"
     ]
    }
   ],
   "source": [
    "destination = str(input(\" Please enter your destination: \"))\n",
    "\n",
    "\n",
    "if destination == \"Local\":\n",
    "    print(\"Shipping method: Standard\")\n",
    "elif destination == \"Domestic\":\n",
    "    print(\"Shipping method: Express\")\n",
    "elif destination == \"International\":\n",
    "    print(\"Shipping method: International Express\")\n",
    "else:\n",
    "    print(\"Shipping method: Pick Up\")"
   ]
  },
  {
   "cell_type": "code",
   "execution_count": null,
   "id": "de322389-cb3b-4e07-a4ed-118b7a0280ad",
   "metadata": {},
   "outputs": [],
   "source": []
  },
  {
   "cell_type": "code",
   "execution_count": 66,
   "id": "a3e10d62-30c1-40a6-be57-53384233e892",
   "metadata": {},
   "outputs": [
    {
     "name": "stdout",
     "output_type": "stream",
     "text": [
      "Laptop\n",
      "Mouse\n",
      "Keyboard\n",
      "Monitor\n"
     ]
    }
   ],
   "source": [
    "# For Loop\n",
    "# A loop simply means repitition of a pattern \n",
    "# A for loop is used for iterating over a sequence\n",
    "# iterating means counting over, repeating a pattern or mathematical procedre over a sequence\n",
    "# you need an iterator in a loop\n",
    "# What is sequence..... lists, dictionaries, sets, tuples, etc\n",
    "\n",
    "# Example: python program to list all products in the inventory.\n",
    "\n",
    "products = [\"Laptop\", \"Mouse\", \"Keyboard\", \"Monitor\"]\n",
    "\n",
    "for product in products: # product is the iterable i.e object, you want to iteratte product in products\n",
    "    print(product) # you can use any name as iterator"
   ]
  },
  {
   "cell_type": "code",
   "execution_count": 68,
   "id": "c37ed922-6b0a-45c3-bf98-b2a91bdf6f36",
   "metadata": {},
   "outputs": [
    {
     "name": "stdout",
     "output_type": "stream",
     "text": [
      "Laptop\n",
      "Mouse\n",
      "Keyboard\n",
      "Monitor\n"
     ]
    }
   ],
   "source": [
    "products = [\"Laptop\", \"Mouse\", \"Keyboard\", \"Monitor\"]\n",
    "\n",
    "for i in products: \n",
    "    print (i)"
   ]
  },
  {
   "cell_type": "code",
   "execution_count": null,
   "id": "d5eabb33-7c05-480d-8e47-fbd7f9b9ccaa",
   "metadata": {},
   "outputs": [],
   "source": []
  },
  {
   "cell_type": "code",
   "execution_count": 74,
   "id": "fa2faafc-0495-4b93-bb0b-70a80310f463",
   "metadata": {},
   "outputs": [
    {
     "name": "stdout",
     "output_type": "stream",
     "text": [
      "Stock value  for Laptop: $60049.5\n",
      "Stock value  for Mouse: $104998.5\n",
      "Stock value  for Keyboard: $15999.2\n",
      "Stock value  for Headphones: $5687.5\n"
     ]
    }
   ],
   "source": [
    "# Calculate and display the stock value in each product, putting dictionary\n",
    "# inside another dictionary, in the inventory dictionary which is the key\n",
    "# has the another value and key, \n",
    "\n",
    "inventory = {\n",
    "    \"Laptop\": {\"stock\": 50, \"price\": 1200.99},\n",
    "    \"Mouse\": {\"stock\": 150, \"price\": 699.99},\n",
    "    \"Keyboard\": {\"stock\": 80, \"price\": 199.99},\n",
    "     \"Headphones\": {\"stock\": 125, \"price\": 45.50}                                \n",
    "}\n",
    "for product, details in inventory. items(): # define your iterator # step one introduce the iterators (products and details) sdetails is an iterator for stock,price\n",
    "    stock_value = details[\"stock\"] * details [\"price\"]\n",
    "    print(f\"Stock value  for {product}: ${stock_value}\")"
   ]
  },
  {
   "cell_type": "code",
   "execution_count": null,
   "id": "f6b62fd9-a347-4727-a08c-605d873cedef",
   "metadata": {},
   "outputs": [],
   "source": []
  },
  {
   "cell_type": "code",
   "execution_count": 76,
   "id": "79276d62-3941-4efe-9dc6-632ffac6cda3",
   "metadata": {},
   "outputs": [
    {
     "name": "stdout",
     "output_type": "stream",
     "text": [
      "Send an email to abcd@datascience.com\n",
      "Send an email to 1234@datascience.com\n",
      "Send an email to python@datascience.com\n"
     ]
    }
   ],
   "source": [
    "# Python program to send a promotional emails to a list of customers\n",
    "\n",
    "customers = [\"abcd@datascience.com\",\"1234@datascience.com\", \"python@datascience.com\"]\n",
    "\n",
    "for customer in customers:\n",
    "    print(f\"Send an email to {customer}\")\n"
   ]
  },
  {
   "cell_type": "code",
   "execution_count": null,
   "id": "992e5b29-5bb1-41ad-9738-b3429adaa46a",
   "metadata": {},
   "outputs": [],
   "source": []
  },
  {
   "cell_type": "code",
   "execution_count": 82,
   "id": "580522f8-9d85-4bba-bee9-55650428a6e7",
   "metadata": {},
   "outputs": [
    {
     "name": "stdout",
     "output_type": "stream",
     "text": [
      "Restock 1 new item: current stock is 6 items in shelf\n",
      "Restock 1 new item: current stock is 7 items in shelf\n",
      "Restock 1 new item: current stock is 8 items in shelf\n",
      "Restock 1 new item: current stock is 9 items in shelf\n",
      "Restock 1 new item: current stock is 10 items in shelf\n",
      "Restock 1 new item: current stock is 11 items in shelf\n",
      "Restock 1 new item: current stock is 12 items in shelf\n",
      "Restock 1 new item: current stock is 13 items in shelf\n",
      "Restock 1 new item: current stock is 14 items in shelf\n",
      "Restock 1 new item: current stock is 15 items in shelf\n",
      "Restock 1 new item: current stock is 16 items in shelf\n",
      "Restock 1 new item: current stock is 17 items in shelf\n",
      "Restock 1 new item: current stock is 18 items in shelf\n",
      "Restock 1 new item: current stock is 19 items in shelf\n",
      "Restock 1 new item: current stock is 20 items in shelf\n"
     ]
    }
   ],
   "source": [
    "# While loop repeats a certain condition until that condition is met or repeats a certain block of code\n",
    "# Example: Program to restock a product until it reaches maximum stock level\n",
    "\n",
    "max_stock = 20\n",
    "current_stock = 5\n",
    "\n",
    "while current_stock < max_stock: \n",
    "    current_stock = current_stock+1\n",
    "    print(f\"Restock 1 new item: current stock is {current_stock} items in shelf\")"
   ]
  },
  {
   "cell_type": "code",
   "execution_count": null,
   "id": "ae5d8e4e-54a9-473a-9128-c413989a839e",
   "metadata": {},
   "outputs": [],
   "source": []
  },
  {
   "cell_type": "code",
   "execution_count": 86,
   "id": "9402ddf3-38da-4f70-9fe4-9b94ecf1b378",
   "metadata": {},
   "outputs": [
    {
     "name": "stdin",
     "output_type": "stream",
     "text": [
      "Please enter a valid password secure@123\n"
     ]
    },
    {
     "name": "stdout",
     "output_type": "stream",
     "text": [
      "Welcome to the 7th floor!!!\n"
     ]
    }
   ],
   "source": [
    "# Python code for a customer to input a correct password\n",
    "\n",
    "correct_password = \"secure@123\"\n",
    "\n",
    "#maximum trials\n",
    "max_trial = 4\n",
    "\n",
    "#password attempts\n",
    "attempts = 0\n",
    "\n",
    "# Create loop attempts \n",
    "while attempts < max_trial:\n",
    "    user_password = str(input(\"Please enter a valid password\"))\n",
    "    \n",
    "    if user_password == correct_password:\n",
    "        print(\"Welcome to the 7th floor!!!\")\n",
    "        break\n",
    "    else:\n",
    "        #attempts = attempts + 1\n",
    "        attempts += 1\n",
    "        print(\"Incorrect password, please try again.\")\n",
    "    if attempts == max_trial:\n",
    "        print (\"You have been barred, reach out to customer service to reopen your account\")"
   ]
  },
  {
   "cell_type": "code",
   "execution_count": null,
   "id": "74bfee70-05ac-4511-ab1c-69de268cca90",
   "metadata": {},
   "outputs": [],
   "source": []
  },
  {
   "cell_type": "code",
   "execution_count": 27,
   "id": "ca8f790b-8213-4a74-a068-96966195a4cb",
   "metadata": {},
   "outputs": [
    {
     "name": "stdin",
     "output_type": "stream",
     "text": [
      "Please enter your valid password:  datascience123\n"
     ]
    },
    {
     "name": "stdout",
     "output_type": "stream",
     "text": [
      "Welcome to the 7th floor!\n"
     ]
    }
   ],
   "source": [
    "# correct password\n",
    "correct_password = \"datascience123\"\n",
    "\n",
    "# number of attempts\n",
    "max_attempts = 3\n",
    "\n",
    "# attempt counter\n",
    "attempts = 0\n",
    "\n",
    "# Loop to check the validity of the password with respect to the number of attempts by the user\n",
    "while attempts < max_attempts:\n",
    "    user_password = input(\"Please enter your valid password: \")\n",
    "    \n",
    "    if user_password == correct_password:\n",
    "        print(\"Welcome to the 7th floor!\")\n",
    "        break\n",
    "    else:\n",
    "        attempts += 1\n",
    "        print(f\"Wrong password, please try again! You have {max_attempts - attempts} attempt(s) left.\")\n",
    "    \n",
    "    # If number of attempts has been reached\n",
    "    if attempts == max_attempts:\n",
    "        print(\"Please try again after 60 secs!\")\n"
   ]
  },
  {
   "cell_type": "code",
   "execution_count": null,
   "id": "7c16bada-6f88-4498-a3df-a8b1efdf57e0",
   "metadata": {},
   "outputs": [],
   "source": []
  },
  {
   "cell_type": "code",
   "execution_count": null,
   "id": "060e3cde-2f46-43fb-a469-337c238042bf",
   "metadata": {},
   "outputs": [],
   "source": []
  },
  {
   "cell_type": "code",
   "execution_count": 9,
   "id": "2c873760-00d9-4ba0-a9e8-ee2bc64c058a",
   "metadata": {},
   "outputs": [],
   "source": [
    "# Python functions\n",
    "# they are user defined, hence they must be explicitly defined in the program using the \"def keyword\"\n",
    "\n",
    "# Functions are reuseable block codes that perform a specific task, which can be called at any point in the program\n",
    "# Python function to collect and print a user's name\n",
    "\n",
    "\n",
    "\n",
    "def greeting():\n",
    "    name = input(\"Please enter your name: \")\n",
    "    print(f\"Welcome {name}\") ## This will print Welcome Damie"
   ]
  },
  {
   "cell_type": "code",
   "execution_count": 11,
   "id": "442db0bd-93bc-49c0-8a0c-b0f485ae79bb",
   "metadata": {},
   "outputs": [
    {
     "name": "stdin",
     "output_type": "stream",
     "text": [
      "Please enter your name:  Damie\n"
     ]
    },
    {
     "name": "stdout",
     "output_type": "stream",
     "text": [
      "Welcome Damie\n"
     ]
    }
   ],
   "source": [
    "greeting()"
   ]
  },
  {
   "cell_type": "code",
   "execution_count": null,
   "id": "3016ed89-fde5-4dae-9e6d-ebe0c98e1fcd",
   "metadata": {},
   "outputs": [],
   "source": []
  },
  {
   "cell_type": "code",
   "execution_count": null,
   "id": "20068a34-6acf-4d62-9e38-5e73bd1065a1",
   "metadata": {},
   "outputs": [],
   "source": []
  },
  {
   "cell_type": "code",
   "execution_count": 23,
   "id": "cdf813c0-cafa-4cdf-b59f-b5646b240411",
   "metadata": {},
   "outputs": [],
   "source": [
    "# Function to check if a number is even or odd\n",
    "\n",
    "def num_check():\n",
    "    number = int(input(\"Please enter any number of your choice: \"))\n",
    "    if number % 2 == 0:\n",
    "        print (f\"{number} is an even number\")\n",
    "    else: \n",
    "        print(f\"{number} is an odd number\")"
   ]
  },
  {
   "cell_type": "code",
   "execution_count": 29,
   "id": "1d87cbb7-e6ba-446c-95f2-f72f3aa997db",
   "metadata": {},
   "outputs": [
    {
     "name": "stdin",
     "output_type": "stream",
     "text": [
      "Please enter any number of your choice:  356\n"
     ]
    },
    {
     "name": "stdout",
     "output_type": "stream",
     "text": [
      "356 is an even number\n"
     ]
    }
   ],
   "source": [
    "num_check()"
   ]
  },
  {
   "cell_type": "code",
   "execution_count": null,
   "id": "d5ae3d8a-3adb-4ef8-ab2c-af04d9be2034",
   "metadata": {},
   "outputs": [],
   "source": []
  },
  {
   "cell_type": "code",
   "execution_count": 39,
   "id": "5e3679ce-ff19-4928-9377-17e2f7c3b5f9",
   "metadata": {},
   "outputs": [
    {
     "name": "stdout",
     "output_type": "stream",
     "text": [
      "discounted_price = $5529.0\n"
     ]
    }
   ],
   "source": [
    "# Python program to apply discount to a product price\n",
    "\n",
    "\n",
    "def apply_discount(price, discount_percentage):\n",
    "    discount_amount = price * (discount_percentage / 100)\n",
    "    discounted_price = price - discount_amount\n",
    "    return discounted_price\n",
    "# inputted values\n",
    "\n",
    "original_price = 5700\n",
    "discount = 3\n",
    "new_price = apply_discount(original_price, discount)\n",
    "print(f\"discounted_price = ${new_price}\")"
   ]
  },
  {
   "cell_type": "code",
   "execution_count": null,
   "id": "4fbc17dd-4928-4bef-b2c8-f75efce8f123",
   "metadata": {},
   "outputs": [],
   "source": []
  },
  {
   "cell_type": "code",
   "execution_count": 41,
   "id": "f4b10f58-6cb7-410c-9363-744dd51314d1",
   "metadata": {},
   "outputs": [
    {
     "name": "stdout",
     "output_type": "stream",
     "text": [
      "Product is available\n"
     ]
    }
   ],
   "source": [
    "# Function is check availability . i.e number of stock > 0- Available\n",
    "\n",
    "def in_stock(stock_value):\n",
    "    if stock_value > 0:\n",
    "        return True\n",
    "    else:\n",
    "        return False\n",
    "\n",
    "stock_value = 5 \n",
    "\n",
    "if in_stock(stock_value):\n",
    "    print (\"Product is available\")\n",
    "\n",
    "else:\n",
    "    print(\"Out of Stock\")\n",
    "\n"
   ]
  },
  {
   "cell_type": "code",
   "execution_count": null,
   "id": "3932aa89-d476-4498-b52c-a89b02b1f797",
   "metadata": {},
   "outputs": [],
   "source": []
  },
  {
   "cell_type": "code",
   "execution_count": null,
   "id": "02985b2a-eec5-4385-882e-7b81b2f33da8",
   "metadata": {},
   "outputs": [],
   "source": []
  },
  {
   "cell_type": "code",
   "execution_count": null,
   "id": "1b55956f-3954-4657-8d78-e4a0fc6934f1",
   "metadata": {},
   "outputs": [],
   "source": []
  },
  {
   "cell_type": "code",
   "execution_count": null,
   "id": "ac9c2e41-c117-4627-a20c-07b7308b2978",
   "metadata": {},
   "outputs": [],
   "source": []
  },
  {
   "cell_type": "code",
   "execution_count": null,
   "id": "81289167-e941-4346-a128-2526760335d7",
   "metadata": {},
   "outputs": [],
   "source": []
  },
  {
   "cell_type": "code",
   "execution_count": null,
   "id": "3ae01ac0-234b-4e86-85ce-a52c4a4a152b",
   "metadata": {},
   "outputs": [],
   "source": []
  },
  {
   "cell_type": "code",
   "execution_count": null,
   "id": "c5c82ba6-187d-4b76-bb04-18eb56ab6f88",
   "metadata": {},
   "outputs": [],
   "source": []
  },
  {
   "cell_type": "code",
   "execution_count": null,
   "id": "6caa5354-d798-43c3-9c32-4b6f670a6f17",
   "metadata": {},
   "outputs": [],
   "source": []
  },
  {
   "cell_type": "code",
   "execution_count": null,
   "id": "d0fe6ad6-b046-4e21-9b6a-62a233db5c03",
   "metadata": {},
   "outputs": [],
   "source": []
  },
  {
   "cell_type": "code",
   "execution_count": null,
   "id": "0d957cc6-ed6c-49c3-9686-33b90f9387be",
   "metadata": {},
   "outputs": [],
   "source": []
  },
  {
   "cell_type": "code",
   "execution_count": null,
   "id": "355ec320-2ddf-4ad5-a632-602eaa14c2b4",
   "metadata": {},
   "outputs": [],
   "source": []
  },
  {
   "cell_type": "code",
   "execution_count": null,
   "id": "c7940303-b3e6-45bd-9c77-5c8792595323",
   "metadata": {},
   "outputs": [],
   "source": []
  },
  {
   "cell_type": "code",
   "execution_count": null,
   "id": "af55610e-3a1a-4876-a253-8abd6fb089ae",
   "metadata": {},
   "outputs": [],
   "source": []
  },
  {
   "cell_type": "code",
   "execution_count": null,
   "id": "c7129e07-ce88-4f73-9504-5f0c3ea24f87",
   "metadata": {},
   "outputs": [],
   "source": []
  },
  {
   "cell_type": "code",
   "execution_count": null,
   "id": "2f3a49d2-08c7-47a0-8b77-e1e34591a8c4",
   "metadata": {},
   "outputs": [],
   "source": []
  }
 ],
 "metadata": {
  "kernelspec": {
   "display_name": "Python 3 (ipykernel)",
   "language": "python",
   "name": "python3"
  },
  "language_info": {
   "codemirror_mode": {
    "name": "ipython",
    "version": 3
   },
   "file_extension": ".py",
   "mimetype": "text/x-python",
   "name": "python",
   "nbconvert_exporter": "python",
   "pygments_lexer": "ipython3",
   "version": "3.12.4"
  }
 },
 "nbformat": 4,
 "nbformat_minor": 5
}
