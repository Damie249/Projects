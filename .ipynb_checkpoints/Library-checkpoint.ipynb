{
 "cells": [
  {
   "cell_type": "markdown",
   "id": "e5e5c505-05e8-4ded-9012-796d24fc0687",
   "metadata": {},
   "source": [
    "### Library\n",
    "\n",
    "A Library is a collection of pre-written code that you can use to make your programming easier and more efficient."
   ]
  },
  {
   "cell_type": "code",
   "execution_count": 1,
   "id": "71570999-8f30-4f5b-a00e-fb91466bc47a",
   "metadata": {},
   "outputs": [],
   "source": [
    "import math"
   ]
  },
  {
   "cell_type": "code",
   "execution_count": 3,
   "id": "95b2815f-b7f9-4e99-96f3-e6eae0b3f7d4",
   "metadata": {},
   "outputs": [
    {
     "data": {
      "text/plain": [
       "9.0"
      ]
     },
     "execution_count": 3,
     "metadata": {},
     "output_type": "execute_result"
    }
   ],
   "source": [
    "math.pow(3,2)"
   ]
  },
  {
   "cell_type": "code",
   "execution_count": 5,
   "id": "67dd0d38-9fff-40b3-b544-c8452b56224d",
   "metadata": {},
   "outputs": [
    {
     "data": {
      "text/plain": [
       "4.0"
      ]
     },
     "execution_count": 5,
     "metadata": {},
     "output_type": "execute_result"
    }
   ],
   "source": [
    "math.sqrt(16)"
   ]
  },
  {
   "cell_type": "code",
   "execution_count": 7,
   "id": "faaa0498-93b8-4f29-9e24-fdfc968ce786",
   "metadata": {},
   "outputs": [
    {
     "data": {
      "text/plain": [
       "4.0"
      ]
     },
     "execution_count": 7,
     "metadata": {},
     "output_type": "execute_result"
    }
   ],
   "source": [
    "math.sqrt(16)"
   ]
  },
  {
   "cell_type": "code",
   "execution_count": 9,
   "id": "83e54c0e-282f-4921-96cd-233b0fbbf8fb",
   "metadata": {},
   "outputs": [
    {
     "data": {
      "text/plain": [
       "1.0"
      ]
     },
     "execution_count": 9,
     "metadata": {},
     "output_type": "execute_result"
    }
   ],
   "source": [
    "math.cos(0)"
   ]
  },
  {
   "cell_type": "code",
   "execution_count": 13,
   "id": "fed84339-8d9b-4601-b6f9-8d512683aaab",
   "metadata": {},
   "outputs": [
    {
     "data": {
      "text/plain": [
       "0.0"
      ]
     },
     "execution_count": 13,
     "metadata": {},
     "output_type": "execute_result"
    }
   ],
   "source": [
    "math.sin(0)"
   ]
  },
  {
   "cell_type": "markdown",
   "id": "59b456c2-c14e-4732-ae32-ebb6d5a54e1b",
   "metadata": {},
   "source": []
  },
  {
   "cell_type": "markdown",
   "id": "421a7bf3-f448-47a9-bea3-81e8f0291d60",
   "metadata": {},
   "source": [
    "### NumPy (Numerical Python): The backbone of scientific computing in Python\n",
    "\n",
    "* NumPy stands as the cornerstone of scientific computing in Python, offering robust capabalities for numerical operations and scientific comparisons.\n",
    "* At its core is the ability to effortlessly manipulate multi-dimensional arrays and matrices, a fundamental requirement for a myriad of data science and machine learning endeavours.\n",
    "* One of NumPy's key strenghts lies in its  extensive collection of mathematical functions and algorithms, specifically crafted efficiently handle vast dataset.\n",
    "* Whether it's key strenghts lies in itsnextensive collection of mathematical functions and algorithms, specifically crafted to efficiently handle vast datasets.\n",
    "* Widely embraced within the data science community, NumPy serves as the bedrock for numerous Python data analysis tools.\n",
    "* Its poweress in managing large datasets propels it beyond mere data exploration-it isan invaluable asset in the intricate process model\n",
    "* The seamless integration with other python heavyweights such as Pandas,Matplotlib and SciPy positions NumPy as an indispensable companion in every data scientist's toolkit\n",
    "* Whether you are a novice or an advanced practioner, NumPy simplifies complex calculations, facilitating a swift and efficient data analysis workflow.\n",
    "* Its influence extends far beyond individual use, as foundational libraries like Pandas, Scipy and Matplotlib are intricately built upon the robust foundation that is NumPy\n",
    "\n",
    "For more detailed information and reference, explore the Numpy documentation. Welcome to the heart of scientific computing in Python-welcome to Numpy"
   ]
  },
  {
   "cell_type": "code",
   "execution_count": 18,
   "id": "c78ed997-07a5-4fd3-8488-8bf04f6e3846",
   "metadata": {},
   "outputs": [],
   "source": [
    "import numpy as np"
   ]
  },
  {
   "cell_type": "code",
   "execution_count": null,
   "id": "6ce8568f-0b77-40ec-b96b-802984edb7a1",
   "metadata": {},
   "outputs": [],
   "source": []
  },
  {
   "cell_type": "code",
   "execution_count": null,
   "id": "04729094-3d0d-4b65-9adf-b4b139e08c80",
   "metadata": {},
   "outputs": [],
   "source": [
    "# Create 1D numpy array from python list"
   ]
  },
  {
   "cell_type": "code",
   "execution_count": 20,
   "id": "f57c1047-771d-470e-bb09-196e9f778f64",
   "metadata": {},
   "outputs": [],
   "source": [
    "my_list = [1,2,3,4,5,6]"
   ]
  },
  {
   "cell_type": "code",
   "execution_count": 22,
   "id": "857b905d-c695-46e0-8258-01410205dbb8",
   "metadata": {},
   "outputs": [
    {
     "data": {
      "text/plain": [
       "list"
      ]
     },
     "execution_count": 22,
     "metadata": {},
     "output_type": "execute_result"
    }
   ],
   "source": [
    "type(my_list)"
   ]
  },
  {
   "cell_type": "code",
   "execution_count": 28,
   "id": "3c546a77-c0ce-48cc-a02c-85a5dbae3305",
   "metadata": {},
   "outputs": [],
   "source": [
    "my_array = np.array(my_list) # nd is multidimesional array, multimensional, 1d, aray, 2d array, 3d array .....etc"
   ]
  },
  {
   "cell_type": "code",
   "execution_count": 30,
   "id": "8eaf1414-8549-440b-bfc4-0fe9061e7765",
   "metadata": {},
   "outputs": [
    {
     "data": {
      "text/plain": [
       "numpy.ndarray"
      ]
     },
     "execution_count": 30,
     "metadata": {},
     "output_type": "execute_result"
    }
   ],
   "source": [
    "type(my_array)"
   ]
  },
  {
   "cell_type": "code",
   "execution_count": 32,
   "id": "370f059f-55d7-41c3-bd38-e2089e37c14d",
   "metadata": {},
   "outputs": [
    {
     "data": {
      "text/plain": [
       "array([1, 2, 3, 4, 5, 6])"
      ]
     },
     "execution_count": 32,
     "metadata": {},
     "output_type": "execute_result"
    }
   ],
   "source": [
    "my_array"
   ]
  },
  {
   "cell_type": "code",
   "execution_count": 68,
   "id": "5f878c46-ec14-41bd-bc9d-99a702088730",
   "metadata": {},
   "outputs": [
    {
     "data": {
      "text/plain": [
       "dtype('int32')"
      ]
     },
     "execution_count": 68,
     "metadata": {},
     "output_type": "execute_result"
    }
   ],
   "source": [
    "my_array.dtype"
   ]
  },
  {
   "cell_type": "code",
   "execution_count": null,
   "id": "6816c80b-baed-4078-b0fc-1576a1da9824",
   "metadata": {},
   "outputs": [],
   "source": []
  },
  {
   "cell_type": "code",
   "execution_count": 42,
   "id": "9f9100c0-9f43-46df-ad1b-cfb99bc8ec12",
   "metadata": {},
   "outputs": [],
   "source": [
    "prog_lang = [\"Python\", \"java\", \"C++\", \"Javascript\"]\n",
    "\n",
    "prog_lang_array = np.array(prog_lang)\n",
    "\n"
   ]
  },
  {
   "cell_type": "code",
   "execution_count": 70,
   "id": "99510c97-0ccf-47ce-8050-a1b1c3940296",
   "metadata": {},
   "outputs": [
    {
     "data": {
      "text/plain": [
       "dtype('<U10')"
      ]
     },
     "execution_count": 70,
     "metadata": {},
     "output_type": "execute_result"
    }
   ],
   "source": [
    "prog_lang_array.dtype"
   ]
  },
  {
   "cell_type": "code",
   "execution_count": null,
   "id": "47e2d3ad-94fb-4c27-83cc-5cc52dae3ea9",
   "metadata": {},
   "outputs": [],
   "source": []
  },
  {
   "cell_type": "code",
   "execution_count": null,
   "id": "8cf72b5f-30b8-44f2-bcef-79e4c42b359c",
   "metadata": {},
   "outputs": [],
   "source": []
  },
  {
   "cell_type": "code",
   "execution_count": 44,
   "id": "1018c959-ecc4-4263-999c-effb824915d6",
   "metadata": {},
   "outputs": [
    {
     "data": {
      "text/plain": [
       "array(['Python', 'java', 'C++', 'Javascript'], dtype='<U10')"
      ]
     },
     "execution_count": 44,
     "metadata": {},
     "output_type": "execute_result"
    }
   ],
   "source": [
    "prog_lang_array"
   ]
  },
  {
   "cell_type": "code",
   "execution_count": null,
   "id": "dfa43d2b-1b65-463d-94d7-ccff27286724",
   "metadata": {},
   "outputs": [],
   "source": []
  },
  {
   "cell_type": "code",
   "execution_count": null,
   "id": "58c992ae-ac5d-4bb4-a52b-c21893e7b0c5",
   "metadata": {},
   "outputs": [],
   "source": [
    "# Method 1"
   ]
  },
  {
   "cell_type": "code",
   "execution_count": null,
   "id": "e560154c-a639-410c-b2b9-d2a61c793ae4",
   "metadata": {},
   "outputs": [],
   "source": [
    "# Create numpy 20 array from a python list"
   ]
  },
  {
   "cell_type": "code",
   "execution_count": 48,
   "id": "881c3e12-63c4-4d49-8d38-7b649c8d57f7",
   "metadata": {},
   "outputs": [],
   "source": [
    "age = [21, 24, 18, 25]\n",
    "name = [\"Boluwatife\", \"Rufai\", \"Chidi\", \"Chioma\"]\n",
    "location = [\"Japan\",\"Nigeria\",\"India\", \"Canada\"]"
   ]
  },
  {
   "cell_type": "code",
   "execution_count": 50,
   "id": "fb3633dc-dab3-4558-9dea-17f07771be59",
   "metadata": {},
   "outputs": [],
   "source": [
    "customer_array = np.array([age,name,location])"
   ]
  },
  {
   "cell_type": "code",
   "execution_count": 52,
   "id": "d9f35948-3bdf-4ac6-a99a-2b623b52b829",
   "metadata": {},
   "outputs": [
    {
     "data": {
      "text/plain": [
       "array([['21', '24', '18', '25'],\n",
       "       ['Boluwatife', 'Rufai', 'Chidi', 'Chioma'],\n",
       "       ['Japan', 'Nigeria', 'India', 'Canada']], dtype='<U11')"
      ]
     },
     "execution_count": 52,
     "metadata": {},
     "output_type": "execute_result"
    }
   ],
   "source": [
    "customer_array      # 3 by 4 matrices"
   ]
  },
  {
   "cell_type": "code",
   "execution_count": 72,
   "id": "5cda5af3-28d5-42a1-aba9-7f916d80beff",
   "metadata": {},
   "outputs": [
    {
     "data": {
      "text/plain": [
       "dtype('<U11')"
      ]
     },
     "execution_count": 72,
     "metadata": {},
     "output_type": "execute_result"
    }
   ],
   "source": [
    "customer_array.dtype"
   ]
  },
  {
   "cell_type": "code",
   "execution_count": null,
   "id": "7203e029-658a-4c77-9eb0-a96b617f20e6",
   "metadata": {},
   "outputs": [],
   "source": []
  },
  {
   "cell_type": "code",
   "execution_count": null,
   "id": "c1354b53-82b7-465e-afe5-b1f109b2319c",
   "metadata": {},
   "outputs": [],
   "source": [
    "# Method 2"
   ]
  },
  {
   "cell_type": "code",
   "execution_count": 54,
   "id": "05bb98de-a222-4771-9acc-dfebc6872763",
   "metadata": {},
   "outputs": [],
   "source": [
    "zero_array = np.zeros((2,4))"
   ]
  },
  {
   "cell_type": "code",
   "execution_count": 56,
   "id": "432273d7-4667-4c5f-a661-9521c74b84aa",
   "metadata": {},
   "outputs": [
    {
     "data": {
      "text/plain": [
       "array([[0., 0., 0., 0.],\n",
       "       [0., 0., 0., 0.]])"
      ]
     },
     "execution_count": 56,
     "metadata": {},
     "output_type": "execute_result"
    }
   ],
   "source": [
    "zero_array"
   ]
  },
  {
   "cell_type": "code",
   "execution_count": null,
   "id": "bf1e65bb-5d3a-4169-83f2-2e98912d28ab",
   "metadata": {},
   "outputs": [],
   "source": []
  },
  {
   "cell_type": "code",
   "execution_count": 58,
   "id": "8888bc8f-2e3e-49df-a643-f073d2866479",
   "metadata": {},
   "outputs": [],
   "source": [
    "one_array = np.ones((3,3))"
   ]
  },
  {
   "cell_type": "code",
   "execution_count": 60,
   "id": "ea495a48-5faa-4355-9fdf-32cebf735570",
   "metadata": {},
   "outputs": [
    {
     "data": {
      "text/plain": [
       "array([[1., 1., 1.],\n",
       "       [1., 1., 1.],\n",
       "       [1., 1., 1.]])"
      ]
     },
     "execution_count": 60,
     "metadata": {},
     "output_type": "execute_result"
    }
   ],
   "source": [
    "one_array"
   ]
  },
  {
   "cell_type": "code",
   "execution_count": null,
   "id": "2162bb76-a908-4357-9f72-3cf3490322c4",
   "metadata": {},
   "outputs": [],
   "source": []
  },
  {
   "cell_type": "code",
   "execution_count": 62,
   "id": "dea1713e-271d-4056-915d-ef1c713ef950",
   "metadata": {},
   "outputs": [
    {
     "data": {
      "text/plain": [
       "dtype('float64')"
      ]
     },
     "execution_count": 62,
     "metadata": {},
     "output_type": "execute_result"
    }
   ],
   "source": [
    "zero_array.dtype"
   ]
  },
  {
   "cell_type": "code",
   "execution_count": null,
   "id": "f2a2c5fa-0169-472e-a8c5-7819f04937c6",
   "metadata": {},
   "outputs": [],
   "source": []
  },
  {
   "cell_type": "code",
   "execution_count": 64,
   "id": "7d4b5585-f838-4980-bdbe-31aa7dec9bed",
   "metadata": {},
   "outputs": [
    {
     "data": {
      "text/plain": [
       "dtype('float64')"
      ]
     },
     "execution_count": 64,
     "metadata": {},
     "output_type": "execute_result"
    }
   ],
   "source": [
    "one_array.dtype"
   ]
  },
  {
   "cell_type": "code",
   "execution_count": null,
   "id": "30d0bd5b-42f2-4d4b-b8f7-884179ab4f4e",
   "metadata": {},
   "outputs": [],
   "source": []
  },
  {
   "cell_type": "code",
   "execution_count": 74,
   "id": "bc535006-66e9-48ad-8123-27b2c9a671b1",
   "metadata": {},
   "outputs": [],
   "source": [
    "some_array = np.ones((16,24))"
   ]
  },
  {
   "cell_type": "code",
   "execution_count": 76,
   "id": "2f39dfe5-1cc5-4ed3-ac4e-c94f63e6f9c0",
   "metadata": {},
   "outputs": [
    {
     "data": {
      "text/plain": [
       "array([[1., 1., 1., 1., 1., 1., 1., 1., 1., 1., 1., 1., 1., 1., 1., 1.,\n",
       "        1., 1., 1., 1., 1., 1., 1., 1.],\n",
       "       [1., 1., 1., 1., 1., 1., 1., 1., 1., 1., 1., 1., 1., 1., 1., 1.,\n",
       "        1., 1., 1., 1., 1., 1., 1., 1.],\n",
       "       [1., 1., 1., 1., 1., 1., 1., 1., 1., 1., 1., 1., 1., 1., 1., 1.,\n",
       "        1., 1., 1., 1., 1., 1., 1., 1.],\n",
       "       [1., 1., 1., 1., 1., 1., 1., 1., 1., 1., 1., 1., 1., 1., 1., 1.,\n",
       "        1., 1., 1., 1., 1., 1., 1., 1.],\n",
       "       [1., 1., 1., 1., 1., 1., 1., 1., 1., 1., 1., 1., 1., 1., 1., 1.,\n",
       "        1., 1., 1., 1., 1., 1., 1., 1.],\n",
       "       [1., 1., 1., 1., 1., 1., 1., 1., 1., 1., 1., 1., 1., 1., 1., 1.,\n",
       "        1., 1., 1., 1., 1., 1., 1., 1.],\n",
       "       [1., 1., 1., 1., 1., 1., 1., 1., 1., 1., 1., 1., 1., 1., 1., 1.,\n",
       "        1., 1., 1., 1., 1., 1., 1., 1.],\n",
       "       [1., 1., 1., 1., 1., 1., 1., 1., 1., 1., 1., 1., 1., 1., 1., 1.,\n",
       "        1., 1., 1., 1., 1., 1., 1., 1.],\n",
       "       [1., 1., 1., 1., 1., 1., 1., 1., 1., 1., 1., 1., 1., 1., 1., 1.,\n",
       "        1., 1., 1., 1., 1., 1., 1., 1.],\n",
       "       [1., 1., 1., 1., 1., 1., 1., 1., 1., 1., 1., 1., 1., 1., 1., 1.,\n",
       "        1., 1., 1., 1., 1., 1., 1., 1.],\n",
       "       [1., 1., 1., 1., 1., 1., 1., 1., 1., 1., 1., 1., 1., 1., 1., 1.,\n",
       "        1., 1., 1., 1., 1., 1., 1., 1.],\n",
       "       [1., 1., 1., 1., 1., 1., 1., 1., 1., 1., 1., 1., 1., 1., 1., 1.,\n",
       "        1., 1., 1., 1., 1., 1., 1., 1.],\n",
       "       [1., 1., 1., 1., 1., 1., 1., 1., 1., 1., 1., 1., 1., 1., 1., 1.,\n",
       "        1., 1., 1., 1., 1., 1., 1., 1.],\n",
       "       [1., 1., 1., 1., 1., 1., 1., 1., 1., 1., 1., 1., 1., 1., 1., 1.,\n",
       "        1., 1., 1., 1., 1., 1., 1., 1.],\n",
       "       [1., 1., 1., 1., 1., 1., 1., 1., 1., 1., 1., 1., 1., 1., 1., 1.,\n",
       "        1., 1., 1., 1., 1., 1., 1., 1.],\n",
       "       [1., 1., 1., 1., 1., 1., 1., 1., 1., 1., 1., 1., 1., 1., 1., 1.,\n",
       "        1., 1., 1., 1., 1., 1., 1., 1.]])"
      ]
     },
     "execution_count": 76,
     "metadata": {},
     "output_type": "execute_result"
    }
   ],
   "source": [
    "some_array"
   ]
  },
  {
   "cell_type": "code",
   "execution_count": 78,
   "id": "06e25d9d-0147-4d1d-820f-4e01e3236266",
   "metadata": {},
   "outputs": [
    {
     "data": {
      "text/plain": [
       "(16, 24)"
      ]
     },
     "execution_count": 78,
     "metadata": {},
     "output_type": "execute_result"
    }
   ],
   "source": [
    "some_array.shape"
   ]
  },
  {
   "cell_type": "code",
   "execution_count": 80,
   "id": "b685c555-3a35-4ef4-bc9b-948cf71c6848",
   "metadata": {},
   "outputs": [
    {
     "data": {
      "text/plain": [
       "2"
      ]
     },
     "execution_count": 80,
     "metadata": {},
     "output_type": "execute_result"
    }
   ],
   "source": [
    "some_array.ndim"
   ]
  },
  {
   "cell_type": "code",
   "execution_count": null,
   "id": "a664a44a-dc16-459a-9860-e77079c486e3",
   "metadata": {},
   "outputs": [],
   "source": []
  },
  {
   "cell_type": "code",
   "execution_count": null,
   "id": "7af7fd64-e5d3-4b54-b3e9-8c4491092152",
   "metadata": {},
   "outputs": [],
   "source": [
    "# Method 3 - to create evenly spaced using a range synonymous to the range function in python"
   ]
  },
  {
   "cell_type": "code",
   "execution_count": 82,
   "id": "24c97ad6-7547-4172-abbf-964f6fab7c8f",
   "metadata": {},
   "outputs": [
    {
     "data": {
      "text/plain": [
       "[1, 2, 3, 4, 5, 6, 7, 8, 9, 10]"
      ]
     },
     "execution_count": 82,
     "metadata": {},
     "output_type": "execute_result"
    }
   ],
   "source": [
    "list(range(1,11))"
   ]
  },
  {
   "cell_type": "code",
   "execution_count": 86,
   "id": "e0c12da6-752d-499a-ace9-7e62e1ebe83a",
   "metadata": {},
   "outputs": [
    {
     "data": {
      "text/plain": [
       "array([0, 1, 2, 3, 4])"
      ]
     },
     "execution_count": 86,
     "metadata": {},
     "output_type": "execute_result"
    }
   ],
   "source": [
    "np.arange(5)"
   ]
  },
  {
   "cell_type": "code",
   "execution_count": 88,
   "id": "66207ac1-e602-45c4-93ba-34eb5c0f7197",
   "metadata": {},
   "outputs": [],
   "source": [
    "age_array = np.arange(18,31)"
   ]
  },
  {
   "cell_type": "code",
   "execution_count": 90,
   "id": "7a5ecbca-35de-4670-9cfd-aa1bb3051ce6",
   "metadata": {},
   "outputs": [
    {
     "data": {
      "text/plain": [
       "array([18, 19, 20, 21, 22, 23, 24, 25, 26, 27, 28, 29, 30])"
      ]
     },
     "execution_count": 90,
     "metadata": {},
     "output_type": "execute_result"
    }
   ],
   "source": [
    "age_array"
   ]
  },
  {
   "cell_type": "code",
   "execution_count": 92,
   "id": "fdab251d-15e1-440d-9865-2fa818a72b5b",
   "metadata": {},
   "outputs": [
    {
     "data": {
      "text/plain": [
       "dtype('int32')"
      ]
     },
     "execution_count": 92,
     "metadata": {},
     "output_type": "execute_result"
    }
   ],
   "source": [
    "age_array.dtype"
   ]
  },
  {
   "cell_type": "code",
   "execution_count": null,
   "id": "c74ea009-bbbf-46bb-9f11-803213aee550",
   "metadata": {},
   "outputs": [],
   "source": []
  },
  {
   "cell_type": "code",
   "execution_count": 96,
   "id": "0d96fb86-589c-40dd-a7ea-6563248274bf",
   "metadata": {},
   "outputs": [],
   "source": [
    "temp_array = np.arange(18,31,dtype=\"float\")"
   ]
  },
  {
   "cell_type": "code",
   "execution_count": 98,
   "id": "74ab41c7-1666-42b7-9cf9-cbfcf5aebc27",
   "metadata": {},
   "outputs": [
    {
     "data": {
      "text/plain": [
       "array([18., 19., 20., 21., 22., 23., 24., 25., 26., 27., 28., 29., 30.])"
      ]
     },
     "execution_count": 98,
     "metadata": {},
     "output_type": "execute_result"
    }
   ],
   "source": [
    "temp_array"
   ]
  },
  {
   "cell_type": "code",
   "execution_count": 100,
   "id": "da2b745a-0261-434c-8d70-354b38dda36b",
   "metadata": {},
   "outputs": [
    {
     "data": {
      "text/plain": [
       "dtype('float64')"
      ]
     },
     "execution_count": 100,
     "metadata": {},
     "output_type": "execute_result"
    }
   ],
   "source": [
    "temp_array.dtype"
   ]
  },
  {
   "cell_type": "code",
   "execution_count": null,
   "id": "a5a6b7ef-564f-4107-af6b-09b9815626ec",
   "metadata": {},
   "outputs": [],
   "source": []
  },
  {
   "cell_type": "code",
   "execution_count": 104,
   "id": "d4277163-78b7-42da-ba87-76356624e9e7",
   "metadata": {},
   "outputs": [],
   "source": [
    "temp_array = np.arange(18,31, 2, dtype=\"float\") # skip by 2"
   ]
  },
  {
   "cell_type": "code",
   "execution_count": 106,
   "id": "94496263-c039-48dd-b736-f9ee943dea2f",
   "metadata": {},
   "outputs": [
    {
     "data": {
      "text/plain": [
       "array([18., 20., 22., 24., 26., 28., 30.])"
      ]
     },
     "execution_count": 106,
     "metadata": {},
     "output_type": "execute_result"
    }
   ],
   "source": [
    "temp_array"
   ]
  },
  {
   "cell_type": "code",
   "execution_count": null,
   "id": "e9a360b9-93ae-4606-89b2-2a7f099d281e",
   "metadata": {},
   "outputs": [],
   "source": []
  },
  {
   "cell_type": "code",
   "execution_count": null,
   "id": "5defb246-8f1a-45b2-ae1e-04aa554ce8e9",
   "metadata": {},
   "outputs": [],
   "source": [
    "# Method 4: line space to create evenly spaced array"
   ]
  },
  {
   "cell_type": "code",
   "execution_count": 108,
   "id": "ab5887e0-4e99-4bf4-b2af-036a1b6d16a4",
   "metadata": {},
   "outputs": [
    {
     "data": {
      "text/plain": [
       "array([ 1. ,  3.5,  6. ,  8.5, 11. ])"
      ]
     },
     "execution_count": 108,
     "metadata": {},
     "output_type": "execute_result"
    }
   ],
   "source": [
    "np.linspace(1,11,5)"
   ]
  },
  {
   "cell_type": "code",
   "execution_count": 112,
   "id": "154d5f35-aedf-41d9-a4da-106b33a34151",
   "metadata": {},
   "outputs": [
    {
     "data": {
      "text/plain": [
       "array([1. , 1.6, 2.2, 2.8, 3.4, 4. ])"
      ]
     },
     "execution_count": 112,
     "metadata": {},
     "output_type": "execute_result"
    }
   ],
   "source": [
    "np.linspace(1,4,6)"
   ]
  },
  {
   "cell_type": "code",
   "execution_count": null,
   "id": "f0b4fa43-d333-4079-b137-d89bfd9f2de0",
   "metadata": {},
   "outputs": [],
   "source": []
  },
  {
   "cell_type": "code",
   "execution_count": null,
   "id": "d7837f3e-29d2-41f3-ae9e-5fefe785ed59",
   "metadata": {},
   "outputs": [],
   "source": [
    "# Method 5 using random numbers"
   ]
  },
  {
   "cell_type": "code",
   "execution_count": 116,
   "id": "09339dc8-ca9a-4778-b31b-7d8d73ab2269",
   "metadata": {},
   "outputs": [],
   "source": [
    "random_array1= np.random.rand(3,4)"
   ]
  },
  {
   "cell_type": "code",
   "execution_count": 118,
   "id": "b76b603c-7ff5-4714-a2db-b4069ba6c04a",
   "metadata": {},
   "outputs": [
    {
     "data": {
      "text/plain": [
       "array([[0.48777592, 0.12586371, 0.3438604 , 0.92054049],\n",
       "       [0.76300486, 0.57586571, 0.86700948, 0.49163104],\n",
       "       [0.37376882, 0.85259969, 0.27471098, 0.16817931]])"
      ]
     },
     "execution_count": 118,
     "metadata": {},
     "output_type": "execute_result"
    }
   ],
   "source": [
    "random_array1"
   ]
  },
  {
   "cell_type": "code",
   "execution_count": 120,
   "id": "70aee4ef-d089-4e94-a7cb-8c2393238901",
   "metadata": {},
   "outputs": [
    {
     "data": {
      "text/plain": [
       "dtype('float64')"
      ]
     },
     "execution_count": 120,
     "metadata": {},
     "output_type": "execute_result"
    }
   ],
   "source": [
    "random_array1.dtype"
   ]
  },
  {
   "cell_type": "code",
   "execution_count": null,
   "id": "9d656c96-7955-4d19-896b-79396f4a92fa",
   "metadata": {},
   "outputs": [],
   "source": []
  },
  {
   "cell_type": "code",
   "execution_count": 124,
   "id": "c02dac99-8da9-4669-a9c8-b995fa5363de",
   "metadata": {},
   "outputs": [],
   "source": [
    "random_array2 = np.random.randn(3,4)"
   ]
  },
  {
   "cell_type": "code",
   "execution_count": 126,
   "id": "7c7125df-7ef8-4bd5-a8d1-fe08f6738e8e",
   "metadata": {},
   "outputs": [
    {
     "data": {
      "text/plain": [
       "array([[ 0.00489997, -0.23776846, -0.93227537,  0.21254885],\n",
       "       [ 1.12206778, -0.83923413, -1.1961862 ,  0.03493985],\n",
       "       [ 0.63716039,  0.95673532, -0.47248   , -0.94164099]])"
      ]
     },
     "execution_count": 126,
     "metadata": {},
     "output_type": "execute_result"
    }
   ],
   "source": [
    "random_array2"
   ]
  },
  {
   "cell_type": "code",
   "execution_count": null,
   "id": "72d532ae-7111-4073-86a3-bb7dcebbca35",
   "metadata": {},
   "outputs": [],
   "source": []
  },
  {
   "cell_type": "code",
   "execution_count": 128,
   "id": "19df2550-c699-4f3a-b0a8-8b158c96fea2",
   "metadata": {},
   "outputs": [],
   "source": [
    "random_array3 = np.random.randint(1,6,size=(2,3))"
   ]
  },
  {
   "cell_type": "code",
   "execution_count": 130,
   "id": "1f4f3c74-b21a-42a3-890f-338cc2029c71",
   "metadata": {},
   "outputs": [
    {
     "data": {
      "text/plain": [
       "array([[5, 3, 2],\n",
       "       [1, 2, 1]])"
      ]
     },
     "execution_count": 130,
     "metadata": {},
     "output_type": "execute_result"
    }
   ],
   "source": [
    "random_array3"
   ]
  },
  {
   "cell_type": "code",
   "execution_count": null,
   "id": "8f65c171-e8f8-4eca-a94c-b787acc812b8",
   "metadata": {},
   "outputs": [],
   "source": []
  },
  {
   "cell_type": "code",
   "execution_count": 132,
   "id": "4f8dd7fb-d168-429e-aff7-c8a07ffc65ca",
   "metadata": {},
   "outputs": [
    {
     "data": {
      "text/plain": [
       "(2, 3)"
      ]
     },
     "execution_count": 132,
     "metadata": {},
     "output_type": "execute_result"
    }
   ],
   "source": [
    "random_array3.shape"
   ]
  },
  {
   "cell_type": "code",
   "execution_count": 134,
   "id": "96615ab7-2fbe-4610-a22d-d010b07d3bd4",
   "metadata": {},
   "outputs": [
    {
     "data": {
      "text/plain": [
       "array([[5, 3, 2],\n",
       "       [1, 2, 1]])"
      ]
     },
     "execution_count": 134,
     "metadata": {},
     "output_type": "execute_result"
    }
   ],
   "source": [
    "random_array3"
   ]
  },
  {
   "cell_type": "code",
   "execution_count": 136,
   "id": "bc4fa1bb-7174-4625-bb8c-75ca98e824dc",
   "metadata": {},
   "outputs": [
    {
     "data": {
      "text/plain": [
       "array([[5, 3],\n",
       "       [2, 1],\n",
       "       [2, 1]])"
      ]
     },
     "execution_count": 136,
     "metadata": {},
     "output_type": "execute_result"
    }
   ],
   "source": [
    "random_array3.reshape(3,2)"
   ]
  },
  {
   "cell_type": "code",
   "execution_count": null,
   "id": "6cfb2974-3f54-4283-8761-d20eeeeffdaa",
   "metadata": {},
   "outputs": [],
   "source": []
  },
  {
   "cell_type": "code",
   "execution_count": 138,
   "id": "e3254df7-5c33-446b-885a-f388bf1d2053",
   "metadata": {},
   "outputs": [
    {
     "data": {
      "text/plain": [
       "array([5, 3, 2, 1, 2, 1])"
      ]
     },
     "execution_count": 138,
     "metadata": {},
     "output_type": "execute_result"
    }
   ],
   "source": [
    "random_array3.reshape(-1)"
   ]
  },
  {
   "cell_type": "code",
   "execution_count": null,
   "id": "f0e5d049-2914-4d7b-a9cd-68a986f34bab",
   "metadata": {},
   "outputs": [],
   "source": []
  },
  {
   "cell_type": "markdown",
   "id": "94cecac3-c1fc-4ba1-8cb5-c53ee5520c63",
   "metadata": {},
   "source": [
    "### Basic Operations in Numpy\n",
    "\n",
    "Numpy simplifies array operations, supporting element-wise calculations and other complex statistical operations"
   ]
  },
  {
   "cell_type": "code",
   "execution_count": 1,
   "id": "d385aa45-6bbe-4931-b514-2c4e8fd2f9c1",
   "metadata": {},
   "outputs": [],
   "source": [
    "import numpy as np"
   ]
  },
  {
   "cell_type": "code",
   "execution_count": null,
   "id": "b647efcd-710f-45aa-a0a7-b44b20725308",
   "metadata": {},
   "outputs": [],
   "source": []
  },
  {
   "cell_type": "code",
   "execution_count": 3,
   "id": "a2dde006-2f66-4ce1-92af-02e1a8981b34",
   "metadata": {},
   "outputs": [
    {
     "data": {
      "text/plain": [
       "array([1, 2, 3, 4])"
      ]
     },
     "execution_count": 3,
     "metadata": {},
     "output_type": "execute_result"
    }
   ],
   "source": [
    "array_a = np.arange(1,5)\n",
    "array_a"
   ]
  },
  {
   "cell_type": "code",
   "execution_count": 5,
   "id": "43247f20-2678-4ec5-9085-44f5d8c4ff24",
   "metadata": {},
   "outputs": [
    {
     "data": {
      "text/plain": [
       "array([6, 7, 8, 9])"
      ]
     },
     "execution_count": 5,
     "metadata": {},
     "output_type": "execute_result"
    }
   ],
   "source": [
    "array_b = np.arange(6,10)\n",
    "array_b"
   ]
  },
  {
   "cell_type": "code",
   "execution_count": 7,
   "id": "f7f7d49e-5cba-4c08-833d-e712b3e35629",
   "metadata": {},
   "outputs": [
    {
     "name": "stdout",
     "output_type": "stream",
     "text": [
      "[1 2 3 4]\n",
      "[6 7 8 9]\n"
     ]
    }
   ],
   "source": [
    "print(array_a)\n",
    "print(array_b)"
   ]
  },
  {
   "cell_type": "code",
   "execution_count": null,
   "id": "211c7fad-7e37-487d-bf2a-33727ea9925f",
   "metadata": {},
   "outputs": [],
   "source": []
  },
  {
   "cell_type": "code",
   "execution_count": 9,
   "id": "7f5313d2-b04e-4edd-b17f-5d10c2b0102a",
   "metadata": {},
   "outputs": [
    {
     "data": {
      "text/plain": [
       "array([ 7,  9, 11, 13])"
      ]
     },
     "execution_count": 9,
     "metadata": {},
     "output_type": "execute_result"
    }
   ],
   "source": [
    "array_a + array_b # picking it pair wise , element wise addition"
   ]
  },
  {
   "cell_type": "code",
   "execution_count": null,
   "id": "bc0ed31e-bd1e-4cfd-a69a-a649777ff524",
   "metadata": {},
   "outputs": [],
   "source": []
  },
  {
   "cell_type": "code",
   "execution_count": null,
   "id": "a140919b-81dd-4c8d-a9d5-303a47a0275a",
   "metadata": {},
   "outputs": [],
   "source": [
    "# Element wise subtraction"
   ]
  },
  {
   "cell_type": "code",
   "execution_count": 11,
   "id": "26c4d5f7-f107-4f7b-9309-6c199a1a67ab",
   "metadata": {},
   "outputs": [
    {
     "data": {
      "text/plain": [
       "array([-5, -5, -5, -5])"
      ]
     },
     "execution_count": 11,
     "metadata": {},
     "output_type": "execute_result"
    }
   ],
   "source": [
    "array_a - array_b"
   ]
  },
  {
   "cell_type": "code",
   "execution_count": 13,
   "id": "a87846e1-ee2e-4c3b-8992-3861961ae4f2",
   "metadata": {},
   "outputs": [
    {
     "data": {
      "text/plain": [
       "array([5, 5, 5, 5])"
      ]
     },
     "execution_count": 13,
     "metadata": {},
     "output_type": "execute_result"
    }
   ],
   "source": [
    "array_b - array_a"
   ]
  },
  {
   "cell_type": "code",
   "execution_count": null,
   "id": "616437d9-1acb-4c17-9d80-db31775e0156",
   "metadata": {},
   "outputs": [],
   "source": []
  },
  {
   "cell_type": "code",
   "execution_count": null,
   "id": "0c2d4cd4-8e83-4ad0-93f5-24d5c2da38be",
   "metadata": {},
   "outputs": [],
   "source": [
    "# Element wise multiplication"
   ]
  },
  {
   "cell_type": "code",
   "execution_count": 15,
   "id": "88feef58-367b-46fb-a797-c721ba5c0daf",
   "metadata": {},
   "outputs": [
    {
     "data": {
      "text/plain": [
       "array([ 6, 14, 24, 36])"
      ]
     },
     "execution_count": 15,
     "metadata": {},
     "output_type": "execute_result"
    }
   ],
   "source": [
    "array_a * array_b"
   ]
  },
  {
   "cell_type": "code",
   "execution_count": 17,
   "id": "c3b8b286-975f-4565-aa0a-d959ddb48bc9",
   "metadata": {},
   "outputs": [
    {
     "data": {
      "text/plain": [
       "array([1, 2, 3, 4])"
      ]
     },
     "execution_count": 17,
     "metadata": {},
     "output_type": "execute_result"
    }
   ],
   "source": [
    "# Element wise modulo\n",
    "array_a % array_b\n"
   ]
  },
  {
   "cell_type": "code",
   "execution_count": null,
   "id": "b8d14904-1591-4819-b26f-a729b4460fc4",
   "metadata": {},
   "outputs": [],
   "source": []
  },
  {
   "cell_type": "code",
   "execution_count": 19,
   "id": "6f025c38-23b1-41d9-8747-832bad5b6cfd",
   "metadata": {},
   "outputs": [
    {
     "data": {
      "text/plain": [
       "array([0, 0, 0, 0])"
      ]
     },
     "execution_count": 19,
     "metadata": {},
     "output_type": "execute_result"
    }
   ],
   "source": [
    "array_a // array_b"
   ]
  },
  {
   "cell_type": "code",
   "execution_count": null,
   "id": "1ec60d4f-0402-47f3-a1b8-8bb0a9cfa03c",
   "metadata": {},
   "outputs": [],
   "source": []
  },
  {
   "cell_type": "code",
   "execution_count": null,
   "id": "9ec20b61-584a-4c71-b55e-285b69d99a0d",
   "metadata": {},
   "outputs": [],
   "source": [
    "## NumPy support matrix multiplication a.k.a dot product"
   ]
  },
  {
   "cell_type": "code",
   "execution_count": 21,
   "id": "0c36a2f5-d10e-4406-a03b-8045734739d7",
   "metadata": {},
   "outputs": [
    {
     "data": {
      "text/plain": [
       "array([1, 2, 3, 4, 5, 6])"
      ]
     },
     "execution_count": 21,
     "metadata": {},
     "output_type": "execute_result"
    }
   ],
   "source": [
    "np.arange(1,7)"
   ]
  },
  {
   "cell_type": "code",
   "execution_count": 23,
   "id": "08a0118f-c284-4fd1-9236-ddc6959c05b9",
   "metadata": {},
   "outputs": [
    {
     "data": {
      "text/plain": [
       "array([[1, 2, 3],\n",
       "       [4, 5, 6]])"
      ]
     },
     "execution_count": 23,
     "metadata": {},
     "output_type": "execute_result"
    }
   ],
   "source": [
    "np.arange(1,7).reshape(2,3)"
   ]
  },
  {
   "cell_type": "code",
   "execution_count": null,
   "id": "73320fd6-a78e-4da8-8a31-6b9931df1995",
   "metadata": {},
   "outputs": [],
   "source": []
  },
  {
   "cell_type": "code",
   "execution_count": null,
   "id": "f5580c3c-bafe-4fdf-97f9-959cf446f973",
   "metadata": {},
   "outputs": [],
   "source": []
  },
  {
   "cell_type": "code",
   "execution_count": null,
   "id": "2bfbb93e-2438-4e7e-a73a-ad96bb9484ea",
   "metadata": {},
   "outputs": [],
   "source": []
  },
  {
   "cell_type": "code",
   "execution_count": null,
   "id": "2ee8905f-8a21-4959-ad81-869a700ff26b",
   "metadata": {},
   "outputs": [],
   "source": []
  },
  {
   "cell_type": "code",
   "execution_count": null,
   "id": "72066dea-f8a7-4426-8056-38ef16ddcfac",
   "metadata": {},
   "outputs": [],
   "source": [
    "matrix_a = "
   ]
  },
  {
   "cell_type": "code",
   "execution_count": null,
   "id": "18152263-f9f7-4714-8431-23d798ae3f76",
   "metadata": {},
   "outputs": [],
   "source": []
  },
  {
   "cell_type": "code",
   "execution_count": null,
   "id": "8d4557a9-a13e-4cc7-8929-87ff756817c6",
   "metadata": {},
   "outputs": [],
   "source": []
  },
  {
   "cell_type": "code",
   "execution_count": null,
   "id": "8ca2fce2-68fa-4773-8e78-65f3f9343ced",
   "metadata": {},
   "outputs": [],
   "source": []
  },
  {
   "cell_type": "code",
   "execution_count": null,
   "id": "52286ea7-1137-4765-add4-889a93c97adc",
   "metadata": {},
   "outputs": [],
   "source": []
  },
  {
   "cell_type": "code",
   "execution_count": null,
   "id": "bd676ca6-86dd-471b-a3a7-3fc6c281ec35",
   "metadata": {},
   "outputs": [],
   "source": []
  },
  {
   "cell_type": "code",
   "execution_count": null,
   "id": "14b19982-c27a-46d7-a8d6-b21afcfed6bd",
   "metadata": {},
   "outputs": [],
   "source": []
  },
  {
   "cell_type": "code",
   "execution_count": null,
   "id": "43d812f1-63e7-4b00-9b4d-cba6befdcdf4",
   "metadata": {},
   "outputs": [],
   "source": []
  },
  {
   "cell_type": "code",
   "execution_count": null,
   "id": "219ae019-1f7c-4248-a9fa-b9ef241d9397",
   "metadata": {},
   "outputs": [],
   "source": []
  },
  {
   "cell_type": "code",
   "execution_count": null,
   "id": "8bdd24e3-b3cb-45d2-9fde-b7545866626e",
   "metadata": {},
   "outputs": [],
   "source": []
  },
  {
   "cell_type": "code",
   "execution_count": null,
   "id": "2149ff40-a500-45a4-a125-5e9b9809896b",
   "metadata": {},
   "outputs": [],
   "source": []
  },
  {
   "cell_type": "code",
   "execution_count": null,
   "id": "e9c595be-d048-4314-828a-290ffe3f0237",
   "metadata": {},
   "outputs": [],
   "source": []
  },
  {
   "cell_type": "code",
   "execution_count": null,
   "id": "78eeaf92-fb06-44b2-a14f-8cc84d278ea1",
   "metadata": {},
   "outputs": [],
   "source": []
  },
  {
   "cell_type": "code",
   "execution_count": null,
   "id": "4fc78e61-e654-44b3-99f9-3f1af63e01e4",
   "metadata": {},
   "outputs": [],
   "source": []
  },
  {
   "cell_type": "code",
   "execution_count": null,
   "id": "a7b292c4-213b-41e7-85bb-f7bd1cc667cf",
   "metadata": {},
   "outputs": [],
   "source": []
  },
  {
   "cell_type": "code",
   "execution_count": null,
   "id": "54970eb7-1d34-4ef5-9122-d29e67d86b0a",
   "metadata": {},
   "outputs": [],
   "source": []
  },
  {
   "cell_type": "code",
   "execution_count": null,
   "id": "9dafd7f4-1155-457d-91fa-352fbbf6fe56",
   "metadata": {},
   "outputs": [],
   "source": []
  }
 ],
 "metadata": {
  "kernelspec": {
   "display_name": "Python 3 (ipykernel)",
   "language": "python",
   "name": "python3"
  },
  "language_info": {
   "codemirror_mode": {
    "name": "ipython",
    "version": 3
   },
   "file_extension": ".py",
   "mimetype": "text/x-python",
   "name": "python",
   "nbconvert_exporter": "python",
   "pygments_lexer": "ipython3",
   "version": "3.12.4"
  }
 },
 "nbformat": 4,
 "nbformat_minor": 5
}
