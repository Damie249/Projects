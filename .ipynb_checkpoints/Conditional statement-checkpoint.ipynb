{
 "cells": [
  {
   "cell_type": "markdown",
   "id": "2e715591-c555-4a97-9012-6cfb6d3c280a",
   "metadata": {},
   "source": [
    "## Conditional Statements\n",
    "\n",
    "If, Elif, Else Statement"
   ]
  },
  {
   "cell_type": "markdown",
   "id": "3fc76326-def0-4a42-b3cd-68bd1f8000a6",
   "metadata": {},
   "source": [
    "## Comparison Operators\n",
    "In python, Comparison Operators play a fundamental role in evaluating conditions and making decisions based on the results.These operators allow us to compare\n",
    "values and expressions, resulting in Boolean outcome(True or False). Understanding how to use these operators is essential for effective decision-making in your code.\n"
   ]
  },
  {
   "cell_type": "markdown",
   "id": "cf75bb08-14a4-4805-a374-f8b7be023e2f",
   "metadata": {},
   "source": [
    "### Let's explore some common comparison operators:\n",
    "\n",
    "1. Equal to (==): Checks if two values are equal.\n",
    "2. Not equal to (!=): Checks if two values are not equal.\n",
    "3. Greater than(>): Checks if the left operand is greater than the right operand.\n",
    "4. Less than (<): Checks if the left operand is less than the right operand.\n",
    "5. Greater than or equal to(>=): Checks if the left operand is greater than or equal to the right operand.\n",
    "6. Less than or equal to (<=): Checks if the left operand is less than or equal to the right operand."
   ]
  },
  {
   "cell_type": "code",
   "execution_count": null,
   "id": "7ecf337d-aede-4063-9fa4-dd579be3590a",
   "metadata": {},
   "outputs": [],
   "source": []
  },
  {
   "cell_type": "code",
   "execution_count": 7,
   "id": "86cc4b6d-0708-4ba4-b8f4-8ddf74239eea",
   "metadata": {},
   "outputs": [
    {
     "data": {
      "text/plain": [
       "True"
      ]
     },
     "execution_count": 7,
     "metadata": {},
     "output_type": "execute_result"
    }
   ],
   "source": [
    "10==10"
   ]
  },
  {
   "cell_type": "code",
   "execution_count": 9,
   "id": "000c35b8-d92f-4d89-aa53-0ce99b0de2f8",
   "metadata": {},
   "outputs": [
    {
     "data": {
      "text/plain": [
       "False"
      ]
     },
     "execution_count": 9,
     "metadata": {},
     "output_type": "execute_result"
    }
   ],
   "source": [
    "20==10"
   ]
  },
  {
   "cell_type": "code",
   "execution_count": 11,
   "id": "0bb96344-dec5-458c-af7b-ae1e9a05232e",
   "metadata": {},
   "outputs": [
    {
     "data": {
      "text/plain": [
       "True"
      ]
     },
     "execution_count": 11,
     "metadata": {},
     "output_type": "execute_result"
    }
   ],
   "source": [
    "20!=10"
   ]
  },
  {
   "cell_type": "code",
   "execution_count": 13,
   "id": "a940b841-d2dc-452f-8569-d86f8e511a89",
   "metadata": {},
   "outputs": [
    {
     "data": {
      "text/plain": [
       "False"
      ]
     },
     "execution_count": 13,
     "metadata": {},
     "output_type": "execute_result"
    }
   ],
   "source": [
    "20!=20"
   ]
  },
  {
   "cell_type": "code",
   "execution_count": null,
   "id": "f5a73f10-9f9f-4a80-a9e3-45f48b4803fc",
   "metadata": {},
   "outputs": [],
   "source": []
  },
  {
   "cell_type": "code",
   "execution_count": 15,
   "id": "c1fce0a8-7eac-4c36-9726-157e1a708a02",
   "metadata": {},
   "outputs": [
    {
     "data": {
      "text/plain": [
       "True"
      ]
     },
     "execution_count": 15,
     "metadata": {},
     "output_type": "execute_result"
    }
   ],
   "source": [
    "20>10"
   ]
  },
  {
   "cell_type": "code",
   "execution_count": 17,
   "id": "27d66f4e-5ae9-4a09-a196-dd9ac0e22651",
   "metadata": {},
   "outputs": [
    {
     "data": {
      "text/plain": [
       "False"
      ]
     },
     "execution_count": 17,
     "metadata": {},
     "output_type": "execute_result"
    }
   ],
   "source": [
    "10>50"
   ]
  },
  {
   "cell_type": "code",
   "execution_count": null,
   "id": "7665f8f8-4128-4200-9d2f-c66249d6b3c7",
   "metadata": {},
   "outputs": [],
   "source": []
  },
  {
   "cell_type": "code",
   "execution_count": 19,
   "id": "212543d5-ddfb-4a9c-9fbc-8b32e36d4a87",
   "metadata": {},
   "outputs": [
    {
     "data": {
      "text/plain": [
       "False"
      ]
     },
     "execution_count": 19,
     "metadata": {},
     "output_type": "execute_result"
    }
   ],
   "source": [
    "100<50"
   ]
  },
  {
   "cell_type": "code",
   "execution_count": 21,
   "id": "526114e9-8a03-4192-b2bb-d2746c8a0189",
   "metadata": {},
   "outputs": [
    {
     "data": {
      "text/plain": [
       "False"
      ]
     },
     "execution_count": 21,
     "metadata": {},
     "output_type": "execute_result"
    }
   ],
   "source": [
    "10<10"
   ]
  },
  {
   "cell_type": "code",
   "execution_count": 23,
   "id": "98d6e498-0b0d-4f31-a411-d91219b5d93a",
   "metadata": {},
   "outputs": [
    {
     "data": {
      "text/plain": [
       "True"
      ]
     },
     "execution_count": 23,
     "metadata": {},
     "output_type": "execute_result"
    }
   ],
   "source": [
    "10<=10"
   ]
  },
  {
   "cell_type": "code",
   "execution_count": 25,
   "id": "bce20fe3-a4cf-41d7-a294-7b9561c2e107",
   "metadata": {},
   "outputs": [
    {
     "data": {
      "text/plain": [
       "True"
      ]
     },
     "execution_count": 25,
     "metadata": {},
     "output_type": "execute_result"
    }
   ],
   "source": [
    "10>=10"
   ]
  },
  {
   "cell_type": "code",
   "execution_count": 27,
   "id": "369bdd3c-5868-453a-bbb9-0936c8ad6b50",
   "metadata": {},
   "outputs": [
    {
     "data": {
      "text/plain": [
       "False"
      ]
     },
     "execution_count": 27,
     "metadata": {},
     "output_type": "execute_result"
    }
   ],
   "source": [
    "10>=20"
   ]
  },
  {
   "cell_type": "code",
   "execution_count": null,
   "id": "42e38fbe-79f1-4713-a2a2-68ced87ae431",
   "metadata": {},
   "outputs": [],
   "source": []
  },
  {
   "cell_type": "code",
   "execution_count": 31,
   "id": "44f58bb7-6d9c-4b2b-9757-e4b76e210ac6",
   "metadata": {},
   "outputs": [
    {
     "name": "stdin",
     "output_type": "stream",
     "text": [
      "Enter your name:  Oluwadmilola\n"
     ]
    }
   ],
   "source": [
    "name =input(\"Enter your name: \") # we want to check if whatever the user enters matches "
   ]
  },
  {
   "cell_type": "code",
   "execution_count": 13,
   "id": "e9ad3558-e7d2-4d46-a704-2d24ac40c334",
   "metadata": {},
   "outputs": [
    {
     "name": "stdout",
     "output_type": "stream",
     "text": [
      "Welcome back Oluwadamilola\n"
     ]
    }
   ],
   "source": [
    "#if condition:\n",
    " #   then do something here\n",
    "# else :\n",
    "# then something else here........\n",
    "# elif condition this condition is satisfied\n",
    "#   then do something here\n",
    "\n",
    "if name == \"Oluwadamilola\":\n",
    "    print(f\"Welcome back {name}\")"
   ]
  },
  {
   "cell_type": "code",
   "execution_count": 17,
   "id": "1af2a993-2f3a-4b96-8435-872578168095",
   "metadata": {},
   "outputs": [
    {
     "name": "stdin",
     "output_type": "stream",
     "text": [
      "Enter your name:  Simon\n"
     ]
    }
   ],
   "source": [
    "name =input(\"Enter your name: \")"
   ]
  },
  {
   "cell_type": "code",
   "execution_count": null,
   "id": "549dffb9-4824-467e-ac58-fd18b4129f2c",
   "metadata": {},
   "outputs": [],
   "source": []
  },
  {
   "cell_type": "code",
   "execution_count": 19,
   "id": "b5ddbec2-f30c-4635-8b83-0331300815b6",
   "metadata": {},
   "outputs": [],
   "source": [
    "if name == \"Oluwadamilola\":\n",
    "    print(f\"Welcome back {name}\") ## It won't return anything because it did not meet the condition of name Oluwadamilola"
   ]
  },
  {
   "cell_type": "code",
   "execution_count": null,
   "id": "d2edaadc-deff-40a4-a911-539cfc391ce9",
   "metadata": {},
   "outputs": [],
   "source": []
  },
  {
   "cell_type": "code",
   "execution_count": 27,
   "id": "f920ff1e-56a1-4905-b457-8fa0bacd9ce8",
   "metadata": {},
   "outputs": [
    {
     "name": "stdin",
     "output_type": "stream",
     "text": [
      "Enter your name:  Dolapo\n"
     ]
    },
    {
     "name": "stdout",
     "output_type": "stream",
     "text": [
      "Your face no show...try again\n"
     ]
    }
   ],
   "source": [
    "name =input(\"Enter your name: \")\n",
    "\n",
    "if name == \"Oluwadamilola\":\n",
    "    print(f\"Welcome back {name}\") ## with else you don't have to put any condition\n",
    "else: \n",
    "    print(\"Your face no show...try again\")"
   ]
  },
  {
   "cell_type": "code",
   "execution_count": null,
   "id": "406fa9d6-8462-4d5d-94bf-3f99b52326bf",
   "metadata": {},
   "outputs": [],
   "source": []
  },
  {
   "cell_type": "code",
   "execution_count": 39,
   "id": "e304c22f-6de5-4bba-b9db-42acd92f9436",
   "metadata": {},
   "outputs": [
    {
     "name": "stdin",
     "output_type": "stream",
     "text": [
      "Enter your name:  Odumeje\n"
     ]
    },
    {
     "name": "stdout",
     "output_type": "stream",
     "text": [
      "Clear road for the liquid metal\n"
     ]
    }
   ],
   "source": [
    "name =input(\"Enter your name: \")\n",
    "\n",
    "if name == \"Oluwadamilola\":\n",
    "    print(f\"Welcome back {name}\") ## with else you don't have to put any condition\n",
    "elif name == \"Odumeje\":\n",
    "    print(\"Clear road for the liquid metal\")                         ##elif for multiple condition\n",
    "elif name == \"Machalla\":\n",
    "    print(\"30BG no go like this one...lmao\")\n",
    "else:    \n",
    "    print(\"Your face no show...try again\")"
   ]
  },
  {
   "cell_type": "code",
   "execution_count": null,
   "id": "9b8fb240-bd8a-45ec-958b-11199ffdfb33",
   "metadata": {},
   "outputs": [],
   "source": []
  },
  {
   "cell_type": "markdown",
   "id": "9c575cfa-6caa-45ea-919c-4adbfc6adb2c",
   "metadata": {},
   "source": [
    "### Login system"
   ]
  },
  {
   "cell_type": "code",
   "execution_count": 50,
   "id": "889a59c0-8f2e-4ace-b0ea-0fe9cf657d9a",
   "metadata": {},
   "outputs": [],
   "source": [
    "registered_username = \"Admin\"\n",
    "registered_password = \"AdminPassword12345\""
   ]
  },
  {
   "cell_type": "code",
   "execution_count": null,
   "id": "3d5fbd45-efef-4c95-86b6-378a55015178",
   "metadata": {},
   "outputs": [],
   "source": []
  },
  {
   "cell_type": "code",
   "execution_count": 58,
   "id": "cde6b74a-a622-409f-a42e-8693a40b9472",
   "metadata": {},
   "outputs": [
    {
     "name": "stdin",
     "output_type": "stream",
     "text": [
      "Please enter your username:  adgfsgsh\n",
      "Please enter your password:  stssbsb\n"
     ]
    }
   ],
   "source": [
    "username = input(\"Please enter your username: \")\n",
    "password = input(\"Please enter your password: \")"
   ]
  },
  {
   "cell_type": "code",
   "execution_count": 60,
   "id": "5b9d5695-70c6-4f73-9b6e-fcc05e136a86",
   "metadata": {},
   "outputs": [
    {
     "name": "stdout",
     "output_type": "stream",
     "text": [
      "Sorry your username or password is not correct, Please try again... \n"
     ]
    }
   ],
   "source": [
    "if username == registered_username and password == registered_password :   ###and logical operators, you want the 2 conditions to be the same\n",
    "    print(\"Welcome back Admin\") ## i.e username and password must be correct\n",
    "else:     \n",
    "    print(\"Sorry your username or password is not correct, Please try again... \")"
   ]
  },
  {
   "cell_type": "code",
   "execution_count": null,
   "id": "c26977e2-6d9f-448b-9d39-b3c4dd9b372e",
   "metadata": {},
   "outputs": [],
   "source": []
  },
  {
   "cell_type": "code",
   "execution_count": 86,
   "id": "1792764c-63d8-4fff-804e-f16e32cc3994",
   "metadata": {},
   "outputs": [
    {
     "name": "stdin",
     "output_type": "stream",
     "text": [
      "Enter the year of birth 1992\n"
     ]
    },
    {
     "data": {
      "text/plain": [
       "32"
      ]
     },
     "execution_count": 86,
     "metadata": {},
     "output_type": "execute_result"
    }
   ],
   "source": [
    "#Example:\n",
    "\n",
    "yob = int(input(\"Enter the year of birth\"))\n",
    "age = 2024- yob\n",
    "age"
   ]
  },
  {
   "cell_type": "code",
   "execution_count": null,
   "id": "a32ee653-9d29-4c8a-a34b-c770dd4c6c8f",
   "metadata": {},
   "outputs": [],
   "source": []
  },
  {
   "cell_type": "code",
   "execution_count": 80,
   "id": "69bbd197-9c8d-4793-a1bc-479885c947c9",
   "metadata": {},
   "outputs": [
    {
     "name": "stdout",
     "output_type": "stream",
     "text": [
      "Teenager\n"
     ]
    }
   ],
   "source": [
    "if age <= 19:\n",
    "    print(\"Teenager\")\n",
    "elif age <= 35:\n",
    "    print(\"Young Adult\")\n",
    "elif age <= 45:\n",
    "    print(\"Adult\")\n",
    "elif age <= 60:\n",
    "    print(\"Senior Man\")\n",
    "else: age >60             "
   ]
  },
  {
   "cell_type": "code",
   "execution_count": null,
   "id": "88c41e35-98d9-4551-8e89-154404faaae1",
   "metadata": {},
   "outputs": [],
   "source": []
  },
  {
   "cell_type": "code",
   "execution_count": 110,
   "id": "15eb05f6-7027-4b66-ad02-39a317af3300",
   "metadata": {},
   "outputs": [
    {
     "name": "stdin",
     "output_type": "stream",
     "text": [
      "Enter the year of birth 2027\n"
     ]
    },
    {
     "name": "stdout",
     "output_type": "stream",
     "text": [
      "-3\n",
      "Invalid year of birth -3\n"
     ]
    }
   ],
   "source": [
    "yob = int(input(\"Enter the year of birth\"))\n",
    "age = 2024- yob\n",
    "print(age)\n",
    "\n",
    "\n",
    "if age >=0 and age <= 12:\n",
    "    print(\"Child\")\n",
    "elif age >=13 and age <= 19:\n",
    "    print(\"Teenager\")\n",
    "elif age>=20 and age <= 35:\n",
    "    print(\"Young Adult\")\n",
    "elif age>= 36 and age <= 45:\n",
    "    print(\"Adult\")\n",
    "elif age>=46 and age <= 60:\n",
    "    print(\"Senior Man\")\n",
    "elif age <0:\n",
    "    print(f\"Invalid year of birth {age}\")\n",
    "else: \n",
    "    print(\"Elder\") "
   ]
  },
  {
   "cell_type": "code",
   "execution_count": null,
   "id": "df353f9f-d7a7-4bbc-ba3f-10a44ba61508",
   "metadata": {},
   "outputs": [],
   "source": []
  },
  {
   "cell_type": "code",
   "execution_count": null,
   "id": "578e72ea-553a-4032-8498-490caad9aaf6",
   "metadata": {},
   "outputs": [],
   "source": []
  },
  {
   "cell_type": "markdown",
   "id": "0a5bd181-a750-4aad-b000-c392f5fafcad",
   "metadata": {},
   "source": [
    "#### Loop statement"
   ]
  },
  {
   "cell_type": "markdown",
   "id": "3aa0cd0d-9f79-468a-b226-63616011f3bd",
   "metadata": {},
   "source": [
    "1. for loop\n",
    "2. while loop"
   ]
  },
  {
   "cell_type": "code",
   "execution_count": null,
   "id": "53362207-a6ca-4d0a-ad07-b0e58081f49b",
   "metadata": {},
   "outputs": [],
   "source": []
  },
  {
   "cell_type": "code",
   "execution_count": null,
   "id": "698d6e4b-99d3-44ec-8887-0b5a6ed0f707",
   "metadata": {},
   "outputs": [],
   "source": [
    "# for loop\n",
    "##sequence--->, list, tuple, dictionary, set"
   ]
  },
  {
   "cell_type": "code",
   "execution_count": null,
   "id": "3d3f22ab-baa5-46c5-ad34-e4ef6c90bcbd",
   "metadata": {},
   "outputs": [],
   "source": []
  },
  {
   "cell_type": "code",
   "execution_count": 114,
   "id": "5db461e9-52c4-4112-94d7-09887c02afae",
   "metadata": {},
   "outputs": [],
   "source": []
  },
  {
   "cell_type": "code",
   "execution_count": 4,
   "id": "b55bde90-1cb1-45e8-95f2-e39f217ee3d8",
   "metadata": {},
   "outputs": [
    {
     "name": "stdout",
     "output_type": "stream",
     "text": [
      "My current task is to: wash dishes\n",
      "My current task is to: clean room\n",
      "My current task is to: take out trash\n"
     ]
    }
   ],
   "source": [
    "list_of_chores = [\"wash dishes\", \"clean room\", \"take out trash\"]\n",
    "for current_chore in list_of_chores:\n",
    "    print(f\"My current task is to: {current_chore}\")"
   ]
  },
  {
   "cell_type": "code",
   "execution_count": null,
   "id": "5fdb60af-b8df-41b2-ac79-6078f05dad71",
   "metadata": {},
   "outputs": [],
   "source": []
  },
  {
   "cell_type": "code",
   "execution_count": 130,
   "id": "2dd21fcb-9937-483a-8426-a3bf6d9749a7",
   "metadata": {},
   "outputs": [],
   "source": [
    "name_of_students = [\"Jack\", \"Sam\", \"Dolapo\", \"Mark\"]"
   ]
  },
  {
   "cell_type": "code",
   "execution_count": 141,
   "id": "2d740bdd-a0a1-4a75-b192-8db930a5081b",
   "metadata": {},
   "outputs": [
    {
     "name": "stdout",
     "output_type": "stream",
     "text": [
      "Jack is my student\n",
      "Sam is my student\n",
      "Dolapo is my student\n",
      "Mark is my student\n"
     ]
    }
   ],
   "source": [
    "for name in name_of_students:\n",
    "    print(f\"{name} is my student\")"
   ]
  },
  {
   "cell_type": "code",
   "execution_count": null,
   "id": "1e357a75-9d9e-4a64-bc8f-e8a5caf69d18",
   "metadata": {},
   "outputs": [],
   "source": []
  },
  {
   "cell_type": "code",
   "execution_count": 1,
   "id": "c2569133-bead-4fcf-8511-d19c802d9111",
   "metadata": {},
   "outputs": [],
   "source": [
    "major_languages = (\"Yoruba\", \"Hausa\", \"Igbo\")"
   ]
  },
  {
   "cell_type": "code",
   "execution_count": 5,
   "id": "bac5e66f-5c54-43ce-b9a8-0ae01c90ddc1",
   "metadata": {},
   "outputs": [
    {
     "name": "stdout",
     "output_type": "stream",
     "text": [
      "Yoruba is one of Nigeria's major language\n",
      "Hausa is one of Nigeria's major language\n",
      "Igbo is one of Nigeria's major language\n"
     ]
    }
   ],
   "source": [
    "for language in major_languages:\n",
    "    print(f\"{language} is one of Nigeria's major language\")"
   ]
  },
  {
   "cell_type": "code",
   "execution_count": null,
   "id": "785c7dbe-e40c-4356-9942-bd39b9fae866",
   "metadata": {},
   "outputs": [],
   "source": []
  },
  {
   "cell_type": "code",
   "execution_count": 19,
   "id": "a11ef66f-0304-48e6-84eb-22621fdab432",
   "metadata": {},
   "outputs": [
    {
     "name": "stdout",
     "output_type": "stream",
     "text": [
      "0\n",
      "1\n",
      "2\n",
      "3\n",
      "4\n",
      "5\n"
     ]
    }
   ],
   "source": [
    "# let's say i want to perform a particular task 3 times\n",
    "# Range--> (START,STOP)\n",
    "for i in range(0,6): # something like  slicing\n",
    "    print(i)"
   ]
  },
  {
   "cell_type": "code",
   "execution_count": 23,
   "id": "e6fa14d6-719a-4f22-b77a-24f284293a72",
   "metadata": {},
   "outputs": [
    {
     "name": "stdout",
     "output_type": "stream",
     "text": [
      "20\n",
      "21\n",
      "22\n",
      "23\n",
      "24\n"
     ]
    }
   ],
   "source": [
    "for i in range (20,25):\n",
    "    print (i)"
   ]
  },
  {
   "cell_type": "code",
   "execution_count": 25,
   "id": "70647e05-65d4-4ffc-9d2b-0ed62d2f9a19",
   "metadata": {},
   "outputs": [
    {
     "name": "stdout",
     "output_type": "stream",
     "text": [
      "Oluwadamilola\n",
      "Oluwadamilola\n",
      "Oluwadamilola\n"
     ]
    }
   ],
   "source": [
    "for i in range(3): # let's say i want to print my name 3 times\n",
    "    print(\"Oluwadamilola\")"
   ]
  },
  {
   "cell_type": "code",
   "execution_count": null,
   "id": "c6fd9f2c-5f59-46a1-98dc-da82d0167a9a",
   "metadata": {},
   "outputs": [],
   "source": []
  },
  {
   "cell_type": "code",
   "execution_count": null,
   "id": "985e0a09-5a33-4347-9d2b-cb347ae30712",
   "metadata": {},
   "outputs": [],
   "source": []
  },
  {
   "cell_type": "code",
   "execution_count": 31,
   "id": "a70e13a8-177f-4ffd-8f01-6eb6acb12c1d",
   "metadata": {},
   "outputs": [
    {
     "name": "stdin",
     "output_type": "stream",
     "text": [
      "Please enter your password:  hdhdh\n"
     ]
    },
    {
     "name": "stdout",
     "output_type": "stream",
     "text": [
      "The password no enter, abeg try again....\n"
     ]
    },
    {
     "name": "stdin",
     "output_type": "stream",
     "text": [
      "Please enter your password:  MyNebiantPassword\n"
     ]
    },
    {
     "name": "stdout",
     "output_type": "stream",
     "text": [
      "Welcome back to Nebiant\n"
     ]
    },
    {
     "name": "stdin",
     "output_type": "stream",
     "text": [
      "Please enter your password:  MyNebiantPassword\n"
     ]
    },
    {
     "name": "stdout",
     "output_type": "stream",
     "text": [
      "Welcome back to Nebiant\n",
      "Program terminated....\n"
     ]
    }
   ],
   "source": [
    "number_of_trials = 3\n",
    "for i in range(number_of_trials):\n",
    "    password = input(\"Please enter your password: \")\n",
    "    if password == \"MyNebiantPassword\":\n",
    "        print (\"Welcome back to Nebiant\")\n",
    "    else:\n",
    "        print(\"The password no enter, abeg try again....\")\n",
    "        \n",
    "print(\"Program terminated....\")    "
   ]
  },
  {
   "cell_type": "code",
   "execution_count": null,
   "id": "ef336abe-78a2-43fd-a78f-d88e091054e7",
   "metadata": {},
   "outputs": [],
   "source": []
  },
  {
   "cell_type": "code",
   "execution_count": 37,
   "id": "beae990a-218e-4c4c-bc33-b18b9c982508",
   "metadata": {},
   "outputs": [
    {
     "name": "stdin",
     "output_type": "stream",
     "text": [
      "What is your number 1 favorite country?  Nigeria\n",
      "What is your number 2 favorite country?  Canada\n",
      "What is your number 3 favorite country?  Kenya\n",
      "What is your number 4 favorite country?  USA\n",
      "What is your number 5 favorite country?  Canada\n"
     ]
    },
    {
     "name": "stdout",
     "output_type": "stream",
     "text": [
      "My favorite countries are: ['Nigeria', 'Canada', 'Kenya', 'USA', 'Canada']\n"
     ]
    }
   ],
   "source": [
    "fav_countries = []\n",
    "\n",
    "for i in range(1,6):\n",
    "    country_name = input(f\"What is your number {i} favorite country? \")\n",
    "    fav_countries.append(country_name)\n",
    "    \n",
    "print(f\"My favorite countries are: {fav_countries}\")   "
   ]
  },
  {
   "cell_type": "code",
   "execution_count": null,
   "id": "a721aa08-8262-4ca7-8eef-4739411eb9f8",
   "metadata": {},
   "outputs": [],
   "source": []
  },
  {
   "cell_type": "code",
   "execution_count": null,
   "id": "b705a9b0-36bb-4427-a331-7a3fca9ba340",
   "metadata": {},
   "outputs": [],
   "source": []
  },
  {
   "cell_type": "markdown",
   "id": "387f181a-525e-42e2-9dd5-e4d6859fc723",
   "metadata": {},
   "source": [
    "### Introduction to pass, break, continue in Python loop\n",
    "\n",
    "In python, break, continue and pass are control flow statements that allow you to modify the execution of loops and conditional statements.\n",
    "\n",
    "* pass: Act as place holders and do nothing.\n",
    "* break: The break statement is used to exit a loop prematurely\n",
    "* continue: The continue statement is used to skip the rest of the code inside a loop"
   ]
  },
  {
   "cell_type": "code",
   "execution_count": null,
   "id": "972af2ce-5e82-4ddf-bfdb-167c3bd298bb",
   "metadata": {},
   "outputs": [],
   "source": []
  },
  {
   "cell_type": "code",
   "execution_count": null,
   "id": "f248bffe-2452-48d6-a2d8-40cd12c9940f",
   "metadata": {},
   "outputs": [],
   "source": []
  },
  {
   "cell_type": "markdown",
   "id": "0d93ebb4-8b8f-4870-81be-5cc9a34edeab",
   "metadata": {},
   "source": [
    "#### pass"
   ]
  },
  {
   "cell_type": "code",
   "execution_count": 8,
   "id": "636836fc-63ae-4899-aa0c-b7686795b029",
   "metadata": {},
   "outputs": [
    {
     "name": "stdout",
     "output_type": "stream",
     "text": [
      "My current task is to: wash dishes\n",
      "My current task is to: clean room\n",
      "My current task is to: take out trash\n"
     ]
    }
   ],
   "source": [
    "list_of_chores = [\"wash dishes\", \"clean room\", \"take out trash\"]\n",
    "for current_chore in list_of_chores:\n",
    "    if current_chore == \"clean room\":\n",
    "        pass                          #it will return everything as it is because you used pass\n",
    "    print(f\"My current task is to: {current_chore}\")"
   ]
  },
  {
   "cell_type": "code",
   "execution_count": null,
   "id": "7110a19f-b316-4e9e-a626-8b4c5be1ee5f",
   "metadata": {},
   "outputs": [],
   "source": []
  },
  {
   "cell_type": "code",
   "execution_count": 10,
   "id": "c845b46a-2550-473d-89be-24471181c123",
   "metadata": {},
   "outputs": [
    {
     "name": "stdout",
     "output_type": "stream",
     "text": [
      "My current task is to: wash dishes\n",
      "Play music with my headphone\n",
      "My current task is to: clean room\n",
      "My current task is to: take out trash\n"
     ]
    }
   ],
   "source": [
    "list_of_chores = [\"wash dishes\", \"clean room\", \"take out trash\"]\n",
    "for current_chore in list_of_chores:\n",
    "    if current_chore == \"clean room\":\n",
    "        print (\"Play music with my headphone\")                        \n",
    "    print(f\"My current task is to: {current_chore}\")"
   ]
  },
  {
   "cell_type": "code",
   "execution_count": null,
   "id": "546d245c-ad4a-4171-8251-52dc231eac44",
   "metadata": {},
   "outputs": [],
   "source": []
  },
  {
   "cell_type": "code",
   "execution_count": null,
   "id": "1ea2f6e0-d090-428b-85e0-16914e5d88bc",
   "metadata": {},
   "outputs": [],
   "source": []
  },
  {
   "cell_type": "markdown",
   "id": "102a7a2f-049d-45ff-a1a4-7cf26a0b0129",
   "metadata": {},
   "source": [
    "#### continue"
   ]
  },
  {
   "cell_type": "code",
   "execution_count": 14,
   "id": "0440e089-3bd1-4466-a93e-1bfae92520bc",
   "metadata": {},
   "outputs": [
    {
     "name": "stdout",
     "output_type": "stream",
     "text": [
      "My current task is to: wash dishes\n",
      "My current task is to: take out trash\n"
     ]
    }
   ],
   "source": [
    "list_of_chores = [\"wash dishes\", \"clean room\", \"take out trash\"]  ##let's say I want to skip cleaaning room\n",
    "for current_chore in list_of_chores:\n",
    "    if current_chore == \"clean room\":\n",
    "        continue                       \n",
    "    print(f\"My current task is to: {current_chore}\") "
   ]
  },
  {
   "cell_type": "code",
   "execution_count": null,
   "id": "a400736b-6032-4579-9dcb-ba100069776c",
   "metadata": {},
   "outputs": [],
   "source": []
  },
  {
   "cell_type": "code",
   "execution_count": null,
   "id": "a2847824-268f-45bb-921d-c428e947f18c",
   "metadata": {},
   "outputs": [],
   "source": []
  },
  {
   "cell_type": "markdown",
   "id": "4c1b94b1-ad76-4896-92d0-33d826a7c0cc",
   "metadata": {},
   "source": [
    "#### break"
   ]
  },
  {
   "cell_type": "code",
   "execution_count": 19,
   "id": "b1aa2106-5321-45a2-85a5-c1019a1ff065",
   "metadata": {},
   "outputs": [
    {
     "name": "stdout",
     "output_type": "stream",
     "text": [
      "My current task is to: wash dishes\n"
     ]
    }
   ],
   "source": [
    "list_of_chores = [\"wash dishes\", \"clean room\", \"take out trash\"]\n",
    "for current_chore in list_of_chores:\n",
    "    if current_chore == \"clean room\": #immediately i see clean room, don't continue to execute the ocodes\n",
    "        break                     \n",
    "    print(f\"My current task is to: {current_chore}\")"
   ]
  },
  {
   "cell_type": "code",
   "execution_count": null,
   "id": "dc5cee51-fa61-42c2-b77d-4089f4dd27fb",
   "metadata": {},
   "outputs": [],
   "source": []
  },
  {
   "cell_type": "code",
   "execution_count": null,
   "id": "2920f502-cb6e-4de5-a988-f62d626e6c72",
   "metadata": {},
   "outputs": [],
   "source": []
  },
  {
   "cell_type": "code",
   "execution_count": 21,
   "id": "c96848cf-2de0-47a7-8b40-6e41a96b7b75",
   "metadata": {},
   "outputs": [
    {
     "name": "stdin",
     "output_type": "stream",
     "text": [
      "Please enter your password:  MyNebiantPassword\n"
     ]
    },
    {
     "name": "stdout",
     "output_type": "stream",
     "text": [
      "Welcome back to Nebiant\n",
      "Program terminated....\n"
     ]
    }
   ],
   "source": [
    "number_of_trials = 3\n",
    "\n",
    "for i in range(number_of_trials):\n",
    "    password = input(\"Please enter your password: \")     #this will run 3 timeswhether or not the password is corrcect\n",
    "    if password == \"MyNebiantPassword\":\n",
    "        print (\"Welcome back to Nebiant\")\n",
    "        break                                           #Once the password is correct, then break. no need to run the enter password 2 more times\n",
    "    else:\n",
    "        print(\"The password no enter, abeg try again....\")\n",
    "        \n",
    "print(\"Program terminated....\")   "
   ]
  },
  {
   "cell_type": "code",
   "execution_count": null,
   "id": "c8066e9d-9420-40b4-802a-046e6690e2d7",
   "metadata": {},
   "outputs": [],
   "source": []
  },
  {
   "cell_type": "code",
   "execution_count": null,
   "id": "43c585ce-923b-42f2-8f9c-cbcf54b2eb58",
   "metadata": {},
   "outputs": [],
   "source": []
  },
  {
   "cell_type": "markdown",
   "id": "e9989f3a-210e-4a4b-80cf-aab4397b93bc",
   "metadata": {},
   "source": [
    "### While Loop\n",
    "\n",
    "In Python, the while loop is a versatile control flow statement that allows you to repeatedly execute a block of code as long as a specified condition remains true.\n",
    "Unlike the for loop, which iterates over a sequence of elements, the while loop continues as long as its associated condition holds true.\n",
    "\n",
    "while condition:\n",
    "    # Code to execute while condition remains true"
   ]
  },
  {
   "cell_type": "code",
   "execution_count": 24,
   "id": "919f68c2-3798-4e0d-a470-b2717e81a8c4",
   "metadata": {},
   "outputs": [
    {
     "data": {
      "text/plain": [
       "True"
      ]
     },
     "execution_count": 24,
     "metadata": {},
     "output_type": "execute_result"
    }
   ],
   "source": [
    "10>0"
   ]
  },
  {
   "cell_type": "code",
   "execution_count": 26,
   "id": "59b02edf-da78-4972-b0cc-66c2e39c7e03",
   "metadata": {},
   "outputs": [
    {
     "data": {
      "text/plain": [
       "False"
      ]
     },
     "execution_count": 26,
     "metadata": {},
     "output_type": "execute_result"
    }
   ],
   "source": [
    "0>0"
   ]
  },
  {
   "cell_type": "code",
   "execution_count": 36,
   "id": "a38d9175-be60-4660-bbbe-e5898dd01dd8",
   "metadata": {},
   "outputs": [
    {
     "data": {
      "text/plain": [
       "6"
      ]
     },
     "execution_count": 36,
     "metadata": {},
     "output_type": "execute_result"
    }
   ],
   "source": [
    "x = 5\n",
    "\n",
    "x+ 1 # what is x plus 1"
   ]
  },
  {
   "cell_type": "code",
   "execution_count": 38,
   "id": "2f8ade1f-1654-4535-b95c-c52f41a3d361",
   "metadata": {},
   "outputs": [],
   "source": [
    "x = x+1\n",
    "# or x+=1"
   ]
  },
  {
   "cell_type": "code",
   "execution_count": 40,
   "id": "f5f0c301-5736-4e77-b4d4-d199ce925cb8",
   "metadata": {},
   "outputs": [
    {
     "data": {
      "text/plain": [
       "6"
      ]
     },
     "execution_count": 40,
     "metadata": {},
     "output_type": "execute_result"
    }
   ],
   "source": [
    "x"
   ]
  },
  {
   "cell_type": "code",
   "execution_count": null,
   "id": "79efa8d3-791b-4c20-ba3e-4b9245bb71ce",
   "metadata": {},
   "outputs": [],
   "source": []
  },
  {
   "cell_type": "code",
   "execution_count": null,
   "id": "773e103d-79de-423d-aa21-9fabec6ee292",
   "metadata": {},
   "outputs": [],
   "source": []
  },
  {
   "cell_type": "code",
   "execution_count": 44,
   "id": "9fc97650-e4fc-4e86-9b3b-626f88d3e988",
   "metadata": {},
   "outputs": [
    {
     "name": "stdin",
     "output_type": "stream",
     "text": [
      "Enter the nuumber of days to your birthday 0\n"
     ]
    },
    {
     "name": "stdout",
     "output_type": "stream",
     "text": [
      "hooray! It is your birthday today....Happy birthday\n"
     ]
    }
   ],
   "source": [
    "days_until_birthday = int(input (\"Enter the nuumber of days to your birthday\"))\n",
    "\n",
    "while days_until_birthday > 0:\n",
    "    print(f\"Only {days_until_birthday} days unitl your birthday!\")\n",
    "    days_until_birthday = days_until_birthday - 1\n",
    "\n",
    "print(\"hooray! It is your birthday today....Happy birthday\")"
   ]
  },
  {
   "cell_type": "code",
   "execution_count": null,
   "id": "18c5c6cb-a09a-4f2c-b515-996212501e83",
   "metadata": {},
   "outputs": [],
   "source": []
  },
  {
   "cell_type": "code",
   "execution_count": null,
   "id": "03779d68-ae7d-4c70-b437-3882a9a33b34",
   "metadata": {},
   "outputs": [],
   "source": []
  },
  {
   "cell_type": "code",
   "execution_count": 52,
   "id": "bd600cc2-a554-415c-87ff-96629530a00b",
   "metadata": {},
   "outputs": [
    {
     "name": "stdin",
     "output_type": "stream",
     "text": [
      "Enter the number of properties to inspect today 0\n"
     ]
    },
    {
     "name": "stdout",
     "output_type": "stream",
     "text": [
      "Nice work today, you are done with your inspections\n"
     ]
    }
   ],
   "source": [
    "num_of_properties = int(input (\"Enter the number of properties to inspect today\"))\n",
    "while num_of_properties > 0:\n",
    "    print(f\"We just concluded property {num_of_properties}\")\n",
    "    num_of_properties = num_of_properties - 1 # or num_of_properties -=1\n",
    "print (\"Nice work today, you are done with your inspections\")\n",
    "    "
   ]
  },
  {
   "cell_type": "code",
   "execution_count": null,
   "id": "21db608a-9fbb-493f-9554-3470dbc9977e",
   "metadata": {},
   "outputs": [],
   "source": []
  },
  {
   "cell_type": "code",
   "execution_count": 78,
   "id": "8558e06f-5e8e-4a16-a502-e3625cbff715",
   "metadata": {},
   "outputs": [],
   "source": []
  },
  {
   "cell_type": "code",
   "execution_count": 88,
   "id": "f43935e5-100a-4e4a-97ad-ee8c6a006ac1",
   "metadata": {},
   "outputs": [
    {
     "name": "stdin",
     "output_type": "stream",
     "text": [
      "Are you ready to crack the secret number and win big (yes/no)?  yes\n",
      "Enter your guess here:  86769\n"
     ]
    },
    {
     "name": "stdout",
     "output_type": "stream",
     "text": [
      "Your guess is not correct, try again.\n"
     ]
    },
    {
     "name": "stdin",
     "output_type": "stream",
     "text": [
      "Enter your guess here:  5490\n"
     ]
    },
    {
     "name": "stdout",
     "output_type": "stream",
     "text": [
      "Congratulations! You have cracked the secret number: 5490\n",
      "Thanks for coming!\n"
     ]
    }
   ],
   "source": [
    "secret_number = 5490\n",
    "start_button = input(\"Are you ready to crack the secret number and win big (yes/no)? \")\n",
    "\n",
    "while start_button == \"yes\":\n",
    "    guess = int(input(\"Enter your guess here: \"))\n",
    "    if guess == secret_number:\n",
    "        print(f\"Congratulations! You have cracked the secret number: {secret_number}\")\n",
    "        break\n",
    "    else:\n",
    "        print(\"Your guess is not correct, try again.\")\n",
    "\n",
    "print(\"Thanks for coming!\")\n",
    "\n"
   ]
  },
  {
   "cell_type": "code",
   "execution_count": null,
   "id": "23e8307f-369c-470b-9811-f7f7a3efa309",
   "metadata": {},
   "outputs": [],
   "source": []
  },
  {
   "cell_type": "code",
   "execution_count": null,
   "id": "1c2f7f56-7c07-4d3f-b71c-ad0b6ff89d5a",
   "metadata": {},
   "outputs": [],
   "source": []
  },
  {
   "cell_type": "code",
   "execution_count": null,
   "id": "a352ef01-523d-41ca-b8f7-10bdabe43c0f",
   "metadata": {},
   "outputs": [],
   "source": [
    "secret_number = 5490\n",
    "start_button = input(\"Are you ready to crack the secret number and win big (yes/no)? \")\n",
    "number_of_trials = 3\n",
    "\n",
    "while start_button == \"yes\" and number_of_trials > 0:\n",
    "    guess = int(input(\"Enter your guess here: \"))\n",
    "    if guess == secret_number:\n",
    "        print(f\"Congratulations! You have cracked the secret number: {secret_number}\")\n",
    "        break\n",
    "    else:\n",
    "        print(\"Your guess is not correct, try again.\")\n",
    "        \n",
    "    number_of_trials -=1\n",
    "\n",
    "print(\"Thanks for coming!\")"
   ]
  },
  {
   "cell_type": "code",
   "execution_count": null,
   "id": "bbe68ed6-b10f-4b6f-834f-cb8bf957e135",
   "metadata": {},
   "outputs": [],
   "source": []
  },
  {
   "cell_type": "code",
   "execution_count": null,
   "id": "b84fce09-c243-4658-9db4-402cf7aa350f",
   "metadata": {},
   "outputs": [],
   "source": []
  },
  {
   "cell_type": "markdown",
   "id": "1a182a01-a0fd-4e9b-ba6a-58b3d9dfeaa4",
   "metadata": {},
   "source": [
    "### Introduction to Functions in Python:\n",
    "\n",
    "In Python, a function is a reuseable block of code that performs a specific tasks or set of tasks. Functions allow you to   break down a program into smaller, manageable \n",
    "pieces, making your code more modular, readable and easier to maintain.\n",
    "Functions are a fundamental concept in programing that promotes <b>code organization and reuseability</b>.\n",
    "\n",
    "<b>def:</b> This keyword is used to define a function.\n",
    "\n",
    "<b>function_name:</b>Choose a descriptive name for your function, following Python naming conventions.\n",
    "\n",
    "<b>parameters:</b> Input values that the function can accept (optional)\n",
    "\n",
    "<b>Docstring:</b> An optional multiline string that provides documentation for the function's purpose, parameters and usage.\n",
    "\n",
    "<b>Code Block:</b> The indented block of code contains the actual logic of the function.\n",
    "\n",
    "<b>return:</b> The return statement is used to specify the value(s) that the function should output. \n",
    "A function may not have a return statement, in which case it returns None by default.\n",
    "\n",
    "In Python, there are two main categories of functions you can use.\n",
    "\n",
    "1. Built-in Functions:\n",
    "* These functions come built-in with the Python language itself.\n",
    "* You don't need to write any code to define them: they're readily available for use.\n",
    "* Built-in functions handle a variety of common programming tasks, like mathematical operations(e.g.,abs[), max]),\n",
    "data type conversions (e.g., int(),str() ,string manipulation (e.g., len(),find()), and more.\n",
    "\n",
    "2. Custom Functions (User-Defined Functions):\n",
    "* Programmer-defined: You create custom functions using the def keyword to define a block of code that performs a specific task.\n",
    "* Reusable Code: Custom functions allow you to write reusable blocks of code that you can call from different parts of your program.\n",
    "* This promotes code modularity and reduces redundancy.\n",
    "* Specific Tasks: You can tailor custom functions to your program's specific needs. They can handle complex calculations, interact with external data sources,\n",
    "or perform specialized actions."
   ]
  },
  {
   "cell_type": "code",
   "execution_count": 95,
   "id": "216d6c89-676b-4e02-9a39-3a28e64fff4d",
   "metadata": {},
   "outputs": [
    {
     "data": {
      "text/plain": [
       "2"
      ]
     },
     "execution_count": 95,
     "metadata": {},
     "output_type": "execute_result"
    }
   ],
   "source": [
    "len(\"Hi\") # the Hi is your parameter"
   ]
  },
  {
   "cell_type": "code",
   "execution_count": 97,
   "id": "6d371cae-a667-46af-8015-aa80a18edda3",
   "metadata": {},
   "outputs": [
    {
     "data": {
      "text/plain": [
       "24"
      ]
     },
     "execution_count": 97,
     "metadata": {},
     "output_type": "execute_result"
    }
   ],
   "source": [
    "abs(-24) #anything bracket is a function"
   ]
  },
  {
   "cell_type": "code",
   "execution_count": 99,
   "id": "b9057949-f3ff-4844-ab58-9624d17fbfe1",
   "metadata": {},
   "outputs": [
    {
     "data": {
      "text/plain": [
       "'this is some strings'"
      ]
     },
     "execution_count": 99,
     "metadata": {},
     "output_type": "execute_result"
    }
   ],
   "source": [
    "\"THIS IS SOME STRINGS\".lower() #when you expect it to return a value"
   ]
  },
  {
   "cell_type": "markdown",
   "id": "afb93a23-2851-427d-9bdc-2390621c8db8",
   "metadata": {},
   "source": [
    "1.\n",
    "Definition: A parameter is a special kind of variable defined in the function definition. It acts as a placeholder that accepts values (arguments) when the function is called.\n",
    "Role: It provides input to a function, helping it process different data without rewriting the function itself.\n",
    "\n",
    "def greet(name):  # 'name' is a parameter\n",
    "    print(f\"Hello, {name}!\")\n",
    "    \n",
    "greet(\"Alice\")  # 'Alice' is an argument passed to the parameter 'name'\n",
    "Here, name is a parameter in the function definition. When we call greet(\"Alice\"), \"Alice\" is passed to the parameter name, and the function prints \"Hello, Alice!\"\n",
    "\n",
    "2. Variable:\n",
    "Definition: A variable is a name that refers to a value stored in memory. It can hold any data (such as a number, string, list, etc.) and is used throughout the code.\n",
    "Role: It stores data that your program can use and manipulate.\n",
    "\n",
    " age = 25  # 'age' is a variable storing the value 25\n",
    "print(age)\n",
    "\n"
   ]
  },
  {
   "cell_type": "code",
   "execution_count": null,
   "id": "3f2c7e57-d471-4d05-9559-c8bc9beb958e",
   "metadata": {},
   "outputs": [],
   "source": []
  },
  {
   "cell_type": "code",
   "execution_count": 103,
   "id": "99c92bd0-4605-418a-8e22-dbc65c7c3f0a",
   "metadata": {},
   "outputs": [],
   "source": [
    "# Function with parameter\n",
    "\n",
    "def greetings(name):\n",
    "    \"\"\" This function greets the user by name.\"\"\"\n",
    "    print(f\"Welcome {name}\")\n",
    "    "
   ]
  },
  {
   "cell_type": "code",
   "execution_count": 105,
   "id": "f33b07dd-c8b4-43a6-bb97-5adc12c27e99",
   "metadata": {},
   "outputs": [
    {
     "name": "stdout",
     "output_type": "stream",
     "text": [
      "Welcome Oluwadamilola\n"
     ]
    }
   ],
   "source": [
    "greetings(\"Oluwadamilola\")"
   ]
  },
  {
   "cell_type": "code",
   "execution_count": null,
   "id": "58a19b92-2636-4e17-9688-8800105e2829",
   "metadata": {},
   "outputs": [],
   "source": []
  },
  {
   "cell_type": "code",
   "execution_count": null,
   "id": "0b146f89-a45d-4987-8639-8aba60e3d9ba",
   "metadata": {},
   "outputs": [],
   "source": []
  },
  {
   "cell_type": "code",
   "execution_count": 123,
   "id": "36a45887-03f6-4dae-93cf-04835f98e752",
   "metadata": {},
   "outputs": [],
   "source": [
    "# Function without parameter\n",
    "def greetings():\n",
    "    \"\"\"This function prompts the user to enter their name and greets them by name.\"\"\"\n",
    "    name = input(\"Enter your name: \")\n",
    "    print(f\"Welcome {name}\")\n"
   ]
  },
  {
   "cell_type": "code",
   "execution_count": 127,
   "id": "ab4e9253-9a9a-435e-aa6d-35090ed59076",
   "metadata": {},
   "outputs": [
    {
     "name": "stdin",
     "output_type": "stream",
     "text": [
      "Enter your name:  Oluwadamilola\n"
     ]
    },
    {
     "name": "stdout",
     "output_type": "stream",
     "text": [
      "Welcome Oluwadamilola\n"
     ]
    }
   ],
   "source": [
    "greetings()"
   ]
  },
  {
   "cell_type": "code",
   "execution_count": null,
   "id": "a906b7be-ed8b-4f93-b3f9-117ca79bef73",
   "metadata": {},
   "outputs": [],
   "source": []
  },
  {
   "cell_type": "code",
   "execution_count": null,
   "id": "64a6a4f6-7858-4828-9227-590093359931",
   "metadata": {},
   "outputs": [],
   "source": []
  },
  {
   "cell_type": "code",
   "execution_count": 147,
   "id": "e0bf8fef-7d02-448f-8afe-c070a8383bf1",
   "metadata": {},
   "outputs": [],
   "source": [
    "def even_or_odd(number):\n",
    "    if number % 2 == 0:\n",
    "        return \"Even\"\n",
    "    else:\n",
    "        return \"Odd\""
   ]
  },
  {
   "cell_type": "code",
   "execution_count": 153,
   "id": "4e3901fa-9bd0-491f-8b92-efd76282baa1",
   "metadata": {},
   "outputs": [
    {
     "name": "stdin",
     "output_type": "stream",
     "text": [
      "Enter a number to check:  9\n"
     ]
    },
    {
     "name": "stdout",
     "output_type": "stream",
     "text": [
      "The number 9 is an Odd\n"
     ]
    }
   ],
   "source": [
    "number_to_check = int(input(\"Enter a number to check: \"))\n",
    "result = even_or_odd(number_to_check)\n",
    "print(f\"The number {number_to_check} is an {result}\")"
   ]
  },
  {
   "cell_type": "code",
   "execution_count": null,
   "id": "8f851f16-7657-4d01-a58f-92484bc9ef6d",
   "metadata": {},
   "outputs": [],
   "source": []
  },
  {
   "cell_type": "code",
   "execution_count": 169,
   "id": "8ccbedc2-f14a-4ff4-8b58-c8e8986c8bad",
   "metadata": {},
   "outputs": [],
   "source": [
    "def area_of_circle(radius):\n",
    "    pi = 3.14\n",
    "    area = pi * (radius**2)\n",
    "    return area"
   ]
  },
  {
   "cell_type": "code",
   "execution_count": 173,
   "id": "095a81e5-321b-43bd-9ef5-355c34d582f5",
   "metadata": {},
   "outputs": [
    {
     "name": "stdin",
     "output_type": "stream",
     "text": [
      "Enter the radius of your circle 2\n"
     ]
    },
    {
     "name": "stdout",
     "output_type": "stream",
     "text": [
      "The area of a circle with radius 2.0 is: 12.56\n"
     ]
    }
   ],
   "source": [
    "radius_to_check = float(input(\"Enter the radius of your circle\"))\n",
    "\n",
    "area_result = area_of_circle(radius_to_check)\n",
    "print(f\"The area of a circle with radius {radius_to_check} is: {area_result}\")"
   ]
  },
  {
   "cell_type": "code",
   "execution_count": null,
   "id": "bc3c0134-f976-476e-b155-a3e582389acb",
   "metadata": {},
   "outputs": [],
   "source": []
  },
  {
   "cell_type": "code",
   "execution_count": 185,
   "id": "c9db6d40-7e45-42a2-b264-aa8e115c0878",
   "metadata": {},
   "outputs": [],
   "source": [
    "def secret_number_game(secret_number, number_of_trials):\n",
    "    while number_of_trials > 0:\n",
    "        guess = int(input(\"Enter your guess here: \"))\n",
    "        if guess == secret_number:\n",
    "            return True\n",
    "        else:\n",
    "            number_of_trials -= 1\n",
    "    return False\n",
    "            "
   ]
  },
  {
   "cell_type": "code",
   "execution_count": null,
   "id": "e310baa2-360b-449b-b2d6-08a9903dce75",
   "metadata": {},
   "outputs": [],
   "source": []
  },
  {
   "cell_type": "code",
   "execution_count": 189,
   "id": "d077cbdf-84a4-415c-8b91-4c0b89641c2d",
   "metadata": {},
   "outputs": [
    {
     "name": "stdin",
     "output_type": "stream",
     "text": [
      "Are you ready to crack the secret number and win big (yes/no)?  yes\n",
      "Enter your guess here:  5490\n"
     ]
    },
    {
     "name": "stdout",
     "output_type": "stream",
     "text": [
      "Congratulations! You have cracked the secret number: 5490\n",
      "Thanks for coming\n"
     ]
    }
   ],
   "source": [
    "secret_number = 5490\n",
    "number_of_trials = 3\n",
    "\n",
    "start_button = input(\"Are you ready to crack the secret number and win big (yes/no)? \")\n",
    "if start_button == \"yes\":\n",
    "    guessed_correctly = secret_number_game(secret_number, number_of_trials)\n",
    "    if guessed_correctly == True:\n",
    "        print(f\"Congratulations! You have cracked the secret number: {secret_number}\")\n",
    "    else:\n",
    "        print(\"Your guess is not correct, try again.\")\n",
    "print (\"Thanks for coming\")        "
   ]
  },
  {
   "cell_type": "code",
   "execution_count": null,
   "id": "9dcd04c8-9222-41be-846c-986eebd34ffd",
   "metadata": {},
   "outputs": [],
   "source": []
  },
  {
   "cell_type": "markdown",
   "id": "915900c1-7269-4ca8-b943-b1505056c61f",
   "metadata": {},
   "source": [
    "### Filter, Map and Lambda Function\n",
    "\n",
    "<b>Filter Function:</b>\n",
    "\n",
    "Filters elements from an iterable(like list, tuple, or string based on a condition.)\n",
    "\n",
    "How it Works?\n",
    "* Takes two arguments:\n",
    "* * A function that defines the filtering condition. This function typically takes one element from the iterable and returns True if the element should be included in\n",
    "the filtered result, False otherwise.\n",
    "* * The iterable to be filtered (e,g list, tuple, etc).\n",
    "\n",
    "It iterates through the iterable and applies the condition function to each element.\n",
    "It returns a new iterator containing only the elements that evaluated to True in the condition function.\n",
    "\n"
   ]
  },
  {
   "cell_type": "code",
   "execution_count": 192,
   "id": "b8e44ea6-198e-4f80-a2cb-25204521c103",
   "metadata": {},
   "outputs": [],
   "source": [
    "def func(name,age):\n",
    "    print (age,name) ## name and age are parameters here"
   ]
  },
  {
   "cell_type": "code",
   "execution_count": 196,
   "id": "4d0d2c9f-3977-4bbd-b06c-12de16421f2f",
   "metadata": {},
   "outputs": [
    {
     "name": "stdout",
     "output_type": "stream",
     "text": [
      "18 Oluwadamilola\n"
     ]
    }
   ],
   "source": [
    "func (\"Oluwadamilola\",18) # when calling them i.e parameters it is called arguments. it takes two aruments"
   ]
  },
  {
   "cell_type": "code",
   "execution_count": null,
   "id": "4c62f821-2ba3-4616-9f34-4cdc177baf87",
   "metadata": {},
   "outputs": [],
   "source": []
  },
  {
   "cell_type": "code",
   "execution_count": 202,
   "id": "019c5421-2a8a-4a58-bba3-496da715b005",
   "metadata": {},
   "outputs": [],
   "source": [
    "def  is_even(num):\n",
    "    result = num % 2 == 0\n",
    "    return result"
   ]
  },
  {
   "cell_type": "code",
   "execution_count": 204,
   "id": "d59fa1a2-0a50-4633-8f06-765b734bdea3",
   "metadata": {},
   "outputs": [],
   "source": [
    "numbers = [1,2,3,4,5,6,7,8,9]"
   ]
  },
  {
   "cell_type": "code",
   "execution_count": 208,
   "id": "c9a12253-7b4d-449f-ac39-4b5f52efcee3",
   "metadata": {},
   "outputs": [],
   "source": [
    "filtered_result= filter(is_even, numbers)"
   ]
  },
  {
   "cell_type": "code",
   "execution_count": 210,
   "id": "4b7af209-d4db-4328-8822-b1ed30e5ec1a",
   "metadata": {},
   "outputs": [
    {
     "data": {
      "text/plain": [
       "[2, 4, 6, 8]"
      ]
     },
     "execution_count": 210,
     "metadata": {},
     "output_type": "execute_result"
    }
   ],
   "source": [
    "list(filtered_result)"
   ]
  },
  {
   "cell_type": "code",
   "execution_count": null,
   "id": "cfed5f88-00e2-430c-be5f-4bf897ed8303",
   "metadata": {},
   "outputs": [],
   "source": []
  },
  {
   "cell_type": "code",
   "execution_count": 214,
   "id": "6fdfb286-5dca-492b-9ee3-4c6e1a09913f",
   "metadata": {},
   "outputs": [],
   "source": [
    "customers_age = [13, 23, 14, 24, 32, 16, 38, 19, 11]\n",
    "\n",
    "def adult_filter (age):\n",
    "    result = age > 18\n",
    "    return result\n"
   ]
  },
  {
   "cell_type": "code",
   "execution_count": 218,
   "id": "c1e99dd7-8246-4d41-9c31-ea30f188ddd1",
   "metadata": {},
   "outputs": [
    {
     "data": {
      "text/plain": [
       "[23, 24, 32, 38, 19]"
      ]
     },
     "execution_count": 218,
     "metadata": {},
     "output_type": "execute_result"
    }
   ],
   "source": [
    "adult_list = list(filter(adult_filter, customers_age))\n",
    "adult_list"
   ]
  },
  {
   "cell_type": "code",
   "execution_count": null,
   "id": "bf054daf-c311-4642-8792-251c41a312b2",
   "metadata": {},
   "outputs": [],
   "source": []
  },
  {
   "cell_type": "code",
   "execution_count": null,
   "id": "cfa5dbbc-d56d-4b74-975f-671e1faace21",
   "metadata": {},
   "outputs": [],
   "source": []
  },
  {
   "cell_type": "code",
   "execution_count": 222,
   "id": "e7611868-2873-4e84-b1eb-53b705e31521",
   "metadata": {},
   "outputs": [
    {
     "data": {
      "text/plain": [
       "True"
      ]
     },
     "execution_count": 222,
     "metadata": {},
     "output_type": "execute_result"
    }
   ],
   "source": [
    "\"Obi\" in \"Adekunle Obinna\""
   ]
  },
  {
   "cell_type": "code",
   "execution_count": 220,
   "id": "838d5d1f-0609-4867-8c38-21a7d9d547e1",
   "metadata": {},
   "outputs": [],
   "source": [
    "customer_names = (\"Adekunle Obi\", \"Chike Obi\", \"Olamide Rabiu\", \"Phyno Bolaji\", \"Adewale Obi\", \"Flora Obi\", \"Sewa Ade\")"
   ]
  },
  {
   "cell_type": "code",
   "execution_count": 224,
   "id": "59a369df-8ffb-4db1-b096-e5d7b3fcb79a",
   "metadata": {},
   "outputs": [],
   "source": [
    "def name_filter (name):\n",
    "    result = \"Obi\" in name\n",
    "    return result"
   ]
  },
  {
   "cell_type": "code",
   "execution_count": 226,
   "id": "c542d454-56c3-41e3-b122-1e92f5009d3d",
   "metadata": {},
   "outputs": [
    {
     "name": "stdout",
     "output_type": "stream",
     "text": [
      "['Adekunle Obi', 'Chike Obi', 'Adewale Obi', 'Flora Obi']\n"
     ]
    }
   ],
   "source": [
    "filtered_names = list(filter(name_filter, customer_names))\n",
    "print (filtered_names)"
   ]
  },
  {
   "cell_type": "code",
   "execution_count": null,
   "id": "d55a5f31-5d54-4724-b08e-9a0d61f18ee5",
   "metadata": {},
   "outputs": [],
   "source": []
  },
  {
   "cell_type": "markdown",
   "id": "bab5ca07-0a05-4eb6-b364-ff1de63482a4",
   "metadata": {},
   "source": [
    "### Map Function:\n",
    "Applies a function to all elements of an iterable and returns a new iterator with the results.\n",
    "\n",
    "How it Works:\n",
    "\n",
    "* Takes two arguments:\n",
    "* * A function that defines the operation to be applied to each element.\n",
    "* * The iterable to be processed.\n",
    "\n",
    "It iterates through the iterable and applies the function to each element.\n",
    "It returns a new iterator containing the results of applying the function to each element in the original iterable.\n",
    "    "
   ]
  },
  {
   "cell_type": "code",
   "execution_count": null,
   "id": "af645354-da34-4c43-bab0-33df55ec6b83",
   "metadata": {},
   "outputs": [],
   "source": []
  },
  {
   "cell_type": "code",
   "execution_count": 229,
   "id": "a4336f15-09fa-4a29-997d-6c243271f066",
   "metadata": {},
   "outputs": [
    {
     "data": {
      "text/plain": [
       "[1, 4, 9, 16, 25, 36]"
      ]
     },
     "execution_count": 229,
     "metadata": {},
     "output_type": "execute_result"
    }
   ],
   "source": [
    "numbers = [1,2,3,4,5,6]\n",
    "\n",
    "def square(num):\n",
    "    result = num**2\n",
    "    return result\n",
    "squared_numbers = list (map(square,numbers))\n",
    "squared_numbers\n",
    "    "
   ]
  },
  {
   "cell_type": "code",
   "execution_count": null,
   "id": "22b27f19-eaf3-407f-bd18-9fce9c30c0ba",
   "metadata": {},
   "outputs": [],
   "source": []
  },
  {
   "cell_type": "code",
   "execution_count": null,
   "id": "391385db-35e6-48fb-b3a5-53fa75bb1803",
   "metadata": {},
   "outputs": [],
   "source": []
  },
  {
   "cell_type": "code",
   "execution_count": null,
   "id": "cbe70013-67e2-47db-aacf-80d8665709bd",
   "metadata": {},
   "outputs": [],
   "source": [
    "\n",
    "customer_names = (\"Adekunle Obi\", \"Chike Obi\", \"Olamide Rabiu\", \"Phyno Bolaji\", \"Adewale Obi\", \"Flora Obi\", \"Sewa Ade\")\n",
    "\n"
   ]
  },
  {
   "cell_type": "code",
   "execution_count": 231,
   "id": "536a07a7-468a-4f47-903c-f1cf80bba3cb",
   "metadata": {},
   "outputs": [
    {
     "name": "stdout",
     "output_type": "stream",
     "text": [
      "['ADEKUNLE OBI', 'CHIKE OBI', 'OLAMIDE RABIU', 'PHYNO BOLAJI', 'ADEWALE OBI', 'FLORA OBI', 'SEWA ADE']\n"
     ]
    }
   ],
   "source": [
    "def upper_case(name):\n",
    "    result = name.upper()\n",
    "    return result\n",
    "upper_names = list(map(upper_case,customer_names))\n",
    "print(upper_names)"
   ]
  },
  {
   "cell_type": "code",
   "execution_count": null,
   "id": "88ace486-6b35-47c0-8bf6-5680c830cf6b",
   "metadata": {},
   "outputs": [],
   "source": []
  },
  {
   "cell_type": "code",
   "execution_count": 237,
   "id": "4da937cf-ab1a-48c3-9ba2-79eb2af24826",
   "metadata": {},
   "outputs": [],
   "source": [
    "sentence = \"This is a sample sentence\"\n",
    "\n",
    "split_sentence= sentence.split(\" \")"
   ]
  },
  {
   "cell_type": "code",
   "execution_count": 239,
   "id": "ffa73cce-c252-48f7-aa07-bad53051c185",
   "metadata": {},
   "outputs": [
    {
     "data": {
      "text/plain": [
       "[4, 2, 1, 6, 8]"
      ]
     },
     "execution_count": 239,
     "metadata": {},
     "output_type": "execute_result"
    }
   ],
   "source": [
    "word_lenght = list(map(len,split_sentence))\n",
    "word_lenght"
   ]
  },
  {
   "cell_type": "code",
   "execution_count": null,
   "id": "3c3661e3-afab-4b1d-961f-bfae4fec7816",
   "metadata": {},
   "outputs": [],
   "source": []
  },
  {
   "cell_type": "markdown",
   "id": "e7db48e3-d61f-4f78-ba4b-a6a5ed0aedd2",
   "metadata": {},
   "source": [
    "### Lambda Function:\n",
    "Defines a small, anonymous function on the fly. Often used with filter and map for concise code\n",
    "\n",
    "How it Works:\n",
    "\n",
    "* Uses the lambda keyword followed by arguments, a colon (:) and the expression to be evaluated.\n",
    "* Can't have zero or more arguments.\n",
    "* Defined within the same line where it's used\n",
    "* Useful for short, throaway functions needed for a specific task."
   ]
  },
  {
   "cell_type": "code",
   "execution_count": 248,
   "id": "8c494ef3-f208-4b05-aca9-9b836ed0a68c",
   "metadata": {},
   "outputs": [
    {
     "data": {
      "text/plain": [
       "[2, 4, 6]"
      ]
     },
     "execution_count": 248,
     "metadata": {},
     "output_type": "execute_result"
    }
   ],
   "source": [
    "list(filter(lambda num: num % 2 == 0, numbers ))"
   ]
  },
  {
   "cell_type": "code",
   "execution_count": null,
   "id": "1c7dfc9c-e4c6-4196-8022-2a0786448e8f",
   "metadata": {},
   "outputs": [],
   "source": []
  },
  {
   "cell_type": "code",
   "execution_count": 252,
   "id": "4f9c0953-7716-4bf1-80bc-9f7af8db6120",
   "metadata": {},
   "outputs": [],
   "source": [
    "customer_names = (\"Adekunle Obi\", \"Chike Obi\", \"Olamide Rabiu\", \"Phyno Bolaji\", \"Adewale Obi\", \"Flora Obi\", \"Sewa Ade\")"
   ]
  },
  {
   "cell_type": "code",
   "execution_count": 256,
   "id": "fa04ff8b-f45b-49ad-bf24-8d79ce14573e",
   "metadata": {},
   "outputs": [
    {
     "data": {
      "text/plain": [
       "['Adekunle Obi', 'Olamide Rabiu', 'Phyno Bolaji', 'Adewale Obi']"
      ]
     },
     "execution_count": 256,
     "metadata": {},
     "output_type": "execute_result"
    }
   ],
   "source": [
    "list(filter(lambda name: len(name) > 10, customer_names ))"
   ]
  },
  {
   "cell_type": "code",
   "execution_count": null,
   "id": "d58f5cde-49c8-4055-af71-32e15ee97753",
   "metadata": {},
   "outputs": [],
   "source": []
  },
  {
   "cell_type": "code",
   "execution_count": null,
   "id": "019dd5e5-3d1f-4acc-a60f-9331b56fa8fd",
   "metadata": {},
   "outputs": [],
   "source": []
  },
  {
   "cell_type": "code",
   "execution_count": 266,
   "id": "f991b113-8910-4472-91f1-480a268c7c2c",
   "metadata": {},
   "outputs": [
    {
     "data": {
      "text/plain": [
       "['Ade Kola', 'Ada Chukwuma', 'Adamu Isa']"
      ]
     },
     "execution_count": 266,
     "metadata": {},
     "output_type": "execute_result"
    }
   ],
   "source": [
    "first_names = [\"Ade\", \"Ada\", \"Adamu\"]\n",
    "last_names = [\"Kola\", \"Chukwuma\", \"Isa\"]\n",
    "\n",
    "list(map(lambda fname, lname: f\"{fname} {lname}\", first_names, last_names))"
   ]
  },
  {
   "cell_type": "code",
   "execution_count": null,
   "id": "9de1fff7-ba4a-4040-93d6-3f233f5d6062",
   "metadata": {},
   "outputs": [],
   "source": []
  },
  {
   "cell_type": "code",
   "execution_count": null,
   "id": "24b4228a-afb9-4b8c-b14d-dd24b314e37e",
   "metadata": {},
   "outputs": [],
   "source": []
  }
 ],
 "metadata": {
  "kernelspec": {
   "display_name": "Python 3 (ipykernel)",
   "language": "python",
   "name": "python3"
  },
  "language_info": {
   "codemirror_mode": {
    "name": "ipython",
    "version": 3
   },
   "file_extension": ".py",
   "mimetype": "text/x-python",
   "name": "python",
   "nbconvert_exporter": "python",
   "pygments_lexer": "ipython3",
   "version": "3.12.4"
  }
 },
 "nbformat": 4,
 "nbformat_minor": 5
}
